{
 "cells": [
  {
   "cell_type": "markdown",
   "metadata": {},
   "source": [
    "# HW5_2 - Neural Networks\n",
    "\n",
    "Learning contents:\n",
    "1. Detailed example: Two-layer MLP for regression\n",
    "    - Forward pass: Calculate the values of $z_1$, $z_2$, and $y$\n",
    "    - Compute the mean squared error\n",
    "    - Using backpropagation, compute the gradient or the error w.r.t the weights $w^{(2)}_2$ and $w^{(1)}_{2,2}$ \n",
    "    - Compute the updated weights for $w^{(2)}_2$ and $w^{(1)}_{2,2}$ \n",
    "2. PyTorch: 2-layer MLP for classification\n",
    "    - Create and train a 2-layer MLP"
   ]
  },
  {
   "cell_type": "markdown",
   "metadata": {},
   "source": [
    "# 1) Detailed example: Two-layer MLP for regression\n",
    "We'll be working through a forward and back-propagation example in all its details for a 2-layer MLP for regression. Our network has the following structure:\n",
    "\n",
    "![](two-layer-nn.svg)\n",
    "\n",
    "Where \n",
    "    \\begin{equation*}\n",
    "    z_j = \\text{ReLU}\\left(a_j \\right)\n",
    "    \\qquad\n",
    "    a_j = \\sum_i w^{(1)}_{ij} x_i\n",
    "    \\qquad\n",
    "    y_j = \\sum_i w^{(2)}_{ij} z_i\n",
    "    \\end{equation*}\n",
    "and the biases \n",
    "    \\begin{equation*}\n",
    "    x_0 = z_0 = 1\n",
    "    \\end{equation*}\n",
    "\n",
    "Suppose, we have the weights\n",
    "    \\begin{equation*}\n",
    "    \\mathbf{W}^{(1)} = \\left[ \n",
    "        \\begin{matrix}\n",
    "        0.1 & 0.2\\\\\n",
    "        -1.1 & 1.2\\\\\n",
    "        -2.1 & 2.2\n",
    "        \\end{matrix}\n",
    "    \\right]\n",
    "    \\qquad\n",
    "    \\mathbf{w}^{(2)} = \\left[ \n",
    "        \\begin{matrix}\n",
    "        -0.1\\\\\n",
    "        1.1 \\\\\n",
    "        2.2\n",
    "        \\end{matrix}\n",
    "    \\right]\n",
    "    \\end{equation*}\n",
    "Notice that the bias weights are included in the weight matrix. Relating it to the drawing, we have $w_{0,1} = 0.1$, $w_{1,2} = 1.2$\n",
    "\n",
    "Moreover, we are given an input\n",
    "    \\begin{equation*}\n",
    "    \\mathbf{x} = \\left[ \n",
    "        \\begin{matrix}\n",
    "        0.1 \\\\\n",
    "        0.2\n",
    "        \\end{matrix}\n",
    "    \\right]\n",
    "    \\end{equation*}\n",
    "    \n",
    "Relating these to the drawing, we have $w^{(1)}_{1,2} = 1.2$ and $x_1 = 0.1$"
   ]
  },
  {
   "cell_type": "markdown",
   "metadata": {},
   "source": [
    "## 1.1) Forward pass: Calculate the values of $z_1$, $z_2$, and $y$"
   ]
  },
  {
   "cell_type": "code",
   "execution_count": 16,
   "metadata": {},
   "outputs": [],
   "source": [
    "import torch\n",
    "x=torch.tensor([[0.1],[0.2]])\n",
    "\n",
    "W1=torch.tensor([\n",
    "    [0.1,0.2],\n",
    "    [-1.1,1.2],\n",
    "    [-2.1,2.2]\n",
    "], requires_grad=True\n",
    ")\n",
    "\n",
    "w2=torch.tensor([\n",
    "    [-0.1],\n",
    "    [1.1],\n",
    "    [2.1]\n",
    "], requires_grad=True\n",
    ")\n",
    "\n",
    "def augment(x):\n",
    "    return torch.cat([torch.ones(1).unsqueeze(0),x])\n",
    "\n",
    "    augment(x)"
   ]
  },
  {
   "cell_type": "code",
   "execution_count": 17,
   "metadata": {},
   "outputs": [
    {
     "name": "stdout",
     "output_type": "stream",
     "text": [
      "a=tensor([[-0.4300],\n",
      "        [ 0.7600]], grad_fn=<MmBackward0>)\n",
      "z=tensor([[0.0000],\n",
      "        [0.7600]], grad_fn=<ReluBackward0>)\n",
      "y=tensor([[1.4960]], grad_fn=<MmBackward0>)\n"
     ]
    }
   ],
   "source": [
    "a=W1.t().mm(augment(x))\n",
    "print(f\"a={a}\")\n",
    "\n",
    "z=torch.nn.functional.relu(a)\n",
    "print(f\"z={z}\")\n",
    "\n",
    "y=w2.t().mm(augment(z))\n",
    "print(f\"y={y}\")"
   ]
  },
  {
   "cell_type": "markdown",
   "metadata": {},
   "source": [
    "## 1.2) Compute the mean squared error\n",
    "Suppose our target $t=2$."
   ]
  },
  {
   "cell_type": "code",
   "execution_count": 18,
   "metadata": {},
   "outputs": [
    {
     "data": {
      "text/plain": [
       "tensor([[0.1270]], grad_fn=<MulBackward0>)"
      ]
     },
     "execution_count": 18,
     "metadata": {},
     "output_type": "execute_result"
    }
   ],
   "source": [
    "t=torch.tensor([2])\n",
    "E=0.5*(y-t)**2\n",
    "E"
   ]
  },
  {
   "cell_type": "markdown",
   "metadata": {},
   "source": [
    "## 1.3) Using backpropagation, compute the gradient or the error w.r.t the weights $w^{(2)}_2$ and $w^{(1)}_{2,2}$ \n",
    "This corresponds to the bottom row of weights on the figure"
   ]
  },
  {
   "cell_type": "code",
   "execution_count": 25,
   "metadata": {},
   "outputs": [
    {
     "name": "stdout",
     "output_type": "stream",
     "text": [
      "dEdw^2_1=tensor([[-0.3830]], grad_fn=<MulBackward0>)\n",
      "dEdw^2_2=tensor([[-0.2117]], grad_fn=<MulBackward0>)\n"
     ]
    }
   ],
   "source": [
    "dEdy= y-t\n",
    "dydw2_2= z[1]\n",
    "\n",
    "dEdw2_2 = dEdy*dydw2_2\n",
    "print(f\"dEdw^{(2)}_1={dEdw2_2}\")\n",
    "\n",
    "dydz2=w2[2]\n",
    "\n",
    "dz2da2=1\n",
    "\n",
    "da2w1_22=x[1]\n",
    "\n",
    "dEw1_22=dEdy*dydz2*dz2da2*da2w1_22\n",
    "print(f\"dEdw^2_2={dEw1_22}\")"
   ]
  },
  {
   "cell_type": "markdown",
   "metadata": {},
   "source": [
    "## 1.4) Compute the updated weights for $w^{(2)}_2$ and $w^{(1)}_{2,2}$ \n",
    "Use a learning rate $\\eta = 0.1$ "
   ]
  },
  {
   "cell_type": "code",
   "execution_count": 34,
   "metadata": {},
   "outputs": [
    {
     "ename": "RuntimeError",
     "evalue": "Trying to backward through the graph a second time (or directly access saved tensors after they have already been freed). Saved intermediate values of the graph are freed when you call .backward() or autograd.grad(). Specify retain_graph=True if you need to backward through the graph a second time or if you need to access saved tensors after calling backward.",
     "output_type": "error",
     "traceback": [
      "\u001b[0;31m---------------------------------------------------------------------------\u001b[0m",
      "\u001b[0;31mRuntimeError\u001b[0m                              Traceback (most recent call last)",
      "Cell \u001b[0;32mIn[34], line 1\u001b[0m\n\u001b[0;32m----> 1\u001b[0m \u001b[43mE\u001b[49m\u001b[38;5;241;43m.\u001b[39;49m\u001b[43mbackward\u001b[49m\u001b[43m(\u001b[49m\u001b[43m)\u001b[49m\n\u001b[1;32m      2\u001b[0m \u001b[38;5;28mprint\u001b[39m(\u001b[38;5;124mf\u001b[39m\u001b[38;5;124m\"\u001b[39m\u001b[38;5;124mdEdW^1 = \u001b[39m\u001b[38;5;132;01m{\u001b[39;00mW1\u001b[38;5;241m.\u001b[39mgrad\u001b[38;5;132;01m}\u001b[39;00m\u001b[38;5;124m\"\u001b[39m)\n\u001b[1;32m      3\u001b[0m \u001b[38;5;28mprint\u001b[39m(\u001b[38;5;124mf\u001b[39m\u001b[38;5;124m\"\u001b[39m\u001b[38;5;124mdEdw^2=\u001b[39m\u001b[38;5;132;01m{\u001b[39;00mw2\u001b[38;5;241m.\u001b[39mgrad\u001b[38;5;132;01m}\u001b[39;00m\u001b[38;5;124m\"\u001b[39m)\n",
      "File \u001b[0;32m~/miniconda3/lib/python3.8/site-packages/torch/_tensor.py:487\u001b[0m, in \u001b[0;36mTensor.backward\u001b[0;34m(self, gradient, retain_graph, create_graph, inputs)\u001b[0m\n\u001b[1;32m    477\u001b[0m \u001b[38;5;28;01mif\u001b[39;00m has_torch_function_unary(\u001b[38;5;28mself\u001b[39m):\n\u001b[1;32m    478\u001b[0m     \u001b[38;5;28;01mreturn\u001b[39;00m handle_torch_function(\n\u001b[1;32m    479\u001b[0m         Tensor\u001b[38;5;241m.\u001b[39mbackward,\n\u001b[1;32m    480\u001b[0m         (\u001b[38;5;28mself\u001b[39m,),\n\u001b[0;32m   (...)\u001b[0m\n\u001b[1;32m    485\u001b[0m         inputs\u001b[38;5;241m=\u001b[39minputs,\n\u001b[1;32m    486\u001b[0m     )\n\u001b[0;32m--> 487\u001b[0m \u001b[43mtorch\u001b[49m\u001b[38;5;241;43m.\u001b[39;49m\u001b[43mautograd\u001b[49m\u001b[38;5;241;43m.\u001b[39;49m\u001b[43mbackward\u001b[49m\u001b[43m(\u001b[49m\n\u001b[1;32m    488\u001b[0m \u001b[43m    \u001b[49m\u001b[38;5;28;43mself\u001b[39;49m\u001b[43m,\u001b[49m\u001b[43m \u001b[49m\u001b[43mgradient\u001b[49m\u001b[43m,\u001b[49m\u001b[43m \u001b[49m\u001b[43mretain_graph\u001b[49m\u001b[43m,\u001b[49m\u001b[43m \u001b[49m\u001b[43mcreate_graph\u001b[49m\u001b[43m,\u001b[49m\u001b[43m \u001b[49m\u001b[43minputs\u001b[49m\u001b[38;5;241;43m=\u001b[39;49m\u001b[43minputs\u001b[49m\n\u001b[1;32m    489\u001b[0m \u001b[43m\u001b[49m\u001b[43m)\u001b[49m\n",
      "File \u001b[0;32m~/miniconda3/lib/python3.8/site-packages/torch/autograd/__init__.py:200\u001b[0m, in \u001b[0;36mbackward\u001b[0;34m(tensors, grad_tensors, retain_graph, create_graph, grad_variables, inputs)\u001b[0m\n\u001b[1;32m    195\u001b[0m     retain_graph \u001b[38;5;241m=\u001b[39m create_graph\n\u001b[1;32m    197\u001b[0m \u001b[38;5;66;03m# The reason we repeat same the comment below is that\u001b[39;00m\n\u001b[1;32m    198\u001b[0m \u001b[38;5;66;03m# some Python versions print out the first line of a multi-line function\u001b[39;00m\n\u001b[1;32m    199\u001b[0m \u001b[38;5;66;03m# calls in the traceback and some print out the last line\u001b[39;00m\n\u001b[0;32m--> 200\u001b[0m \u001b[43mVariable\u001b[49m\u001b[38;5;241;43m.\u001b[39;49m\u001b[43m_execution_engine\u001b[49m\u001b[38;5;241;43m.\u001b[39;49m\u001b[43mrun_backward\u001b[49m\u001b[43m(\u001b[49m\u001b[43m  \u001b[49m\u001b[38;5;66;43;03m# Calls into the C++ engine to run the backward pass\u001b[39;49;00m\n\u001b[1;32m    201\u001b[0m \u001b[43m    \u001b[49m\u001b[43mtensors\u001b[49m\u001b[43m,\u001b[49m\u001b[43m \u001b[49m\u001b[43mgrad_tensors_\u001b[49m\u001b[43m,\u001b[49m\u001b[43m \u001b[49m\u001b[43mretain_graph\u001b[49m\u001b[43m,\u001b[49m\u001b[43m \u001b[49m\u001b[43mcreate_graph\u001b[49m\u001b[43m,\u001b[49m\u001b[43m \u001b[49m\u001b[43minputs\u001b[49m\u001b[43m,\u001b[49m\n\u001b[1;32m    202\u001b[0m \u001b[43m    \u001b[49m\u001b[43mallow_unreachable\u001b[49m\u001b[38;5;241;43m=\u001b[39;49m\u001b[38;5;28;43;01mTrue\u001b[39;49;00m\u001b[43m,\u001b[49m\u001b[43m \u001b[49m\u001b[43maccumulate_grad\u001b[49m\u001b[38;5;241;43m=\u001b[39;49m\u001b[38;5;28;43;01mTrue\u001b[39;49;00m\u001b[43m)\u001b[49m\n",
      "\u001b[0;31mRuntimeError\u001b[0m: Trying to backward through the graph a second time (or directly access saved tensors after they have already been freed). Saved intermediate values of the graph are freed when you call .backward() or autograd.grad(). Specify retain_graph=True if you need to backward through the graph a second time or if you need to access saved tensors after calling backward."
     ]
    }
   ],
   "source": [
    "E.backward()\n",
    "print(f\"dEdW^1 = {W1.grad}\")\n",
    "print(f\"dEdw^2={w2.grad}\")"
   ]
  },
  {
   "cell_type": "markdown",
   "metadata": {},
   "source": [
    "# 2) PyTorch: 2-layer MLP for classification\n",
    "Luckily, there are some nice Deep Learning libraries out there, that make working with neural networks a pleasure.\n",
    "The two most noteable are [Tensorflow](https://www.tensorflow.org) and [PyTorch](https://pytorch.org). We'll be using the latter.\n",
    "\n",
    "In order to install it in your conda environment you can use\n",
    "```pip install torch torchvision```\n",
    "\n",
    "A key feature of these libraries is that they can handle the gradient computation for you.\n",
    "Moreover, they have a lot of layer types and losses, that are easily composable to handle computation of complex neural networks.\n",
    "\n",
    "We'll be working with the classic MNIST dataset, which we can easily get via PyTorch"
   ]
  },
  {
   "cell_type": "code",
   "execution_count": 37,
   "metadata": {},
   "outputs": [
    {
     "name": "stdout",
     "output_type": "stream",
     "text": [
      "Downloading http://yann.lecun.com/exdb/mnist/train-images-idx3-ubyte.gz\n",
      "Downloading http://yann.lecun.com/exdb/mnist/train-images-idx3-ubyte.gz to ../data/MNIST/raw/train-images-idx3-ubyte.gz\n"
     ]
    },
    {
     "name": "stderr",
     "output_type": "stream",
     "text": [
      "100%|███████████████████████████| 9912422/9912422 [00:00<00:00, 11656393.96it/s]\n"
     ]
    },
    {
     "name": "stdout",
     "output_type": "stream",
     "text": [
      "Extracting ../data/MNIST/raw/train-images-idx3-ubyte.gz to ../data/MNIST/raw\n",
      "\n",
      "Downloading http://yann.lecun.com/exdb/mnist/train-labels-idx1-ubyte.gz\n",
      "Downloading http://yann.lecun.com/exdb/mnist/train-labels-idx1-ubyte.gz to ../data/MNIST/raw/train-labels-idx1-ubyte.gz\n"
     ]
    },
    {
     "name": "stderr",
     "output_type": "stream",
     "text": [
      "100%|███████████████████████████████| 28881/28881 [00:00<00:00, 53387260.39it/s]\n"
     ]
    },
    {
     "name": "stdout",
     "output_type": "stream",
     "text": [
      "Extracting ../data/MNIST/raw/train-labels-idx1-ubyte.gz to ../data/MNIST/raw\n",
      "\n",
      "Downloading http://yann.lecun.com/exdb/mnist/t10k-images-idx3-ubyte.gz\n",
      "Downloading http://yann.lecun.com/exdb/mnist/t10k-images-idx3-ubyte.gz to ../data/MNIST/raw/t10k-images-idx3-ubyte.gz\n"
     ]
    },
    {
     "name": "stderr",
     "output_type": "stream",
     "text": [
      "100%|███████████████████████████| 1648877/1648877 [00:00<00:00, 10098152.48it/s]\n"
     ]
    },
    {
     "name": "stdout",
     "output_type": "stream",
     "text": [
      "Extracting ../data/MNIST/raw/t10k-images-idx3-ubyte.gz to ../data/MNIST/raw\n",
      "\n",
      "Downloading http://yann.lecun.com/exdb/mnist/t10k-labels-idx1-ubyte.gz\n",
      "Downloading http://yann.lecun.com/exdb/mnist/t10k-labels-idx1-ubyte.gz to ../data/MNIST/raw/t10k-labels-idx1-ubyte.gz\n"
     ]
    },
    {
     "name": "stderr",
     "output_type": "stream",
     "text": [
      "100%|█████████████████████████████████| 4542/4542 [00:00<00:00, 10690532.42it/s]"
     ]
    },
    {
     "name": "stdout",
     "output_type": "stream",
     "text": [
      "Extracting ../data/MNIST/raw/t10k-labels-idx1-ubyte.gz to ../data/MNIST/raw\n",
      "\n"
     ]
    },
    {
     "name": "stderr",
     "output_type": "stream",
     "text": [
      "\n"
     ]
    }
   ],
   "source": [
    "import torch\n",
    "from torchvision import datasets, transforms\n",
    "from torch.utils.data import DataLoader\n",
    "\n",
    "transform = transforms.Compose([\n",
    "    transforms.ToTensor(),\n",
    "    transforms.Normalize((0.1307,), (0.3081,))\n",
    "])\n",
    "\n",
    "train_data = datasets.MNIST('../data', train=True, download=True, transform=transform)\n",
    "test_data = datasets.MNIST('../data', train=False, download=True, transform=transform)\n",
    "\n",
    "train_loader = DataLoader(\n",
    "    train_data,\n",
    "    batch_size = 64,\n",
    "    shuffle=True,\n",
    ")\n",
    "\n",
    "test_loader = DataLoader(\n",
    "    test_data,\n",
    "    batch_size = 64,\n",
    ")"
   ]
  },
  {
   "cell_type": "markdown",
   "metadata": {},
   "source": [
    "A few steps happened here:\n",
    "1. The dataset (train and test) was downloaded \n",
    "1. We created a `DataLoader` for each data split. Using this, we get batches of data (64 examples per batch here)\n",
    "1. We told asked for the training data to be shuffled\n",
    "\n",
    "Lets see what we get in a batch:"
   ]
  },
  {
   "cell_type": "code",
   "execution_count": 38,
   "metadata": {},
   "outputs": [
    {
     "data": {
      "text/plain": [
       "(torch.Size([64, 1, 28, 28]), torch.Size([64]))"
      ]
     },
     "execution_count": 38,
     "metadata": {},
     "output_type": "execute_result"
    }
   ],
   "source": [
    "data, targets = next(iter(train_loader))\n",
    "data.shape, targets.shape"
   ]
  },
  {
   "cell_type": "code",
   "execution_count": 39,
   "metadata": {},
   "outputs": [
    {
     "data": {
      "image/png": "[encoded data removed]",
      "text/plain": [
       "<Figure size 640x480 with 6 Axes>"
      ]
     },
     "metadata": {},
     "output_type": "display_data"
    }
   ],
   "source": [
    "import matplotlib.pyplot as plt\n",
    "\n",
    "fig = plt.figure()\n",
    "for i in range(6):\n",
    "    plt.subplot(2,3,i+1)\n",
    "    plt.tight_layout()\n",
    "    plt.imshow(data[i][0], cmap='gray', interpolation='none')\n",
    "    plt.title(\"Ground Truth: {}\".format(targets[i]))\n",
    "    plt.xticks([])\n",
    "    plt.yticks([])"
   ]
  },
  {
   "cell_type": "markdown",
   "metadata": {},
   "source": [
    "## 2.1) Create and train a 2-layer MLP\n",
    "For the network, use a single hidden layer of 512 neurons with a ReLU activation function for the first weight Linear layer. The output of the second Linear layer should be a softmax.\n",
    "\n",
    "For optimisation, use the SGD optimizer with learning rate of 0.001, and the negative log-likelihood loss.\n",
    "\n",
    "Train the network for 5 epochs on the train data, and report the prediction accuracy on the test data. You should be able to get about 90% correct.\n",
    "\n",
    "Hint: check the [PyTorch documentation](https://pytorch.org/docs/stable/index.html) for usage of the layers, optimizers and losses"
   ]
  },
  {
   "cell_type": "code",
   "execution_count": 52,
   "metadata": {},
   "outputs": [],
   "source": [
    "from torch.nn import Linear, Module\n",
    "from torch.nn.functional import relu, log_softmax, nll_loss\n",
    "from torch.optim import SGD\n",
    "from torch.utils.data import DataLoader\n",
    "import torch\n",
    "\n",
    "class Net(Module):\n",
    "    def __init__(self):\n",
    "        super(Net, self).__init__()\n",
    "        self.fc1=Linear(28*28,512)\n",
    "        self.fc2=Linear(512,10)\n",
    "\n",
    "    def forward(self, x):\n",
    "        x=torch.flatten(x,1)\n",
    "        x=relu(self.fc1(x))\n",
    "        x=self.fc2(x)\n",
    "        output=log_softmax(x,dim=1)\n",
    "        return output\n",
    "\n",
    "def train(\n",
    "    model:Module, \n",
    "    train_loader:DataLoader, \n",
    "    optimizer: SGD, \n",
    "    epoch:int, \n",
    "    log_interval = 50\n",
    "):\n",
    "    # Set model to train mode\n",
    "    model.train()\n",
    "    for batch_idx, (data, target) in enumerate(train_loader):\n",
    "        # Reset the gradients\n",
    "        optimizer.zero_grad()\n",
    "        \n",
    "        # Feed the data through the model\n",
    "        output=model(data)\n",
    "        \n",
    "        # Compute the negative log-likelihood loss\n",
    "        loss=nll_loss(output,target)\n",
    "        \n",
    "        # Backward propagate the gradients\n",
    "        loss.backward()\n",
    "        \n",
    "        # Perform an update step using the optimizer\n",
    "        optimizer.step()\n",
    "        \n",
    "        if batch_idx % log_interval == 0:\n",
    "            # Log (Optional)\n",
    "            print('Train Epoch: {} [{}/{} ({:.0f}%)]\\tLoss: {:.6f}'.format(\n",
    "                epoch, \n",
    "                batch_idx * len(data), \n",
    "                len(train_loader.dataset),\n",
    "                100. * batch_idx / len(train_loader),\n",
    "                loss.item()\n",
    "            ))\n",
    "\n",
    "def test(model:Module, test_loader:DataLoader):\n",
    "    # Set model to evaluation mode\n",
    "    model.eval()\n",
    "\n",
    "    test_loss=0\n",
    "    correct = 0\n",
    "    \n",
    "    # Don't accumulate gradients\n",
    "    with torch.no_grad():\n",
    "        for data, target in test_loader:\n",
    "            # Feed the data through the model\n",
    "            output=model(data)\n",
    "            \n",
    "            # Predict the class (it is the index of the max log-probability)\n",
    "            test_loss+=nll_loss(output,target,reduction='sum').item()\n",
    "            pred=output.argmax(dim=1,keepdim=True)\n",
    "            \n",
    "            # Add to the number of correct\n",
    "            correct += pred.eq(target.view_as(pred)).sum().item()\n",
    "            \n",
    "    test_loss /= len(test_loader.dataset)\n",
    "\n",
    "    # Print results\n",
    "    print('\\nTest set: Average loss: {:.4f}, Accuracy: {}/{} ({:.0f}%)\\n'.format(\n",
    "        test_loss, \n",
    "        correct, \n",
    "        len(test_loader.dataset),\n",
    "        100. * correct / len(test_loader.dataset)\n",
    "    ))\n"
   ]
  },
  {
   "cell_type": "code",
   "execution_count": 53,
   "metadata": {},
   "outputs": [
    {
     "name": "stdout",
     "output_type": "stream",
     "text": [
      "Train Epoch: 1 [0/60000 (0%)]\tLoss: 2.294124\n",
      "Train Epoch: 1 [3200/60000 (5%)]\tLoss: 2.224131\n",
      "Train Epoch: 1 [6400/60000 (11%)]\tLoss: 2.061008\n",
      "Train Epoch: 1 [9600/60000 (16%)]\tLoss: 2.029338\n",
      "Train Epoch: 1 [12800/60000 (21%)]\tLoss: 1.907256\n",
      "Train Epoch: 1 [16000/60000 (27%)]\tLoss: 1.817905\n",
      "Train Epoch: 1 [19200/60000 (32%)]\tLoss: 1.691952\n",
      "Train Epoch: 1 [22400/60000 (37%)]\tLoss: 1.686073\n",
      "Train Epoch: 1 [25600/60000 (43%)]\tLoss: 1.448097\n",
      "Train Epoch: 1 [28800/60000 (48%)]\tLoss: 1.509563\n",
      "Train Epoch: 1 [32000/60000 (53%)]\tLoss: 1.530406\n",
      "Train Epoch: 1 [35200/60000 (59%)]\tLoss: 1.356244\n",
      "Train Epoch: 1 [38400/60000 (64%)]\tLoss: 1.353982\n",
      "Train Epoch: 1 [41600/60000 (69%)]\tLoss: 1.190563\n",
      "Train Epoch: 1 [44800/60000 (75%)]\tLoss: 1.250089\n",
      "Train Epoch: 1 [48000/60000 (80%)]\tLoss: 1.093346\n",
      "Train Epoch: 1 [51200/60000 (85%)]\tLoss: 1.290994\n",
      "Train Epoch: 1 [54400/60000 (91%)]\tLoss: 0.967198\n",
      "Train Epoch: 1 [57600/60000 (96%)]\tLoss: 0.960568\n",
      "\n",
      "Test set: Average loss: 0.9540, Accuracy: 8248/10000 (82%)\n",
      "\n",
      "Train Epoch: 2 [0/60000 (0%)]\tLoss: 1.021443\n",
      "Train Epoch: 2 [3200/60000 (5%)]\tLoss: 0.991096\n",
      "Train Epoch: 2 [6400/60000 (11%)]\tLoss: 0.844548\n",
      "Train Epoch: 2 [9600/60000 (16%)]\tLoss: 0.887817\n",
      "Train Epoch: 2 [12800/60000 (21%)]\tLoss: 0.830057\n",
      "Train Epoch: 2 [16000/60000 (27%)]\tLoss: 0.761067\n",
      "Train Epoch: 2 [19200/60000 (32%)]\tLoss: 0.812304\n",
      "Train Epoch: 2 [22400/60000 (37%)]\tLoss: 0.794372\n",
      "Train Epoch: 2 [25600/60000 (43%)]\tLoss: 0.687280\n",
      "Train Epoch: 2 [28800/60000 (48%)]\tLoss: 0.799896\n",
      "Train Epoch: 2 [32000/60000 (53%)]\tLoss: 0.683897\n",
      "Train Epoch: 2 [35200/60000 (59%)]\tLoss: 0.784571\n",
      "Train Epoch: 2 [38400/60000 (64%)]\tLoss: 0.678102\n",
      "Train Epoch: 2 [41600/60000 (69%)]\tLoss: 0.647985\n",
      "Train Epoch: 2 [44800/60000 (75%)]\tLoss: 0.673829\n",
      "Train Epoch: 2 [48000/60000 (80%)]\tLoss: 0.656137\n",
      "Train Epoch: 2 [51200/60000 (85%)]\tLoss: 0.708049\n",
      "Train Epoch: 2 [54400/60000 (91%)]\tLoss: 0.480619\n",
      "Train Epoch: 2 [57600/60000 (96%)]\tLoss: 0.493063\n",
      "\n",
      "Test set: Average loss: 0.5948, Accuracy: 8706/10000 (87%)\n",
      "\n",
      "Train Epoch: 3 [0/60000 (0%)]\tLoss: 0.605092\n",
      "Train Epoch: 3 [3200/60000 (5%)]\tLoss: 0.474521\n",
      "Train Epoch: 3 [6400/60000 (11%)]\tLoss: 0.497558\n",
      "Train Epoch: 3 [9600/60000 (16%)]\tLoss: 0.615083\n",
      "Train Epoch: 3 [12800/60000 (21%)]\tLoss: 0.579036\n",
      "Train Epoch: 3 [16000/60000 (27%)]\tLoss: 0.630828\n",
      "Train Epoch: 3 [19200/60000 (32%)]\tLoss: 0.610658\n",
      "Train Epoch: 3 [22400/60000 (37%)]\tLoss: 0.531876\n",
      "Train Epoch: 3 [25600/60000 (43%)]\tLoss: 0.595898\n",
      "Train Epoch: 3 [28800/60000 (48%)]\tLoss: 0.533646\n",
      "Train Epoch: 3 [32000/60000 (53%)]\tLoss: 0.559651\n",
      "Train Epoch: 3 [35200/60000 (59%)]\tLoss: 0.563082\n",
      "Train Epoch: 3 [38400/60000 (64%)]\tLoss: 0.466606\n",
      "Train Epoch: 3 [41600/60000 (69%)]\tLoss: 0.561064\n",
      "Train Epoch: 3 [44800/60000 (75%)]\tLoss: 0.483805\n",
      "Train Epoch: 3 [48000/60000 (80%)]\tLoss: 0.704215\n",
      "Train Epoch: 3 [51200/60000 (85%)]\tLoss: 0.575673\n",
      "Train Epoch: 3 [54400/60000 (91%)]\tLoss: 0.471249\n",
      "Train Epoch: 3 [57600/60000 (96%)]\tLoss: 0.388199\n",
      "\n",
      "Test set: Average loss: 0.4756, Accuracy: 8833/10000 (88%)\n",
      "\n",
      "Train Epoch: 4 [0/60000 (0%)]\tLoss: 0.554312\n",
      "Train Epoch: 4 [3200/60000 (5%)]\tLoss: 0.556883\n",
      "Train Epoch: 4 [6400/60000 (11%)]\tLoss: 0.461722\n",
      "Train Epoch: 4 [9600/60000 (16%)]\tLoss: 0.518217\n",
      "Train Epoch: 4 [12800/60000 (21%)]\tLoss: 0.359709\n",
      "Train Epoch: 4 [16000/60000 (27%)]\tLoss: 0.488661\n",
      "Train Epoch: 4 [19200/60000 (32%)]\tLoss: 0.439147\n",
      "Train Epoch: 4 [22400/60000 (37%)]\tLoss: 0.542486\n",
      "Train Epoch: 4 [25600/60000 (43%)]\tLoss: 0.421083\n",
      "Train Epoch: 4 [28800/60000 (48%)]\tLoss: 0.426927\n",
      "Train Epoch: 4 [32000/60000 (53%)]\tLoss: 0.478962\n",
      "Train Epoch: 4 [35200/60000 (59%)]\tLoss: 0.506725\n",
      "Train Epoch: 4 [38400/60000 (64%)]\tLoss: 0.662086\n",
      "Train Epoch: 4 [41600/60000 (69%)]\tLoss: 0.432258\n",
      "Train Epoch: 4 [44800/60000 (75%)]\tLoss: 0.413671\n",
      "Train Epoch: 4 [48000/60000 (80%)]\tLoss: 0.451720\n",
      "Train Epoch: 4 [51200/60000 (85%)]\tLoss: 0.406480\n",
      "Train Epoch: 4 [54400/60000 (91%)]\tLoss: 0.392280\n",
      "Train Epoch: 4 [57600/60000 (96%)]\tLoss: 0.355143\n",
      "\n",
      "Test set: Average loss: 0.4171, Accuracy: 8927/10000 (89%)\n",
      "\n",
      "Train Epoch: 5 [0/60000 (0%)]\tLoss: 0.508416\n",
      "Train Epoch: 5 [3200/60000 (5%)]\tLoss: 0.386203\n",
      "Train Epoch: 5 [6400/60000 (11%)]\tLoss: 0.374348\n",
      "Train Epoch: 5 [9600/60000 (16%)]\tLoss: 0.447852\n",
      "Train Epoch: 5 [12800/60000 (21%)]\tLoss: 0.482772\n",
      "Train Epoch: 5 [16000/60000 (27%)]\tLoss: 0.399473\n",
      "Train Epoch: 5 [19200/60000 (32%)]\tLoss: 0.629529\n",
      "Train Epoch: 5 [22400/60000 (37%)]\tLoss: 0.330763\n",
      "Train Epoch: 5 [25600/60000 (43%)]\tLoss: 0.644341\n",
      "Train Epoch: 5 [28800/60000 (48%)]\tLoss: 0.547831\n",
      "Train Epoch: 5 [32000/60000 (53%)]\tLoss: 0.530323\n",
      "Train Epoch: 5 [35200/60000 (59%)]\tLoss: 0.292953\n",
      "Train Epoch: 5 [38400/60000 (64%)]\tLoss: 0.286812\n",
      "Train Epoch: 5 [41600/60000 (69%)]\tLoss: 0.453147\n",
      "Train Epoch: 5 [44800/60000 (75%)]\tLoss: 0.522922\n",
      "Train Epoch: 5 [48000/60000 (80%)]\tLoss: 0.250508\n",
      "Train Epoch: 5 [51200/60000 (85%)]\tLoss: 0.335841\n",
      "Train Epoch: 5 [54400/60000 (91%)]\tLoss: 0.380370\n",
      "Train Epoch: 5 [57600/60000 (96%)]\tLoss: 0.544118\n",
      "\n",
      "Test set: Average loss: 0.3816, Accuracy: 8973/10000 (90%)\n",
      "\n"
     ]
    }
   ],
   "source": [
    "model = Net()\n",
    "optimizer = SGD(model.parameters(), lr=0.001)\n",
    "\n",
    "epochs = 5\n",
    "for epoch in range(1, epochs + 1):\n",
    "    train(model, train_loader, optimizer, epoch, log_interval=50)\n",
    "    test(model, test_loader)"
   ]
  },
  {
   "cell_type": "code",
   "execution_count": null,
   "metadata": {},
   "outputs": [],
   "source": []
  }
 ],
 "metadata": {
  "kernelspec": {
   "display_name": "Python 3 (ipykernel)",
   "language": "python",
   "name": "python3"
  },
  "language_info": {
   "codemirror_mode": {
    "name": "ipython",
    "version": 3
   },
   "file_extension": ".py",
   "mimetype": "text/x-python",
   "name": "python",
   "nbconvert_exporter": "python",
   "pygments_lexer": "ipython3",
   "version": "3.8.11"
  }
 },
 "nbformat": 4,
 "nbformat_minor": 4
}
