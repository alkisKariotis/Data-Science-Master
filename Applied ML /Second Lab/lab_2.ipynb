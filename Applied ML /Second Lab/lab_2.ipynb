{
 "cells": [
  {
   "cell_type": "code",
   "execution_count": 1,
   "id": "0108f98c-b831-4bbc-b066-4bf3e7e2569e",
   "metadata": {},
   "outputs": [],
   "source": [
    "from sklearn.neural_network import MLPClassifier\n",
    "from sklearn.utils import shuffle\n",
    "from sklearn.metrics import confusion_matrix\n",
    "from sklearn.metrics import f1_score\n",
    "from sklearn.metrics import precision_recall_fscore_support\n",
    "from sklearn.metrics import roc_curve, auc\n",
    "from sklearn import metrics\n",
    "from sklearn import datasets \n",
    "from sklearn.naive_bayes import GaussianNB\n",
    "from sklearn import tree\n",
    "from sklearn.model_selection import train_test_split, cross_val_score\n",
    "from sklearn import preprocessing\n",
    "from sklearn import svm\n",
    "from sklearn.neighbors import KNeighborsClassifier\n",
    "import numpy as np\n",
    "import pandas as pd\n",
    "import numpy as np"
   ]
  },
  {
   "cell_type": "code",
   "execution_count": 2,
   "id": "4c087d19-e8a2-4098-9e51-840b76cead01",
   "metadata": {},
   "outputs": [],
   "source": [
    "data=pd.read_csv('wpbc.data',header=None)"
   ]
  },
  {
   "cell_type": "code",
   "execution_count": 6,
   "id": "9d5ad46e-f265-4db7-b9d9-5d3909c0a985",
   "metadata": {},
   "outputs": [
    {
     "data": {
      "text/html": [
       "<div>\n",
       "<style scoped>\n",
       "    .dataframe tbody tr th:only-of-type {\n",
       "        vertical-align: middle;\n",
       "    }\n",
       "\n",
       "    .dataframe tbody tr th {\n",
       "        vertical-align: top;\n",
       "    }\n",
       "\n",
       "    .dataframe thead th {\n",
       "        text-align: right;\n",
       "    }\n",
       "</style>\n",
       "<table border=\"1\" class=\"dataframe\">\n",
       "  <thead>\n",
       "    <tr style=\"text-align: right;\">\n",
       "      <th></th>\n",
       "      <th>0</th>\n",
       "      <th>1</th>\n",
       "      <th>2</th>\n",
       "      <th>3</th>\n",
       "      <th>4</th>\n",
       "      <th>5</th>\n",
       "      <th>6</th>\n",
       "      <th>7</th>\n",
       "      <th>8</th>\n",
       "      <th>9</th>\n",
       "      <th>...</th>\n",
       "      <th>25</th>\n",
       "      <th>26</th>\n",
       "      <th>27</th>\n",
       "      <th>28</th>\n",
       "      <th>29</th>\n",
       "      <th>30</th>\n",
       "      <th>31</th>\n",
       "      <th>32</th>\n",
       "      <th>33</th>\n",
       "      <th>34</th>\n",
       "    </tr>\n",
       "  </thead>\n",
       "  <tbody>\n",
       "    <tr>\n",
       "      <th>0</th>\n",
       "      <td>119513</td>\n",
       "      <td>N</td>\n",
       "      <td>31</td>\n",
       "      <td>18.02</td>\n",
       "      <td>27.60</td>\n",
       "      <td>117.50</td>\n",
       "      <td>1013.0</td>\n",
       "      <td>0.09489</td>\n",
       "      <td>0.1036</td>\n",
       "      <td>0.1086</td>\n",
       "      <td>...</td>\n",
       "      <td>139.70</td>\n",
       "      <td>1436.0</td>\n",
       "      <td>0.1195</td>\n",
       "      <td>0.1926</td>\n",
       "      <td>0.3140</td>\n",
       "      <td>0.1170</td>\n",
       "      <td>0.2677</td>\n",
       "      <td>0.08113</td>\n",
       "      <td>5.0</td>\n",
       "      <td>5</td>\n",
       "    </tr>\n",
       "    <tr>\n",
       "      <th>1</th>\n",
       "      <td>8423</td>\n",
       "      <td>N</td>\n",
       "      <td>61</td>\n",
       "      <td>17.99</td>\n",
       "      <td>10.38</td>\n",
       "      <td>122.80</td>\n",
       "      <td>1001.0</td>\n",
       "      <td>0.11840</td>\n",
       "      <td>0.2776</td>\n",
       "      <td>0.3001</td>\n",
       "      <td>...</td>\n",
       "      <td>184.60</td>\n",
       "      <td>2019.0</td>\n",
       "      <td>0.1622</td>\n",
       "      <td>0.6656</td>\n",
       "      <td>0.7119</td>\n",
       "      <td>0.2654</td>\n",
       "      <td>0.4601</td>\n",
       "      <td>0.11890</td>\n",
       "      <td>3.0</td>\n",
       "      <td>2</td>\n",
       "    </tr>\n",
       "    <tr>\n",
       "      <th>2</th>\n",
       "      <td>842517</td>\n",
       "      <td>N</td>\n",
       "      <td>116</td>\n",
       "      <td>21.37</td>\n",
       "      <td>17.44</td>\n",
       "      <td>137.50</td>\n",
       "      <td>1373.0</td>\n",
       "      <td>0.08836</td>\n",
       "      <td>0.1189</td>\n",
       "      <td>0.1255</td>\n",
       "      <td>...</td>\n",
       "      <td>159.10</td>\n",
       "      <td>1949.0</td>\n",
       "      <td>0.1188</td>\n",
       "      <td>0.3449</td>\n",
       "      <td>0.3414</td>\n",
       "      <td>0.2032</td>\n",
       "      <td>0.4334</td>\n",
       "      <td>0.09067</td>\n",
       "      <td>2.5</td>\n",
       "      <td>0</td>\n",
       "    </tr>\n",
       "    <tr>\n",
       "      <th>3</th>\n",
       "      <td>843483</td>\n",
       "      <td>N</td>\n",
       "      <td>123</td>\n",
       "      <td>11.42</td>\n",
       "      <td>20.38</td>\n",
       "      <td>77.58</td>\n",
       "      <td>386.1</td>\n",
       "      <td>0.14250</td>\n",
       "      <td>0.2839</td>\n",
       "      <td>0.2414</td>\n",
       "      <td>...</td>\n",
       "      <td>98.87</td>\n",
       "      <td>567.7</td>\n",
       "      <td>0.2098</td>\n",
       "      <td>0.8663</td>\n",
       "      <td>0.6869</td>\n",
       "      <td>0.2575</td>\n",
       "      <td>0.6638</td>\n",
       "      <td>0.17300</td>\n",
       "      <td>2.0</td>\n",
       "      <td>0</td>\n",
       "    </tr>\n",
       "    <tr>\n",
       "      <th>4</th>\n",
       "      <td>843584</td>\n",
       "      <td>R</td>\n",
       "      <td>27</td>\n",
       "      <td>20.29</td>\n",
       "      <td>14.34</td>\n",
       "      <td>135.10</td>\n",
       "      <td>1297.0</td>\n",
       "      <td>0.10030</td>\n",
       "      <td>0.1328</td>\n",
       "      <td>0.1980</td>\n",
       "      <td>...</td>\n",
       "      <td>152.20</td>\n",
       "      <td>1575.0</td>\n",
       "      <td>0.1374</td>\n",
       "      <td>0.2050</td>\n",
       "      <td>0.4000</td>\n",
       "      <td>0.1625</td>\n",
       "      <td>0.2364</td>\n",
       "      <td>0.07678</td>\n",
       "      <td>3.5</td>\n",
       "      <td>0</td>\n",
       "    </tr>\n",
       "  </tbody>\n",
       "</table>\n",
       "<p>5 rows × 35 columns</p>\n",
       "</div>"
      ],
      "text/plain": [
       "       0  1    2      3      4       5       6        7       8       9   ...  \\\n",
       "0  119513  N   31  18.02  27.60  117.50  1013.0  0.09489  0.1036  0.1086  ...   \n",
       "1    8423  N   61  17.99  10.38  122.80  1001.0  0.11840  0.2776  0.3001  ...   \n",
       "2  842517  N  116  21.37  17.44  137.50  1373.0  0.08836  0.1189  0.1255  ...   \n",
       "3  843483  N  123  11.42  20.38   77.58   386.1  0.14250  0.2839  0.2414  ...   \n",
       "4  843584  R   27  20.29  14.34  135.10  1297.0  0.10030  0.1328  0.1980  ...   \n",
       "\n",
       "       25      26      27      28      29      30      31       32   33  34  \n",
       "0  139.70  1436.0  0.1195  0.1926  0.3140  0.1170  0.2677  0.08113  5.0   5  \n",
       "1  184.60  2019.0  0.1622  0.6656  0.7119  0.2654  0.4601  0.11890  3.0   2  \n",
       "2  159.10  1949.0  0.1188  0.3449  0.3414  0.2032  0.4334  0.09067  2.5   0  \n",
       "3   98.87   567.7  0.2098  0.8663  0.6869  0.2575  0.6638  0.17300  2.0   0  \n",
       "4  152.20  1575.0  0.1374  0.2050  0.4000  0.1625  0.2364  0.07678  3.5   0  \n",
       "\n",
       "[5 rows x 35 columns]"
      ]
     },
     "execution_count": 6,
     "metadata": {},
     "output_type": "execute_result"
    }
   ],
   "source": [
    "data.head()"
   ]
  },
  {
   "cell_type": "markdown",
   "id": "caf71af1-2673-473b-8b4e-01c85cb35dfd",
   "metadata": {},
   "source": [
    "## Class labels in Column 1"
   ]
  },
  {
   "cell_type": "code",
   "execution_count": 3,
   "id": "85949f45-6c0c-4304-9e8c-cd1d853f38e6",
   "metadata": {},
   "outputs": [],
   "source": [
    "y=data[1]"
   ]
  },
  {
   "cell_type": "code",
   "execution_count": 7,
   "id": "e0babed8-9722-4d05-9e0d-b3d5c9a994c5",
   "metadata": {},
   "outputs": [],
   "source": [
    "# N, R are the two classes\n",
    "y.replace('N',1,inplace=True)\n",
    "y.replace('R',0,inplace=True)"
   ]
  },
  {
   "cell_type": "code",
   "execution_count": 8,
   "id": "1ef225dc-4711-4366-8b59-6ffe3194f40e",
   "metadata": {},
   "outputs": [
    {
     "data": {
      "text/plain": [
       "0      1\n",
       "1      1\n",
       "2      1\n",
       "3      1\n",
       "4      0\n",
       "      ..\n",
       "193    1\n",
       "194    1\n",
       "195    1\n",
       "196    0\n",
       "197    1\n",
       "Name: 1, Length: 198, dtype: int64"
      ]
     },
     "execution_count": 8,
     "metadata": {},
     "output_type": "execute_result"
    }
   ],
   "source": [
    "y"
   ]
  },
  {
   "cell_type": "code",
   "execution_count": null,
   "id": "24517a5e-0360-410a-9a12-1593a7e07ebd",
   "metadata": {},
   "outputs": [],
   "source": []
  },
  {
   "cell_type": "code",
   "execution_count": null,
   "id": "228b5260-f630-4613-8260-93848aca146b",
   "metadata": {},
   "outputs": [],
   "source": [
    "#Slicing to keep the columns that have a meaning\n",
    "\n",
    "x=data.iloc[:,2:]"
   ]
  },
  {
   "cell_type": "code",
   "execution_count": 11,
   "id": "31357896-cd1e-4ae8-bf39-5d7672af7b29",
   "metadata": {},
   "outputs": [],
   "source": [
    "# the following is a ?, i.e. a missing value\n",
    "#x.iloc[196][34]\n",
    "#replace it with a numpy nan\n",
    "x=x.replace('?',np.NaN)\n",
    "\n",
    "#x[34].loc[196]=x[34].median()\n",
    "x[34].fillna(x[34].median(),inplace=True)\n",
    "\n",
    "\n",
    "# make all columns with 0-mean, and 1-std\n",
    "x = preprocessing.scale(x)"
   ]
  },
  {
   "cell_type": "code",
   "execution_count": 15,
   "id": "b4e3f99d-9fa3-4956-b6e7-810fb5d5d64d",
   "metadata": {},
   "outputs": [
    {
     "data": {
      "text/plain": [
       "array([[-0.45765783,  0.19268806,  1.24176957, ..., -0.45922582,\n",
       "         1.11353031,  0.33834144],\n",
       "       [ 0.41505085,  0.18317537, -2.77463023, ...,  1.32925886,\n",
       "         0.07890337, -0.21530819],\n",
       "       [ 2.01501676,  1.25493866, -1.12795296, ..., -0.00748783,\n",
       "        -0.17975337, -0.58440794],\n",
       "       ...,\n",
       "       [-1.01037333, -0.07683821,  1.61262181, ..., -1.44414722,\n",
       "         0.4410228 , -0.58440794],\n",
       "       [-1.27218594,  1.27079314,  0.13154523, ..., -0.04821054,\n",
       "         0.07890337, -0.39985806],\n",
       "       [-1.18491507, -0.22587038,  1.36538698, ..., -0.49568685,\n",
       "         0.3375601 , -0.58440794]])"
      ]
     },
     "execution_count": 15,
     "metadata": {},
     "output_type": "execute_result"
    }
   ],
   "source": [
    "x"
   ]
  },
  {
   "cell_type": "code",
   "execution_count": 17,
   "id": "22acdde1-b91f-4652-a3d1-fec82fc438ee",
   "metadata": {},
   "outputs": [],
   "source": [
    "#split thedat sets into training and tests\n",
    "x_train, x_test, y_train, y_test = train_test_split (x,y, test_size=0.3, random_state=1)\n"
   ]
  },
  {
   "cell_type": "code",
   "execution_count": 27,
   "id": "f60e068f-c10b-45ba-9580-e6aee6bba532",
   "metadata": {},
   "outputs": [
    {
     "data": {
      "text/plain": [
       "(138, 33)"
      ]
     },
     "execution_count": 27,
     "metadata": {},
     "output_type": "execute_result"
    }
   ],
   "source": [
    "x_train.shape"
   ]
  },
  {
   "cell_type": "code",
   "execution_count": 31,
   "id": "cfbc1928-31ec-41f8-b14c-1cf097f13831",
   "metadata": {},
   "outputs": [
    {
     "data": {
      "text/plain": [
       "numpy.ndarray"
      ]
     },
     "execution_count": 31,
     "metadata": {},
     "output_type": "execute_result"
    }
   ],
   "source": [
    "type(x_train)"
   ]
  },
  {
   "cell_type": "code",
   "execution_count": 28,
   "id": "d083241c-65e5-477b-a437-a75cffd3ad00",
   "metadata": {},
   "outputs": [
    {
     "data": {
      "text/plain": [
       "(60, 33)"
      ]
     },
     "execution_count": 28,
     "metadata": {},
     "output_type": "execute_result"
    }
   ],
   "source": [
    "x_test.shape"
   ]
  },
  {
   "cell_type": "code",
   "execution_count": null,
   "id": "17183940-d178-4472-bd1d-6d063a280822",
   "metadata": {},
   "outputs": [],
   "source": []
  },
  {
   "cell_type": "code",
   "execution_count": null,
   "id": "b0612a83-cfa8-4920-b52b-1b8ecfb394c1",
   "metadata": {},
   "outputs": [],
   "source": []
  },
  {
   "cell_type": "code",
   "execution_count": 18,
   "id": "66fd7c87-c63b-4105-9996-5e770ec7f1df",
   "metadata": {},
   "outputs": [],
   "source": [
    "#Define Neural Network\n",
    "#logistic', the logistic sigmoid function,\n",
    "#          returns f(x) = 1 / (1 + exp(-x))\n",
    "# 'relu', the rectified linear unit function,\n",
    "#         returns f(x) = max(0, x)\n",
    "\n",
    "#  solver : {'lbfgs', 'sgd', 'adam'}, default='adam'\n",
    "#\n",
    "# batch_size: the size of the batch (number of data items used to compute error)\n",
    "#\n",
    "#early_stopping : bool, default=False\n",
    "#    Whether to use early stopping to terminate training when validation\n",
    "#    score is not improving. If set to true, it will automatically set\n",
    "#    aside 10% of training data as validation and terminate training when\n",
    "#    validation score is not improving by at least ``tol`` for\n",
    "#    ``n_iter_no_change`` consecutive epochs.\n",
    "#\n",
    "clfANN = MLPClassifier(solver='adam', activation='relu',\n",
    "                       batch_size=10,\n",
    "                       tol=1e-7,\n",
    "                       validation_fraction=0.2,\n",
    "                       hidden_layer_sizes=(15,10,5,3), random_state=1, max_iter=50000, verbose=True)"
   ]
  },
  {
   "cell_type": "markdown",
   "id": "0df5e5b5-bcce-430a-8f86-9276dea89897",
   "metadata": {},
   "source": [
    "## Here starts the training"
   ]
  },
  {
   "cell_type": "code",
   "execution_count": null,
   "id": "c6901843-c38e-4212-9d7c-4fdffb8d9645",
   "metadata": {},
   "outputs": [],
   "source": [
    "#train the classifiers\n",
    "clfANN.fit(x_train, y_train)  "
   ]
  },
  {
   "cell_type": "code",
   "execution_count": 20,
   "id": "fa256ac0-9a01-40a5-a88f-eb5c3ce4b8c9",
   "metadata": {},
   "outputs": [],
   "source": [
    "#get predictions on the train set\n",
    "y_train_pred_ANN=clfANN.predict(x_train)"
   ]
  },
  {
   "cell_type": "code",
   "execution_count": 21,
   "id": "bf014418-1e36-44c1-891f-6537e93290b6",
   "metadata": {},
   "outputs": [],
   "source": [
    "#test the trained model on the test set\n",
    "y_test_pred_ANN=clfANN.predict(x_test)"
   ]
  },
  {
   "cell_type": "code",
   "execution_count": 22,
   "id": "0b740453-b51f-4638-8c0b-599c5d82588e",
   "metadata": {},
   "outputs": [],
   "source": [
    "confMatrixTestANN=confusion_matrix(y_test, y_test_pred_ANN, labels=None)\n",
    "confMatrixTrainANN=confusion_matrix(y_train, y_train_pred_ANN, labels=None)"
   ]
  },
  {
   "cell_type": "code",
   "execution_count": 23,
   "id": "3a031b20-4984-479c-81c4-1e94db9b6b6f",
   "metadata": {},
   "outputs": [
    {
     "name": "stdout",
     "output_type": "stream",
     "text": [
      "\n",
      " Conf matrix, Train Set, Neural Net\n",
      "[[ 32   0]\n",
      " [  0 106]]\n",
      "\n"
     ]
    }
   ],
   "source": [
    "print ('\\n Conf matrix, Train Set, Neural Net')\n",
    "print (confMatrixTrainANN)\n",
    "print ()"
   ]
  },
  {
   "cell_type": "code",
   "execution_count": 32,
   "id": "053078e3-fd90-46f7-8a22-c62b30d38617",
   "metadata": {},
   "outputs": [],
   "source": [
    "# Confusion matrix upper row responds to 0 values R to our case and below to 1 valeu"
   ]
  },
  {
   "cell_type": "code",
   "execution_count": 25,
   "id": "d5048de1-e5d0-4363-8301-b96410431d27",
   "metadata": {},
   "outputs": [
    {
     "name": "stdout",
     "output_type": "stream",
     "text": [
      "Conf matrix, Test Set, Neural Net\n",
      "[[10  5]\n",
      " [ 8 37]]\n",
      "\n"
     ]
    }
   ],
   "source": [
    "print ('Conf matrix, Test Set, Neural Net')\n",
    "print (confMatrixTestANN)\n",
    "print ()"
   ]
  },
  {
   "cell_type": "code",
   "execution_count": 26,
   "id": "2f74ff6b-0d46-4a05-b0dc-bcd214d314b7",
   "metadata": {},
   "outputs": [
    {
     "name": "stdout",
     "output_type": "stream",
     "text": [
      "Neural Net: Macro Precision, recall, f1-score\n",
      "(0.7182539682539683, 0.7444444444444445, 0.7283176593521421, None)\n",
      "Neural Net: Micro Precision, recall, f1-score\n",
      "(0.7833333333333333, 0.7833333333333333, 0.7833333333333333, None)\n",
      "\n",
      "\n"
     ]
    }
   ],
   "source": [
    "\n",
    "# Measures of performance: Precision, Recall, F1\n",
    "\n",
    "\n",
    "print ('Neural Net: Macro Precision, recall, f1-score')\n",
    "print ( precision_recall_fscore_support(y_test, y_test_pred_ANN, average='macro'))\n",
    "print ('Neural Net: Micro Precision, recall, f1-score')\n",
    "print (precision_recall_fscore_support(y_test, y_test_pred_ANN, average='micro'))\n",
    "print ('\\n')\n"
   ]
  },
  {
   "cell_type": "code",
   "execution_count": null,
   "id": "fde3ed05-9089-4c24-87ea-d81b514b798b",
   "metadata": {},
   "outputs": [],
   "source": []
  }
 ],
 "metadata": {
  "kernelspec": {
   "display_name": "Python 3 (ipykernel)",
   "language": "python",
   "name": "python3"
  },
  "language_info": {
   "codemirror_mode": {
    "name": "ipython",
    "version": 3
   },
   "file_extension": ".py",
   "mimetype": "text/x-python",
   "name": "python",
   "nbconvert_exporter": "python",
   "pygments_lexer": "ipython3",
   "version": "3.8.11"
  }
 },
 "nbformat": 4,
 "nbformat_minor": 5
}
