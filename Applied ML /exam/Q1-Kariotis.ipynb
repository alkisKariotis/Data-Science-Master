{
 "cells": [
  {
   "cell_type": "markdown",
   "id": "6adcb3b4-7ae3-4c81-b90c-36d0cbaf17ca",
   "metadata": {},
   "source": [
    "# Q1-Classification-60%"
   ]
  },
  {
   "cell_type": "code",
   "execution_count": 1,
   "id": "880ec15c-d4aa-43cf-abd3-59c5bb17e7e9",
   "metadata": {},
   "outputs": [
    {
     "data": {
      "text/plain": [
       "20"
      ]
     },
     "execution_count": 1,
     "metadata": {},
     "output_type": "execute_result"
    }
   ],
   "source": [
    "# Libraries\n",
    "import pandas as pd\n",
    "from sklearn.ensemble import RandomForestClassifier\n",
    "from sklearn.feature_selection import mutual_info_classif\n",
    "from sklearn.model_selection import train_test_split\n",
    "from sklearn.tree import DecisionTreeClassifier\n",
    "from sklearn.neural_network import MLPClassifier\n",
    "from sklearn.metrics import accuracy_score\n",
    "from sklearn.metrics import precision_score, recall_score, f1_score\n",
    "\n",
    "#Import some libraries to make displaying easier\n",
    "import warnings\n",
    "warnings.filterwarnings('ignore')\n",
    "\n",
    "pd.get_option(\"display.max_columns\")"
   ]
  },
  {
   "cell_type": "markdown",
   "id": "96ab920e-c812-46eb-9261-062c65b32082",
   "metadata": {},
   "source": [
    "## a. (10 pts) Load the data & replace the quality score form 0-6 to low (e.g. 0), and 7-10 to high (e.g. 1). For this question you can use Python, Excel, or Notepad etc."
   ]
  },
  {
   "cell_type": "code",
   "execution_count": 2,
   "id": "385043cb-0fb8-4a03-98e8-aa78aa9fd167",
   "metadata": {},
   "outputs": [
    {
     "data": {
      "text/html": [
       "<div>\n",
       "<style scoped>\n",
       "    .dataframe tbody tr th:only-of-type {\n",
       "        vertical-align: middle;\n",
       "    }\n",
       "\n",
       "    .dataframe tbody tr th {\n",
       "        vertical-align: top;\n",
       "    }\n",
       "\n",
       "    .dataframe thead th {\n",
       "        text-align: right;\n",
       "    }\n",
       "</style>\n",
       "<table border=\"1\" class=\"dataframe\">\n",
       "  <thead>\n",
       "    <tr style=\"text-align: right;\">\n",
       "      <th></th>\n",
       "      <th>fixed acidity</th>\n",
       "      <th>volatile acidity</th>\n",
       "      <th>citric acid</th>\n",
       "      <th>residual sugar</th>\n",
       "      <th>chlorides</th>\n",
       "      <th>free sulfur dioxide</th>\n",
       "      <th>total sulfur dioxide</th>\n",
       "      <th>density</th>\n",
       "      <th>pH</th>\n",
       "      <th>sulphates</th>\n",
       "      <th>alcohol</th>\n",
       "      <th>quality</th>\n",
       "    </tr>\n",
       "  </thead>\n",
       "  <tbody>\n",
       "    <tr>\n",
       "      <th>0</th>\n",
       "      <td>7.4</td>\n",
       "      <td>0.70</td>\n",
       "      <td>0.00</td>\n",
       "      <td>1.9</td>\n",
       "      <td>0.076</td>\n",
       "      <td>11.0</td>\n",
       "      <td>34.0</td>\n",
       "      <td>0.9978</td>\n",
       "      <td>3.51</td>\n",
       "      <td>0.56</td>\n",
       "      <td>9.4</td>\n",
       "      <td>5</td>\n",
       "    </tr>\n",
       "    <tr>\n",
       "      <th>1</th>\n",
       "      <td>7.8</td>\n",
       "      <td>0.88</td>\n",
       "      <td>0.00</td>\n",
       "      <td>2.6</td>\n",
       "      <td>0.098</td>\n",
       "      <td>25.0</td>\n",
       "      <td>67.0</td>\n",
       "      <td>0.9968</td>\n",
       "      <td>3.20</td>\n",
       "      <td>0.68</td>\n",
       "      <td>9.8</td>\n",
       "      <td>5</td>\n",
       "    </tr>\n",
       "    <tr>\n",
       "      <th>2</th>\n",
       "      <td>7.8</td>\n",
       "      <td>0.76</td>\n",
       "      <td>0.04</td>\n",
       "      <td>2.3</td>\n",
       "      <td>0.092</td>\n",
       "      <td>15.0</td>\n",
       "      <td>54.0</td>\n",
       "      <td>0.9970</td>\n",
       "      <td>3.26</td>\n",
       "      <td>0.65</td>\n",
       "      <td>9.8</td>\n",
       "      <td>5</td>\n",
       "    </tr>\n",
       "    <tr>\n",
       "      <th>3</th>\n",
       "      <td>11.2</td>\n",
       "      <td>0.28</td>\n",
       "      <td>0.56</td>\n",
       "      <td>1.9</td>\n",
       "      <td>0.075</td>\n",
       "      <td>17.0</td>\n",
       "      <td>60.0</td>\n",
       "      <td>0.9980</td>\n",
       "      <td>3.16</td>\n",
       "      <td>0.58</td>\n",
       "      <td>9.8</td>\n",
       "      <td>6</td>\n",
       "    </tr>\n",
       "    <tr>\n",
       "      <th>4</th>\n",
       "      <td>7.4</td>\n",
       "      <td>0.70</td>\n",
       "      <td>0.00</td>\n",
       "      <td>1.9</td>\n",
       "      <td>0.076</td>\n",
       "      <td>11.0</td>\n",
       "      <td>34.0</td>\n",
       "      <td>0.9978</td>\n",
       "      <td>3.51</td>\n",
       "      <td>0.56</td>\n",
       "      <td>9.4</td>\n",
       "      <td>5</td>\n",
       "    </tr>\n",
       "  </tbody>\n",
       "</table>\n",
       "</div>"
      ],
      "text/plain": [
       "   fixed acidity  volatile acidity  citric acid  residual sugar  chlorides  \\\n",
       "0            7.4              0.70         0.00             1.9      0.076   \n",
       "1            7.8              0.88         0.00             2.6      0.098   \n",
       "2            7.8              0.76         0.04             2.3      0.092   \n",
       "3           11.2              0.28         0.56             1.9      0.075   \n",
       "4            7.4              0.70         0.00             1.9      0.076   \n",
       "\n",
       "   free sulfur dioxide  total sulfur dioxide  density    pH  sulphates  \\\n",
       "0                 11.0                  34.0   0.9978  3.51       0.56   \n",
       "1                 25.0                  67.0   0.9968  3.20       0.68   \n",
       "2                 15.0                  54.0   0.9970  3.26       0.65   \n",
       "3                 17.0                  60.0   0.9980  3.16       0.58   \n",
       "4                 11.0                  34.0   0.9978  3.51       0.56   \n",
       "\n",
       "   alcohol  quality  \n",
       "0      9.4        5  \n",
       "1      9.8        5  \n",
       "2      9.8        5  \n",
       "3      9.8        6  \n",
       "4      9.4        5  "
      ]
     },
     "execution_count": 2,
     "metadata": {},
     "output_type": "execute_result"
    }
   ],
   "source": [
    "#Read the dataset\n",
    "data=pd.read_csv('wine-quality.csv',sep=\";\")\n",
    "data.head()"
   ]
  },
  {
   "cell_type": "code",
   "execution_count": 3,
   "id": "7555bd36-c896-45dc-884f-61e9616ea68f",
   "metadata": {},
   "outputs": [],
   "source": [
    "#See some information regarding the dataset\n",
    "#data.describe()\n",
    "#data.info()"
   ]
  },
  {
   "cell_type": "code",
   "execution_count": 4,
   "id": "41c5f743-2494-4cfa-a54b-a1f144ec1f34",
   "metadata": {},
   "outputs": [
    {
     "name": "stdout",
     "output_type": "stream",
     "text": [
      "fixed acidity           0\n",
      "volatile acidity        0\n",
      "citric acid             0\n",
      "residual sugar          0\n",
      "chlorides               0\n",
      "free sulfur dioxide     0\n",
      "total sulfur dioxide    0\n",
      "density                 0\n",
      "pH                      0\n",
      "sulphates               0\n",
      "alcohol                 0\n",
      "quality                 0\n",
      "dtype: int64\n",
      "240\n",
      "fixed acidity           float64\n",
      "volatile acidity        float64\n",
      "citric acid             float64\n",
      "residual sugar          float64\n",
      "chlorides               float64\n",
      "free sulfur dioxide     float64\n",
      "total sulfur dioxide    float64\n",
      "density                 float64\n",
      "pH                      float64\n",
      "sulphates               float64\n",
      "alcohol                 float64\n",
      "quality                   int64\n",
      "dtype: object\n"
     ]
    }
   ],
   "source": [
    "# Check for missing values\n",
    "print(data.isnull().sum())\n",
    "\n",
    "# Drop rows with missing values\n",
    "data = data.dropna()\n",
    "\n",
    "# Check for duplicates\n",
    "print(data.duplicated().sum())\n",
    "\n",
    "# Drop duplicates\n",
    "data = data.drop_duplicates()\n",
    "\n",
    "# Check the data types of each column\n",
    "print(data.dtypes)"
   ]
  },
  {
   "cell_type": "code",
   "execution_count": 5,
   "id": "104cf1bc-b9e0-426b-b46f-0b2f4a895494",
   "metadata": {},
   "outputs": [],
   "source": [
    "# Replace the quality score based on what asked\n",
    "data[\"quality\"] = pd.cut(data[\"quality\"], bins=[0, 6.5, 10], labels=[0, 1])"
   ]
  },
  {
   "cell_type": "markdown",
   "id": "9c1d363a-dc2e-4fe3-92b8-178703e84b47",
   "metadata": {},
   "source": [
    "## b. (10 pts) Rank the input features based on their importance & print them"
   ]
  },
  {
   "cell_type": "code",
   "execution_count": 6,
   "id": "571e52fc-1f17-49f8-a5f6-e607d6ef3e6b",
   "metadata": {},
   "outputs": [
    {
     "name": "stdout",
     "output_type": "stream",
     "text": [
      "                 feature  mutual_info\n",
      "10               alcohol     0.080368\n",
      "9              sulphates     0.055566\n",
      "1       volatile acidity     0.050401\n",
      "2            citric acid     0.044398\n",
      "7                density     0.031699\n",
      "4              chlorides     0.029816\n",
      "0          fixed acidity     0.029811\n",
      "6   total sulfur dioxide     0.026974\n",
      "5    free sulfur dioxide     0.011165\n",
      "3         residual sugar     0.005923\n",
      "8                     pH     0.005483\n"
     ]
    }
   ],
   "source": [
    "# Drop rows with missing values\n",
    "data = data.dropna()\n",
    "\n",
    "# Drop duplicates\n",
    "data = data.drop_duplicates()\n",
    "\n",
    "# Split the data into input and target\n",
    "X = data.drop(\"quality\", axis=1)\n",
    "y = data[\"quality\"]\n",
    "\n",
    "# Compute mutual information between each feature and the target\n",
    "mutual_info = mutual_info_classif(X, y)\n",
    "\n",
    "# Create a DataFrame of mutual information scores\n",
    "mutual_info_df = pd.DataFrame(\n",
    "    {\"feature\": X.columns, \"mutual_info\": mutual_info}\n",
    ")\n",
    "\n",
    "# Sort the features by mutual information in descending order\n",
    "mutual_info_df = mutual_info_df.sort_values(by=\"mutual_info\", ascending=False)\n",
    "\n",
    "# Print the features and their mutual information scores\n",
    "print(mutual_info_df)\n"
   ]
  },
  {
   "cell_type": "markdown",
   "id": "f100398d-d414-4d23-8cd3-bbcae0269b98",
   "metadata": {},
   "source": [
    "## c. (20 pts) Train a Decision Tree and a Neural Network (with 50% of data). Experiment with the\n",
    "following parameters for the architecture and training of the Neural Network: the number of nodes in the hidden layers (it’s up to you), and the number of hidden layers (up to 2). For the Decision tree, experiment with the with the max_depth specifying the maximum depth of the tree (try two different values)."
   ]
  },
  {
   "cell_type": "code",
   "execution_count": 7,
   "id": "4a3e4a14-d4b6-4db3-8e94-6a4f404d9132",
   "metadata": {},
   "outputs": [
    {
     "name": "stdout",
     "output_type": "stream",
     "text": [
      "Decision Tree with max_depth=3 accuracy score: 0.8852941176470588\n",
      "Decision Tree with max_depth=5 accuracy score: 0.861764705882353\n",
      "Neural Network with one hidden layer accuracy score: 0.8779411764705882\n",
      "Neural Network with two hidden layers accuracy score: 0.8808823529411764\n",
      "Neural Network with three hidden layers accuracy score: 0.8647058823529412\n"
     ]
    }
   ],
   "source": [
    "# Split the data into training and testing sets\n",
    "X_train, X_test, y_train, y_test = train_test_split(X, y, test_size=0.5, random_state=42)\n",
    "\n",
    "# Train a Decision Tree with max_depth=3 and max_depth=5\n",
    "dtc1 = DecisionTreeClassifier(max_depth=3, random_state=42)\n",
    "dtc2 = DecisionTreeClassifier(max_depth=5, random_state=42)\n",
    "dtc1.fit(X_train, y_train)\n",
    "dtc2.fit(X_train, y_train)\n",
    "\n",
    "# Train a Neural Network with different architectures and hyperparameters\n",
    "nn1 = MLPClassifier(hidden_layer_sizes=(100,), max_iter=500, random_state=42)\n",
    "nn2 = MLPClassifier(hidden_layer_sizes=(100, 50), max_iter=500, random_state=42)\n",
    "nn3 = MLPClassifier(hidden_layer_sizes=(200, 100, 50), max_iter=500, random_state=42)\n",
    "nn1.fit(X_train, y_train)\n",
    "nn2.fit(X_train, y_train)\n",
    "nn3.fit(X_train, y_train)\n",
    "\n",
    "# Evaluate the models on the test set\n",
    "dtc1_score = accuracy_score(y_test, dtc1.predict(X_test))\n",
    "dtc2_score = accuracy_score(y_test, dtc2.predict(X_test))\n",
    "nn1_score = accuracy_score(y_test, nn1.predict(X_test))\n",
    "nn2_score = accuracy_score(y_test, nn2.predict(X_test))\n",
    "nn3_score = accuracy_score(y_test, nn3.predict(X_test))\n",
    "\n",
    "# Print the accuracy scores for the models\n",
    "print(\"Decision Tree with max_depth=3 accuracy score:\", dtc1_score)\n",
    "print(\"Decision Tree with max_depth=5 accuracy score:\", dtc2_score)\n",
    "print(\"Neural Network with one hidden layer accuracy score:\", nn1_score)\n",
    "print(\"Neural Network with two hidden layers accuracy score:\", nn2_score)\n",
    "print(\"Neural Network with three hidden layers accuracy score:\", nn3_score)"
   ]
  },
  {
   "cell_type": "markdown",
   "id": "7e91f507-4bba-4f2e-ae0f-f3b398f475ea",
   "metadata": {},
   "source": [
    "## d. (10 pts) Obtain macro-Precision, macro-Recall and F1, for best set of parameters for each of the models that you experiment with, that give the best F1 score."
   ]
  },
  {
   "cell_type": "code",
   "execution_count": 8,
   "id": "7980b9e4-309c-4bac-89ef-fe81aca67c1e",
   "metadata": {},
   "outputs": [
    {
     "name": "stdout",
     "output_type": "stream",
     "text": [
      "DT1: Macro Precision, recall, f1-score\n",
      "[0.7611172733689624,0.6476929219186677,0.6813725490196079]\n",
      "\n",
      "\n",
      "DT2: Macro Precision, recall, f1-score\n",
      "[0.6972145002705274,0.7009638966520276,0.6990583804143127]\n",
      "\n",
      "\n",
      "NN1: Macro Precision, recall, f1-score\n",
      "[0.7453846153846153,0.5909713112416586,0.6178197306319788]\n",
      "\n",
      "\n",
      "NN2: Macro Precision, recall, f1-score\n",
      "[0.7382305194805194,0.6785585277286641,0.7017398508699255]\n"
     ]
    }
   ],
   "source": [
    "# Evaluate the models on the test set\n",
    "dtc1_y_pred = dtc1.predict(X_test)\n",
    "dtc2_y_pred = dtc2.predict(X_test)\n",
    "nn1_y_pred = nn1.predict(X_test)\n",
    "nn2_y_pred = nn2.predict(X_test)\n",
    "nn3_y_pred = nn3.predict(X_test)\n",
    "\n",
    "# Compute the macro-precision, macro-recall, and F1 score for the models\n",
    "dtc1_precision = precision_score(y_test, dtc1_y_pred, average='macro')\n",
    "dtc1_recall = recall_score(y_test, dtc1_y_pred, average='macro')\n",
    "dtc1_f1 = f1_score(y_test, dtc1_y_pred, average='macro')\n",
    "\n",
    "#Measures of performance: Precision, Recall, F1\n",
    "print ('DT1: Macro Precision, recall, f1-score')\n",
    "print('[{},{},{}]'.format(dtc1_precision,dtc1_recall,dtc1_f1))\n",
    "print ('\\n')\n",
    "\n",
    "# Compute the macro-precision, macro-recall, and F1 score for the models\n",
    "dtc2_precision = precision_score(y_test, dtc2_y_pred, average='macro')\n",
    "dtc2_recall = recall_score(y_test, dtc2_y_pred, average='macro')\n",
    "dtc2_f1 = f1_score(y_test, dtc2_y_pred, average='macro')\n",
    "\n",
    "#Measures of performance: Precision, Recall, F1\n",
    "print ('DT2: Macro Precision, recall, f1-score')\n",
    "print('[{},{},{}]'.format(dtc2_precision,dtc2_recall,dtc2_f1))\n",
    "print ('\\n')\n",
    "\n",
    "# Compute the macro-precision, macro-recall, and F1 score for the models\n",
    "nn1_precision = precision_score(y_test, nn1_y_pred, average='macro')\n",
    "nn1_recall = recall_score(y_test, nn1_y_pred, average='macro')\n",
    "nn1_f1 = f1_score(y_test, nn1_y_pred, average='macro')\n",
    "\n",
    "#Measures of performance: Precision, Recall, F1\n",
    "print ('NN1: Macro Precision, recall, f1-score')\n",
    "print('[{},{},{}]'.format(nn1_precision,nn1_recall,nn1_f1))\n",
    "print ('\\n')\n",
    "\n",
    "# Compute the macro-precision, macro-recall, and F1 score for the models\n",
    "nn2_precision = precision_score(y_test, nn2_y_pred, average='macro')\n",
    "nn2_recall = recall_score(y_test, nn2_y_pred, average='macro')\n",
    "nn2_f1 = f1_score(y_test,nn2_y_pred,average='macro')\n",
    "\n",
    "#Measures of performance: Precision, Recall, F1\n",
    "print ('NN2: Macro Precision, recall, f1-score')\n",
    "print('[{},{},{}]'.format(nn2_precision,nn2_recall,nn2_f1))"
   ]
  },
  {
   "cell_type": "markdown",
   "id": "cb1c4f00-e04a-447d-a784-4f88466f4259",
   "metadata": {},
   "source": [
    "----------"
   ]
  }
 ],
 "metadata": {
  "kernelspec": {
   "display_name": "Python 3 (ipykernel)",
   "language": "python",
   "name": "python3"
  },
  "language_info": {
   "codemirror_mode": {
    "name": "ipython",
    "version": 3
   },
   "file_extension": ".py",
   "mimetype": "text/x-python",
   "name": "python",
   "nbconvert_exporter": "python",
   "pygments_lexer": "ipython3",
   "version": "3.8.11"
  }
 },
 "nbformat": 4,
 "nbformat_minor": 5
}
