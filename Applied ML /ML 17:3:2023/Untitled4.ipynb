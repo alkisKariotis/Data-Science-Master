{
 "cells": [
  {
   "cell_type": "code",
   "execution_count": 2,
   "id": "af8677c6-fb9b-44f7-ba7b-749962ea1ec6",
   "metadata": {},
   "outputs": [
    {
     "name": "stdout",
     "output_type": "stream",
     "text": [
      "Coefficients: \n",
      " [  0.          -0.         480.42005687 115.83264166  -0.\n",
      "   0.         -49.88263259   0.         403.01522334   0.        ]\n",
      "Intercept: \n",
      " 152.72760261040438\n",
      "Mean squared error: 2903.58\n",
      "Variance score: 0.50\n",
      "Mean absolute error: 46.36\n"
     ]
    }
   ],
   "source": [
    "\n",
    "import matplotlib.pyplot as plt\n",
    "import numpy as np\n",
    "from sklearn import datasets, linear_model\n",
    "from sklearn.metrics import mean_squared_error, r2_score, mean_absolute_error\n",
    "\n",
    "# Load the diabetes dataset\n",
    "diabetes = datasets.load_diabetes()\n",
    "\n",
    "#number of samples\n",
    "nSamples=diabetes.data.shape[0]\n",
    "\n",
    "\n",
    "# number of testing data\n",
    "nTest=70\n",
    "\n",
    "\n",
    "def unison_shuffled_copies(a, b):\n",
    "    assert len(a) == len(b)\n",
    "    p = np.random.permutation(len(a))\n",
    "    return a[p], b[p]\n",
    "\n",
    "\n",
    "\n",
    "# Use only one feature\n",
    "featureNumber=np.array([0,1,2,3,4,5,6,7,8,9])\n",
    "diabetes_X = diabetes.data[:, featureNumber]\n",
    "\n",
    "#diabetes_X, diabetes.target = unison_shuffled_copies(diabetes_X, diabetes.target)\n",
    "\n",
    "\n",
    "# Split the data into training/testing sets\n",
    "\n",
    "diabetes_X_train = diabetes_X[:-nTest]\n",
    "diabetes_X_test = diabetes_X[-nTest:]\n",
    "\n",
    "# Split the targets into training/testing sets\n",
    "diabetes_y_train = diabetes.target[:-nTest]\n",
    "diabetes_y_test = diabetes.target[-nTest:]\n",
    "\n",
    "# Create linear regression object\n",
    "#regr = linear_model.LinearRegression()\n",
    "regr = linear_model.Lasso(alpha=0.5)\n",
    "\n",
    "# Train the model using the training sets\n",
    "regr.fit(diabetes_X_train, diabetes_y_train)\n",
    "\n",
    "# Make predictions using the testing set\n",
    "diabetes_y_pred = regr.predict(diabetes_X_test)\n",
    "\n",
    "# The coefficients\n",
    "print('Coefficients: \\n', regr.coef_)\n",
    "print ('Intercept: \\n',regr.intercept_)\n",
    "# The mean squared error\n",
    "print(\"Mean squared error: %.2f\"\n",
    "      % mean_squared_error(diabetes_y_test, diabetes_y_pred))\n",
    "# Explained variance score: 1 is perfect prediction\n",
    "print('Variance score: %.2f' % r2_score(diabetes_y_test, diabetes_y_pred))\n",
    "\n",
    "print(\"Mean absolute error: %.2f\"\n",
    "      % mean_absolute_error(diabetes_y_test, diabetes_y_pred))"
   ]
  },
  {
   "cell_type": "code",
   "execution_count": null,
   "id": "40a20609-cdbe-478f-bb4b-47e429c583e8",
   "metadata": {},
   "outputs": [],
   "source": []
  }
 ],
 "metadata": {
  "kernelspec": {
   "display_name": "Python 3 (ipykernel)",
   "language": "python",
   "name": "python3"
  },
  "language_info": {
   "codemirror_mode": {
    "name": "ipython",
    "version": 3
   },
   "file_extension": ".py",
   "mimetype": "text/x-python",
   "name": "python",
   "nbconvert_exporter": "python",
   "pygments_lexer": "ipython3",
   "version": "3.8.11"
  }
 },
 "nbformat": 4,
 "nbformat_minor": 5
}
