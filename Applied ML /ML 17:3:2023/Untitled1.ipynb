{
 "cells": [
  {
   "cell_type": "code",
   "execution_count": 1,
   "id": "e0ca36d9-33e1-42e1-8a46-f66781eb9637",
   "metadata": {},
   "outputs": [
    {
     "name": "stdout",
     "output_type": "stream",
     "text": [
      "Coefficients: \n",
      " [257.02656478]\n",
      "Intercept: \n",
      " 152.08314613758742\n",
      "Mean squared error: 4967.31\n",
      "Variance score: 0.18\n",
      "Mean absolute error: 61.52\n",
      "R2 score Ridge: 0.18\n",
      "Vif= 1.219342329304719\n"
     ]
    },
    {
     "data": {
      "image/png": "[encoded data removed]",
      "text/plain": [
       "<Figure size 640x480 with 1 Axes>"
      ]
     },
     "metadata": {},
     "output_type": "display_data"
    }
   ],
   "source": [
    "import matplotlib.pyplot as plt\n",
    "import numpy as np\n",
    "from sklearn import datasets, linear_model\n",
    "from sklearn.metrics import mean_squared_error, r2_score, mean_absolute_error\n",
    "from sklearn.linear_model import Ridge\n",
    "from sklearn import preprocessing\n",
    "\n",
    "def unison_shuffled_copies(a, b):\n",
    "    assert len(a) == len(b)\n",
    "    p = np.random.permutation(len(a))\n",
    "    return a[p], b[p]\n",
    "\n",
    "#diabetes.feature_names\n",
    "#['age', 'sex', 'bmi', 'bp', 's1', 's2', 's3', 's4', 's5', 's6']\n",
    "#diabes.DESCR\n",
    "#bp= blood presure, and 6 blood serum movements\n",
    "#predict disease progressing one year after base line\n",
    "\n",
    "# Load the diabetes dataset\n",
    "diabetes = datasets.load_diabetes()\n",
    "\n",
    "#number of samples\n",
    "nSamples=diabetes.data.shape[0]\n",
    "\n",
    "# number of testing data\n",
    "nTest=100\n",
    "\n",
    "# Use only one feature\n",
    "featureNumber=2\n",
    "diabetes_X = diabetes.data[:, featureNumber].reshape(-1,1)\n",
    "\n",
    "#diabetes_X, diabetes.target = unison_shuffled_copies(diabetes_X, diabetes.target)\n",
    "\n",
    "# Split the data into training/testing sets\n",
    "diabetes_X_train = diabetes_X[:-nTest]\n",
    "diabetes_X_test = diabetes_X[-nTest:]\n",
    "\n",
    "# Split the targets into training/testing sets\n",
    "diabetes_y_train = diabetes.target[:-nTest]\n",
    "diabetes_y_test = diabetes.target[-nTest:]\n",
    "\n",
    "# Create linear regression object\n",
    "#regr = linear_model.LinearRegression()\n",
    "#Go for ridge regression\n",
    "regr = Ridge(alpha=2)\n",
    "\n",
    "# Train the model using the training sets\n",
    "regr.fit(diabetes_X_train, diabetes_y_train)\n",
    "\n",
    "# Make predictions using the testing set\n",
    "diabetes_y_pred = regr.predict(diabetes_X_test)\n",
    "\n",
    "# The coefficients\n",
    "print ('Coefficients: \\n', regr.coef_)\n",
    "print ('Intercept: \\n',regr.intercept_)\n",
    "# The mean squared error\n",
    "print (\"Mean squared error: %.2f\" % mean_squared_error(diabetes_y_test, diabetes_y_pred))\n",
    "# Explained variance score: 1 is perfect prediction\n",
    "print ('Variance score: %.2f' % r2_score(diabetes_y_test, diabetes_y_pred))\n",
    "r2=r2_score(diabetes_y_test, diabetes_y_pred)\n",
    "print (\"Mean absolute error: %.2f\" % mean_absolute_error(diabetes_y_test, diabetes_y_pred))\n",
    "print ('R2 score Ridge: %.2f' % r2_score(diabetes_y_test, diabetes_y_pred))\n",
    "\n",
    "\n",
    "vif=1/(1-r2)\n",
    "print ('Vif=',vif)\n",
    "\n",
    "# Plot outputs\n",
    "plt.scatter(diabetes_X_test, diabetes_y_test,  color='black')\n",
    "plt.plot(diabetes_X_test, diabetes_y_pred, color='blue', linewidth=3)\n",
    "\n",
    "plt.xticks(())\n",
    "plt.yticks(())\n",
    "\n",
    "plt.show()\n",
    "\n",
    "\n"
   ]
  },
  {
   "cell_type": "code",
   "execution_count": null,
   "id": "4bcc5a27-6b49-4ccc-a54e-5609894a773f",
   "metadata": {},
   "outputs": [],
   "source": []
  }
 ],
 "metadata": {
  "kernelspec": {
   "display_name": "Python 3 (ipykernel)",
   "language": "python",
   "name": "python3"
  },
  "language_info": {
   "codemirror_mode": {
    "name": "ipython",
    "version": 3
   },
   "file_extension": ".py",
   "mimetype": "text/x-python",
   "name": "python",
   "nbconvert_exporter": "python",
   "pygments_lexer": "ipython3",
   "version": "3.8.11"
  }
 },
 "nbformat": 4,
 "nbformat_minor": 5
}
