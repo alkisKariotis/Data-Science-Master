{
 "cells": [
  {
   "cell_type": "code",
   "execution_count": 2,
   "id": "1cc1d0b4",
   "metadata": {},
   "outputs": [],
   "source": [
    "import pandas as pd"
   ]
  },
  {
   "cell_type": "code",
   "execution_count": 3,
   "id": "3f06c884",
   "metadata": {},
   "outputs": [],
   "source": [
    "from statsmodels.tsa.stattools import adfuller"
   ]
  },
  {
   "cell_type": "code",
   "execution_count": 4,
   "id": "81f921e4",
   "metadata": {},
   "outputs": [],
   "source": [
    "from statsmodels.graphics.tsaplots import plot_acf, plot_pacf"
   ]
  },
  {
   "cell_type": "code",
   "execution_count": 5,
   "id": "4c5ba822",
   "metadata": {},
   "outputs": [],
   "source": [
    "import statsmodels.api as sm"
   ]
  },
  {
   "cell_type": "code",
   "execution_count": 6,
   "id": "f215aaa5",
   "metadata": {},
   "outputs": [],
   "source": [
    "import statsmodels.api as sm"
   ]
  },
  {
   "cell_type": "code",
   "execution_count": 7,
   "id": "54eb189b",
   "metadata": {},
   "outputs": [],
   "source": [
    "import pmdarima"
   ]
  },
  {
   "cell_type": "code",
   "execution_count": 8,
   "id": "223f0b4e",
   "metadata": {},
   "outputs": [],
   "source": [
    "from pmdarima.arima import auto_arima"
   ]
  },
  {
   "cell_type": "code",
   "execution_count": 9,
   "id": "cdb7c0d5",
   "metadata": {},
   "outputs": [],
   "source": [
    "from matplotlib import pyplot as plt"
   ]
  },
  {
   "cell_type": "code",
   "execution_count": 21,
   "id": "db6acca7",
   "metadata": {},
   "outputs": [],
   "source": [
    "df=pd.read_csv(r'C:\\Users\\ZarasAndreas\\Documents\\Documents\\Courses Taught by Me\\Forecasting Course_FINAL\\FINAL\\Course Presentations\\Python\\saledata - Python.csv')"
   ]
  },
  {
   "cell_type": "code",
   "execution_count": 22,
   "id": "25dee0b5",
   "metadata": {},
   "outputs": [
    {
     "data": {
      "text/html": [
       "<div>\n",
       "<style scoped>\n",
       "    .dataframe tbody tr th:only-of-type {\n",
       "        vertical-align: middle;\n",
       "    }\n",
       "\n",
       "    .dataframe tbody tr th {\n",
       "        vertical-align: top;\n",
       "    }\n",
       "\n",
       "    .dataframe thead th {\n",
       "        text-align: right;\n",
       "    }\n",
       "</style>\n",
       "<table border=\"1\" class=\"dataframe\">\n",
       "  <thead>\n",
       "    <tr style=\"text-align: right;\">\n",
       "      <th></th>\n",
       "      <th>Date</th>\n",
       "      <th>PrintMedia</th>\n",
       "      <th>TVRadio</th>\n",
       "      <th>DirectMail</th>\n",
       "      <th>Internet</th>\n",
       "      <th>Staffing</th>\n",
       "      <th>CompeteSales</th>\n",
       "      <th>LSalesRatio</th>\n",
       "      <th>SalesAmount</th>\n",
       "      <th>SalesRatio</th>\n",
       "      <th>TotalAdvertising</th>\n",
       "    </tr>\n",
       "  </thead>\n",
       "  <tbody>\n",
       "    <tr>\n",
       "      <th>0</th>\n",
       "      <td>28Sep1997</td>\n",
       "      <td>250</td>\n",
       "      <td>1520</td>\n",
       "      <td>120</td>\n",
       "      <td>352</td>\n",
       "      <td>15</td>\n",
       "      <td>82539</td>\n",
       "      <td>0.661932</td>\n",
       "      <td>60015</td>\n",
       "      <td>0.579002</td>\n",
       "      <td>2242</td>\n",
       "    </tr>\n",
       "    <tr>\n",
       "      <th>1</th>\n",
       "      <td>05Oct1997</td>\n",
       "      <td>210</td>\n",
       "      <td>1480</td>\n",
       "      <td>210</td>\n",
       "      <td>254</td>\n",
       "      <td>15</td>\n",
       "      <td>80219</td>\n",
       "      <td>0.579002</td>\n",
       "      <td>47884</td>\n",
       "      <td>0.626207</td>\n",
       "      <td>2154</td>\n",
       "    </tr>\n",
       "    <tr>\n",
       "      <th>2</th>\n",
       "      <td>12Oct1997</td>\n",
       "      <td>190</td>\n",
       "      <td>1380</td>\n",
       "      <td>414</td>\n",
       "      <td>246</td>\n",
       "      <td>16</td>\n",
       "      <td>84681</td>\n",
       "      <td>0.626207</td>\n",
       "      <td>46798</td>\n",
       "      <td>0.644065</td>\n",
       "      <td>2230</td>\n",
       "    </tr>\n",
       "    <tr>\n",
       "      <th>3</th>\n",
       "      <td>19Oct1997</td>\n",
       "      <td>180</td>\n",
       "      <td>1322</td>\n",
       "      <td>530</td>\n",
       "      <td>286</td>\n",
       "      <td>19</td>\n",
       "      <td>88307</td>\n",
       "      <td>0.644065</td>\n",
       "      <td>56831</td>\n",
       "      <td>0.608435</td>\n",
       "      <td>2318</td>\n",
       "    </tr>\n",
       "    <tr>\n",
       "      <th>4</th>\n",
       "      <td>26Oct1997</td>\n",
       "      <td>180</td>\n",
       "      <td>1250</td>\n",
       "      <td>530</td>\n",
       "      <td>270</td>\n",
       "      <td>18</td>\n",
       "      <td>81248</td>\n",
       "      <td>0.608435</td>\n",
       "      <td>68287</td>\n",
       "      <td>0.543338</td>\n",
       "      <td>2230</td>\n",
       "    </tr>\n",
       "    <tr>\n",
       "      <th>...</th>\n",
       "      <td>...</td>\n",
       "      <td>...</td>\n",
       "      <td>...</td>\n",
       "      <td>...</td>\n",
       "      <td>...</td>\n",
       "      <td>...</td>\n",
       "      <td>...</td>\n",
       "      <td>...</td>\n",
       "      <td>...</td>\n",
       "      <td>...</td>\n",
       "      <td>...</td>\n",
       "    </tr>\n",
       "    <tr>\n",
       "      <th>83</th>\n",
       "      <td>02May1999</td>\n",
       "      <td>20</td>\n",
       "      <td>0</td>\n",
       "      <td>45</td>\n",
       "      <td>350</td>\n",
       "      <td>117</td>\n",
       "      <td>98223</td>\n",
       "      <td>0.646234</td>\n",
       "      <td>52256</td>\n",
       "      <td>0.652736</td>\n",
       "      <td>415</td>\n",
       "    </tr>\n",
       "    <tr>\n",
       "      <th>84</th>\n",
       "      <td>09May1999</td>\n",
       "      <td>16</td>\n",
       "      <td>0</td>\n",
       "      <td>15</td>\n",
       "      <td>440</td>\n",
       "      <td>120</td>\n",
       "      <td>97874</td>\n",
       "      <td>0.652736</td>\n",
       "      <td>60680</td>\n",
       "      <td>0.617291</td>\n",
       "      <td>471</td>\n",
       "    </tr>\n",
       "    <tr>\n",
       "      <th>85</th>\n",
       "      <td>16May1999</td>\n",
       "      <td>16</td>\n",
       "      <td>182</td>\n",
       "      <td>15</td>\n",
       "      <td>453</td>\n",
       "      <td>121</td>\n",
       "      <td>106750</td>\n",
       "      <td>0.617291</td>\n",
       "      <td>62286</td>\n",
       "      <td>0.631522</td>\n",
       "      <td>666</td>\n",
       "    </tr>\n",
       "    <tr>\n",
       "      <th>86</th>\n",
       "      <td>23May1999</td>\n",
       "      <td>16</td>\n",
       "      <td>602</td>\n",
       "      <td>0</td>\n",
       "      <td>507</td>\n",
       "      <td>120</td>\n",
       "      <td>103959</td>\n",
       "      <td>0.631522</td>\n",
       "      <td>66803</td>\n",
       "      <td>0.608795</td>\n",
       "      <td>1125</td>\n",
       "    </tr>\n",
       "    <tr>\n",
       "      <th>87</th>\n",
       "      <td>30May1999</td>\n",
       "      <td>25</td>\n",
       "      <td>600</td>\n",
       "      <td>0</td>\n",
       "      <td>507</td>\n",
       "      <td>112</td>\n",
       "      <td>104713</td>\n",
       "      <td>0.608795</td>\n",
       "      <td>67221</td>\n",
       "      <td>0.609030</td>\n",
       "      <td>1132</td>\n",
       "    </tr>\n",
       "  </tbody>\n",
       "</table>\n",
       "<p>88 rows × 11 columns</p>\n",
       "</div>"
      ],
      "text/plain": [
       "         Date  PrintMedia  TVRadio  DirectMail  Internet  Staffing  \\\n",
       "0   28Sep1997         250     1520         120       352        15   \n",
       "1   05Oct1997         210     1480         210       254        15   \n",
       "2   12Oct1997         190     1380         414       246        16   \n",
       "3   19Oct1997         180     1322         530       286        19   \n",
       "4   26Oct1997         180     1250         530       270        18   \n",
       "..        ...         ...      ...         ...       ...       ...   \n",
       "83  02May1999          20        0          45       350       117   \n",
       "84  09May1999          16        0          15       440       120   \n",
       "85  16May1999          16      182          15       453       121   \n",
       "86  23May1999          16      602           0       507       120   \n",
       "87  30May1999          25      600           0       507       112   \n",
       "\n",
       "    CompeteSales  LSalesRatio  SalesAmount  SalesRatio  TotalAdvertising  \n",
       "0          82539     0.661932        60015    0.579002              2242  \n",
       "1          80219     0.579002        47884    0.626207              2154  \n",
       "2          84681     0.626207        46798    0.644065              2230  \n",
       "3          88307     0.644065        56831    0.608435              2318  \n",
       "4          81248     0.608435        68287    0.543338              2230  \n",
       "..           ...          ...          ...         ...               ...  \n",
       "83         98223     0.646234        52256    0.652736               415  \n",
       "84         97874     0.652736        60680    0.617291               471  \n",
       "85        106750     0.617291        62286    0.631522               666  \n",
       "86        103959     0.631522        66803    0.608795              1125  \n",
       "87        104713     0.608795        67221    0.609030              1132  \n",
       "\n",
       "[88 rows x 11 columns]"
      ]
     },
     "execution_count": 22,
     "metadata": {},
     "output_type": "execute_result"
    }
   ],
   "source": [
    "df"
   ]
  },
  {
   "cell_type": "code",
   "execution_count": 23,
   "id": "d6a99898",
   "metadata": {},
   "outputs": [],
   "source": [
    "df=df.set_index(\"Date\")"
   ]
  },
  {
   "cell_type": "code",
   "execution_count": 24,
   "id": "2f5c2098",
   "metadata": {},
   "outputs": [
    {
     "data": {
      "text/plain": [
       "<AxesSubplot:xlabel='Date'>"
      ]
     },
     "execution_count": 24,
     "metadata": {},
     "output_type": "execute_result"
    },
    {
     "data": {
      "image/png": "[encoded data removed]",
      "text/plain": [
       "<Figure size 640x480 with 1 Axes>"
      ]
     },
     "metadata": {},
     "output_type": "display_data"
    }
   ],
   "source": [
    "df.plot()"
   ]
  },
  {
   "cell_type": "code",
   "execution_count": 14,
   "id": "306c90ca",
   "metadata": {},
   "outputs": [
    {
     "data": {
      "text/plain": [
       "0"
      ]
     },
     "execution_count": 14,
     "metadata": {},
     "output_type": "execute_result"
    }
   ],
   "source": [
    "pmdarima.arima.nsdiffs(df['SalesAmount'],m=4)"
   ]
  },
  {
   "cell_type": "code",
   "execution_count": 15,
   "id": "a370cf1f",
   "metadata": {},
   "outputs": [
    {
     "data": {
      "text/plain": [
       "0"
      ]
     },
     "execution_count": 15,
     "metadata": {},
     "output_type": "execute_result"
    }
   ],
   "source": [
    "pmdarima.arima.nsdiffs(df['SalesAmount'],m=12)"
   ]
  },
  {
   "cell_type": "code",
   "execution_count": 16,
   "id": "ff54fa2c",
   "metadata": {},
   "outputs": [
    {
     "data": {
      "text/plain": [
       "(-2.836222981144326,\n",
       " 0.0532829586616027,\n",
       " 4,\n",
       " 83,\n",
       " {'1%': -3.5117123057187376,\n",
       "  '5%': -2.8970475206326833,\n",
       "  '10%': -2.5857126912469153},\n",
       " 1504.9960584473026)"
      ]
     },
     "execution_count": 16,
     "metadata": {},
     "output_type": "execute_result"
    }
   ],
   "source": [
    "adfuller(df[\"SalesAmount\"])"
   ]
  },
  {
   "cell_type": "code",
   "execution_count": 25,
   "id": "2d173608",
   "metadata": {},
   "outputs": [
    {
     "name": "stdout",
     "output_type": "stream",
     "text": [
      "<class 'pandas.core.frame.DataFrame'>\n",
      "Index: 88 entries, 28Sep1997 to 30May1999\n",
      "Data columns (total 10 columns):\n",
      " #   Column            Non-Null Count  Dtype  \n",
      "---  ------            --------------  -----  \n",
      " 0   PrintMedia        88 non-null     int64  \n",
      " 1   TVRadio           88 non-null     int64  \n",
      " 2   DirectMail        88 non-null     int64  \n",
      " 3   Internet          88 non-null     int64  \n",
      " 4   Staffing          88 non-null     int64  \n",
      " 5   CompeteSales      88 non-null     int64  \n",
      " 6   LSalesRatio       88 non-null     float64\n",
      " 7   SalesAmount       88 non-null     int64  \n",
      " 8   SalesRatio        88 non-null     float64\n",
      " 9   TotalAdvertising  88 non-null     int64  \n",
      "dtypes: float64(2), int64(8)\n",
      "memory usage: 7.6+ KB\n"
     ]
    }
   ],
   "source": [
    "df.info()"
   ]
  },
  {
   "cell_type": "code",
   "execution_count": 26,
   "id": "d5685e1c",
   "metadata": {},
   "outputs": [
    {
     "data": {
      "text/plain": [
       "Index(['PrintMedia', 'TVRadio', 'DirectMail', 'Internet', 'Staffing',\n",
       "       'CompeteSales', 'LSalesRatio', 'SalesAmount', 'SalesRatio',\n",
       "       'TotalAdvertising'],\n",
       "      dtype='object')"
      ]
     },
     "execution_count": 26,
     "metadata": {},
     "output_type": "execute_result"
    }
   ],
   "source": [
    "df.columns"
   ]
  },
  {
   "cell_type": "code",
   "execution_count": 56,
   "id": "ad26b119",
   "metadata": {},
   "outputs": [
    {
     "data": {
      "text/html": [
       "<table class=\"simpletable\">\n",
       "<caption>SARIMAX Results</caption>\n",
       "<tr>\n",
       "  <th>Dep. Variable:</th>           <td>y</td>        <th>  No. Observations:  </th>    <td>88</td>   \n",
       "</tr>\n",
       "<tr>\n",
       "  <th>Model:</th>           <td>SARIMAX(5, 0, 0)</td> <th>  Log Likelihood     </th> <td>-882.299</td>\n",
       "</tr>\n",
       "<tr>\n",
       "  <th>Date:</th>            <td>Sat, 11 Feb 2023</td> <th>  AIC                </th> <td>1778.599</td>\n",
       "</tr>\n",
       "<tr>\n",
       "  <th>Time:</th>                <td>22:55:42</td>     <th>  BIC                </th> <td>1795.940</td>\n",
       "</tr>\n",
       "<tr>\n",
       "  <th>Sample:</th>             <td>09-28-1997</td>    <th>  HQIC               </th> <td>1785.585</td>\n",
       "</tr>\n",
       "<tr>\n",
       "  <th></th>                   <td>- 05-30-1999</td>   <th>                     </th>     <td> </td>   \n",
       "</tr>\n",
       "<tr>\n",
       "  <th>Covariance Type:</th>        <td>opg</td>       <th>                     </th>     <td> </td>   \n",
       "</tr>\n",
       "</table>\n",
       "<table class=\"simpletable\">\n",
       "<tr>\n",
       "      <td></td>         <th>coef</th>     <th>std err</th>      <th>z</th>      <th>P>|z|</th>  <th>[0.025</th>    <th>0.975]</th>  \n",
       "</tr>\n",
       "<tr>\n",
       "  <th>intercept</th> <td> 1.034e+04</td> <td> 4262.510</td> <td>    2.426</td> <td> 0.015</td> <td> 1987.437</td> <td> 1.87e+04</td>\n",
       "</tr>\n",
       "<tr>\n",
       "  <th>ar.L1</th>     <td>    1.0086</td> <td>    0.091</td> <td>   11.052</td> <td> 0.000</td> <td>    0.830</td> <td>    1.188</td>\n",
       "</tr>\n",
       "<tr>\n",
       "  <th>ar.L2</th>     <td>    0.2945</td> <td>    0.156</td> <td>    1.887</td> <td> 0.059</td> <td>   -0.011</td> <td>    0.600</td>\n",
       "</tr>\n",
       "<tr>\n",
       "  <th>ar.L3</th>     <td>   -0.7240</td> <td>    0.146</td> <td>   -4.959</td> <td> 0.000</td> <td>   -1.010</td> <td>   -0.438</td>\n",
       "</tr>\n",
       "<tr>\n",
       "  <th>ar.L4</th>     <td>    0.0378</td> <td>    0.147</td> <td>    0.258</td> <td> 0.797</td> <td>   -0.250</td> <td>    0.325</td>\n",
       "</tr>\n",
       "<tr>\n",
       "  <th>ar.L5</th>     <td>    0.1991</td> <td>    0.088</td> <td>    2.269</td> <td> 0.023</td> <td>    0.027</td> <td>    0.371</td>\n",
       "</tr>\n",
       "<tr>\n",
       "  <th>sigma2</th>    <td> 2.706e+07</td> <td>    0.774</td> <td>  3.5e+07</td> <td> 0.000</td> <td> 2.71e+07</td> <td> 2.71e+07</td>\n",
       "</tr>\n",
       "</table>\n",
       "<table class=\"simpletable\">\n",
       "<tr>\n",
       "  <th>Ljung-Box (L1) (Q):</th>     <td>0.07</td> <th>  Jarque-Bera (JB):  </th> <td>0.13</td> \n",
       "</tr>\n",
       "<tr>\n",
       "  <th>Prob(Q):</th>                <td>0.79</td> <th>  Prob(JB):          </th> <td>0.94</td> \n",
       "</tr>\n",
       "<tr>\n",
       "  <th>Heteroskedasticity (H):</th> <td>0.53</td> <th>  Skew:              </th> <td>-0.06</td>\n",
       "</tr>\n",
       "<tr>\n",
       "  <th>Prob(H) (two-sided):</th>    <td>0.10</td> <th>  Kurtosis:          </th> <td>3.15</td> \n",
       "</tr>\n",
       "</table><br/><br/>Warnings:<br/>[1] Covariance matrix calculated using the outer product of gradients (complex-step).<br/>[2] Covariance matrix is singular or near-singular, with condition number 1.7e+23. Standard errors may be unstable."
      ],
      "text/plain": [
       "<class 'statsmodels.iolib.summary.Summary'>\n",
       "\"\"\"\n",
       "                               SARIMAX Results                                \n",
       "==============================================================================\n",
       "Dep. Variable:                      y   No. Observations:                   88\n",
       "Model:               SARIMAX(5, 0, 0)   Log Likelihood                -882.299\n",
       "Date:                Sat, 11 Feb 2023   AIC                           1778.599\n",
       "Time:                        22:55:42   BIC                           1795.940\n",
       "Sample:                    09-28-1997   HQIC                          1785.585\n",
       "                         - 05-30-1999                                         \n",
       "Covariance Type:                  opg                                         \n",
       "==============================================================================\n",
       "                 coef    std err          z      P>|z|      [0.025      0.975]\n",
       "------------------------------------------------------------------------------\n",
       "intercept   1.034e+04   4262.510      2.426      0.015    1987.437    1.87e+04\n",
       "ar.L1          1.0086      0.091     11.052      0.000       0.830       1.188\n",
       "ar.L2          0.2945      0.156      1.887      0.059      -0.011       0.600\n",
       "ar.L3         -0.7240      0.146     -4.959      0.000      -1.010      -0.438\n",
       "ar.L4          0.0378      0.147      0.258      0.797      -0.250       0.325\n",
       "ar.L5          0.1991      0.088      2.269      0.023       0.027       0.371\n",
       "sigma2      2.706e+07      0.774    3.5e+07      0.000    2.71e+07    2.71e+07\n",
       "===================================================================================\n",
       "Ljung-Box (L1) (Q):                   0.07   Jarque-Bera (JB):                 0.13\n",
       "Prob(Q):                              0.79   Prob(JB):                         0.94\n",
       "Heteroskedasticity (H):               0.53   Skew:                            -0.06\n",
       "Prob(H) (two-sided):                  0.10   Kurtosis:                         3.15\n",
       "===================================================================================\n",
       "\n",
       "Warnings:\n",
       "[1] Covariance matrix calculated using the outer product of gradients (complex-step).\n",
       "[2] Covariance matrix is singular or near-singular, with condition number 1.7e+23. Standard errors may be unstable.\n",
       "\"\"\""
      ]
     },
     "execution_count": 56,
     "metadata": {},
     "output_type": "execute_result"
    }
   ],
   "source": [
    "auto_model = auto_arima(df[['SalesAmount']],exog=df[['TVRadio']],start_q=0,start_p=0,start_P=0,start_Q=0,information_criterion='aic')\n",
    "auto_model.summary()"
   ]
  },
  {
   "cell_type": "code",
   "execution_count": null,
   "id": "a08e0cdd",
   "metadata": {},
   "outputs": [],
   "source": []
  }
 ],
 "metadata": {
  "kernelspec": {
   "display_name": "Python 3 (ipykernel)",
   "language": "python",
   "name": "python3"
  },
  "language_info": {
   "codemirror_mode": {
    "name": "ipython",
    "version": 3
   },
   "file_extension": ".py",
   "mimetype": "text/x-python",
   "name": "python",
   "nbconvert_exporter": "python",
   "pygments_lexer": "ipython3",
   "version": "3.9.13"
  }
 },
 "nbformat": 4,
 "nbformat_minor": 5
}
