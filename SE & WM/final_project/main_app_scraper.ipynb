{
 "cells": [
  {
   "cell_type": "markdown",
   "id": "56088705-120f-4aa9-ade5-9cfe0afd280e",
   "metadata": {},
   "source": [
    "# Google Play Store App Scraper"
   ]
  },
  {
   "cell_type": "markdown",
   "id": "0026e32b-17a6-412f-9cf7-8bbd0ea8eec2",
   "metadata": {},
   "source": [
    "## Importing Libraries"
   ]
  },
  {
   "cell_type": "code",
   "execution_count": 1,
   "id": "c08b4dba-450c-41bd-ad8a-7bbcc724a2f3",
   "metadata": {},
   "outputs": [],
   "source": [
    "import json\n",
    "import pandas as pd\n",
    "from tqdm import tqdm\n",
    "import json\n",
    "\n",
    "import seaborn as sns\n",
    "import matplotlib.pyplot as plt\n",
    "\n",
    "from pygments import highlight\n",
    "from pygments.lexers import JsonLexer\n",
    "from pygments.formatters import TerminalFormatter\n",
    "\n",
    "from google_play_scraper import Sort, reviews, app, search\n",
    "\n",
    "%matplotlib inline\n",
    "%config InlineBackend.figure_format='retina'\n",
    "\n",
    "sns.set(style='whitegrid', palette='muted', font_scale=1.2)"
   ]
  },
  {
   "cell_type": "markdown",
   "id": "d8d0ea6c-9557-4a7e-89a7-0b949ca95b13",
   "metadata": {},
   "source": [
    "## Searching for apps in the Google Play"
   ]
  },
  {
   "cell_type": "code",
   "execution_count": 2,
   "id": "345a3833-d691-466b-8416-9ae1380262dd",
   "metadata": {},
   "outputs": [],
   "source": [
    "result_search = search(\n",
    "    \"Social Media\",\n",
    "    lang=\"en\",  # defaults to 'en'\n",
    "    country=\"gr\",  # defaults to 'us'\n",
    "    n_hits=30  # defaults to 30 (= Google's maximum)\n",
    ")"
   ]
  },
  {
   "cell_type": "markdown",
   "id": "14374b48-eae6-4bfe-af52-597789637bfc",
   "metadata": {},
   "source": [
    "### Printing all the result search"
   ]
  },
  {
   "cell_type": "code",
   "execution_count": 3,
   "id": "d65bb31d-a85c-4110-ad9a-d7c476d14a16",
   "metadata": {},
   "outputs": [],
   "source": [
    "#Uncomment to see the results of the search\n",
    "#result_search"
   ]
  },
  {
   "cell_type": "markdown",
   "id": "d9a597a6-f1b2-4fc4-9d1c-0464e444d063",
   "metadata": {},
   "source": [
    "## Getting the necessary info from the scrape"
   ]
  },
  {
   "cell_type": "code",
   "execution_count": 4,
   "id": "4533db8f-5b78-4e24-90fe-86088a2e48bc",
   "metadata": {},
   "outputs": [
    {
     "data": {
      "text/html": [
       "<div>\n",
       "<style scoped>\n",
       "    .dataframe tbody tr th:only-of-type {\n",
       "        vertical-align: middle;\n",
       "    }\n",
       "\n",
       "    .dataframe tbody tr th {\n",
       "        vertical-align: top;\n",
       "    }\n",
       "\n",
       "    .dataframe thead th {\n",
       "        text-align: right;\n",
       "    }\n",
       "</style>\n",
       "<table border=\"1\" class=\"dataframe\">\n",
       "  <thead>\n",
       "    <tr style=\"text-align: right;\">\n",
       "      <th></th>\n",
       "      <th>appId</th>\n",
       "      <th>title</th>\n",
       "      <th>score</th>\n",
       "      <th>genre</th>\n",
       "      <th>icon</th>\n",
       "    </tr>\n",
       "  </thead>\n",
       "  <tbody>\n",
       "    <tr>\n",
       "      <th>0</th>\n",
       "      <td>com.snapchat.android</td>\n",
       "      <td>Snapchat</td>\n",
       "      <td>4.303860</td>\n",
       "      <td>Communication</td>\n",
       "      <td>https://play-lh.googleusercontent.com/KxeSAjPT...</td>\n",
       "    </tr>\n",
       "    <tr>\n",
       "      <th>1</th>\n",
       "      <td>com.instagram.android</td>\n",
       "      <td>Instagram</td>\n",
       "      <td>4.097683</td>\n",
       "      <td>Social</td>\n",
       "      <td>https://play-lh.googleusercontent.com/VRMWkE5p...</td>\n",
       "    </tr>\n",
       "    <tr>\n",
       "      <th>2</th>\n",
       "      <td>com.reddit.frontpage</td>\n",
       "      <td>Reddit</td>\n",
       "      <td>3.788748</td>\n",
       "      <td>Social</td>\n",
       "      <td>https://play-lh.googleusercontent.com/EPRVXJ3k...</td>\n",
       "    </tr>\n",
       "    <tr>\n",
       "      <th>3</th>\n",
       "      <td>com.zhiliaoapp.musically</td>\n",
       "      <td>TikTok</td>\n",
       "      <td>4.395389</td>\n",
       "      <td>Social</td>\n",
       "      <td>https://play-lh.googleusercontent.com/LdBITldj...</td>\n",
       "    </tr>\n",
       "    <tr>\n",
       "      <th>4</th>\n",
       "      <td>com.facebook.katana</td>\n",
       "      <td>Facebook</td>\n",
       "      <td>3.925502</td>\n",
       "      <td>Social</td>\n",
       "      <td>https://play-lh.googleusercontent.com/KCMTYuiT...</td>\n",
       "    </tr>\n",
       "    <tr>\n",
       "      <th>5</th>\n",
       "      <td>com.twitter.android</td>\n",
       "      <td>X</td>\n",
       "      <td>4.060943</td>\n",
       "      <td>Social</td>\n",
       "      <td>https://play-lh.googleusercontent.com/A-Rnrh0J...</td>\n",
       "    </tr>\n",
       "    <tr>\n",
       "      <th>6</th>\n",
       "      <td>com.bereal.ft</td>\n",
       "      <td>BeReal. Your friends for real.</td>\n",
       "      <td>4.462963</td>\n",
       "      <td>Social</td>\n",
       "      <td>https://play-lh.googleusercontent.com/8Lu1K0dD...</td>\n",
       "    </tr>\n",
       "    <tr>\n",
       "      <th>7</th>\n",
       "      <td>com.pinterest</td>\n",
       "      <td>Pinterest</td>\n",
       "      <td>4.632037</td>\n",
       "      <td>Lifestyle</td>\n",
       "      <td>https://play-lh.googleusercontent.com/dVsv8Hc4...</td>\n",
       "    </tr>\n",
       "    <tr>\n",
       "      <th>8</th>\n",
       "      <td>com.facebook.lite</td>\n",
       "      <td>Facebook Lite</td>\n",
       "      <td>4.029301</td>\n",
       "      <td>Social</td>\n",
       "      <td>https://play-lh.googleusercontent.com/Tll2LETW...</td>\n",
       "    </tr>\n",
       "    <tr>\n",
       "      <th>9</th>\n",
       "      <td>com.vkontakte.android</td>\n",
       "      <td>VK: music, video, messenger</td>\n",
       "      <td>4.354037</td>\n",
       "      <td>Social</td>\n",
       "      <td>https://play-lh.googleusercontent.com/GntsGclz...</td>\n",
       "    </tr>\n",
       "    <tr>\n",
       "      <th>10</th>\n",
       "      <td>video.like</td>\n",
       "      <td>Likee - Short Video Community</td>\n",
       "      <td>4.482993</td>\n",
       "      <td>Social</td>\n",
       "      <td>https://play-lh.googleusercontent.com/axTLH7P0...</td>\n",
       "    </tr>\n",
       "    <tr>\n",
       "      <th>11</th>\n",
       "      <td>tv.twitch.android.app</td>\n",
       "      <td>Twitch: Live Game Streaming</td>\n",
       "      <td>4.325434</td>\n",
       "      <td>Entertainment</td>\n",
       "      <td>https://play-lh.googleusercontent.com/QLQzL-MX...</td>\n",
       "    </tr>\n",
       "    <tr>\n",
       "      <th>12</th>\n",
       "      <td>com.mewe</td>\n",
       "      <td>MeWe</td>\n",
       "      <td>4.320000</td>\n",
       "      <td>Social</td>\n",
       "      <td>https://play-lh.googleusercontent.com/MXxTMo9f...</td>\n",
       "    </tr>\n",
       "    <tr>\n",
       "      <th>13</th>\n",
       "      <td>me.zepeto.main</td>\n",
       "      <td>ZEPETO: Avatar, Connect &amp; Play</td>\n",
       "      <td>4.244828</td>\n",
       "      <td>Entertainment</td>\n",
       "      <td>https://play-lh.googleusercontent.com/jMtHecKZ...</td>\n",
       "    </tr>\n",
       "    <tr>\n",
       "      <th>14</th>\n",
       "      <td>sg.bigo.live</td>\n",
       "      <td>Bigo Live–Live Stream, Go Live</td>\n",
       "      <td>4.619048</td>\n",
       "      <td>Social</td>\n",
       "      <td>https://play-lh.googleusercontent.com/CydApfJP...</td>\n",
       "    </tr>\n",
       "    <tr>\n",
       "      <th>15</th>\n",
       "      <td>ru.ok.android</td>\n",
       "      <td>OK: Social Network</td>\n",
       "      <td>4.396601</td>\n",
       "      <td>Social</td>\n",
       "      <td>https://play-lh.googleusercontent.com/AmPk1bWS...</td>\n",
       "    </tr>\n",
       "    <tr>\n",
       "      <th>16</th>\n",
       "      <td>com.truthsocial.android.app</td>\n",
       "      <td>Truth Social</td>\n",
       "      <td>4.055555</td>\n",
       "      <td>Social</td>\n",
       "      <td>https://play-lh.googleusercontent.com/viE7sFTi...</td>\n",
       "    </tr>\n",
       "    <tr>\n",
       "      <th>17</th>\n",
       "      <td>com.ajdll5.talk</td>\n",
       "      <td>수다 - 채팅, 동네친구, 톡, 대화, 톡친구, 친구</td>\n",
       "      <td>0.000000</td>\n",
       "      <td>Social</td>\n",
       "      <td>https://play-lh.googleusercontent.com/IRslfhP_...</td>\n",
       "    </tr>\n",
       "    <tr>\n",
       "      <th>18</th>\n",
       "      <td>io.syncapps.lemmy_sync</td>\n",
       "      <td>Sync for Lemmy</td>\n",
       "      <td>0.000000</td>\n",
       "      <td>Social</td>\n",
       "      <td>https://play-lh.googleusercontent.com/QuYMD-a9...</td>\n",
       "    </tr>\n",
       "    <tr>\n",
       "      <th>19</th>\n",
       "      <td>com.sgiggle.production</td>\n",
       "      <td>Tango- Live Stream, Video Chat</td>\n",
       "      <td>4.342857</td>\n",
       "      <td>Social</td>\n",
       "      <td>https://play-lh.googleusercontent.com/wIlpD6Qf...</td>\n",
       "    </tr>\n",
       "    <tr>\n",
       "      <th>20</th>\n",
       "      <td>com.gettr.gettr</td>\n",
       "      <td>GETTR</td>\n",
       "      <td>4.647619</td>\n",
       "      <td>Social</td>\n",
       "      <td>https://play-lh.googleusercontent.com/FlTED74W...</td>\n",
       "    </tr>\n",
       "    <tr>\n",
       "      <th>21</th>\n",
       "      <td>com.jaumo</td>\n",
       "      <td>JAUMO Friends, Chat &amp; Dating</td>\n",
       "      <td>4.471445</td>\n",
       "      <td>Social</td>\n",
       "      <td>https://play-lh.googleusercontent.com/guUU-jNH...</td>\n",
       "    </tr>\n",
       "    <tr>\n",
       "      <th>22</th>\n",
       "      <td>co.vero.app</td>\n",
       "      <td>VERO - True Social</td>\n",
       "      <td>3.772277</td>\n",
       "      <td>Social</td>\n",
       "      <td>https://play-lh.googleusercontent.com/bJFT5znR...</td>\n",
       "    </tr>\n",
       "  </tbody>\n",
       "</table>\n",
       "</div>"
      ],
      "text/plain": [
       "                          appId                           title     score  \\\n",
       "0          com.snapchat.android                        Snapchat  4.303860   \n",
       "1         com.instagram.android                       Instagram  4.097683   \n",
       "2          com.reddit.frontpage                          Reddit  3.788748   \n",
       "3      com.zhiliaoapp.musically                          TikTok  4.395389   \n",
       "4           com.facebook.katana                        Facebook  3.925502   \n",
       "5           com.twitter.android                               X  4.060943   \n",
       "6                 com.bereal.ft  BeReal. Your friends for real.  4.462963   \n",
       "7                 com.pinterest                       Pinterest  4.632037   \n",
       "8             com.facebook.lite                   Facebook Lite  4.029301   \n",
       "9         com.vkontakte.android     VK: music, video, messenger  4.354037   \n",
       "10                   video.like   Likee - Short Video Community  4.482993   \n",
       "11        tv.twitch.android.app     Twitch: Live Game Streaming  4.325434   \n",
       "12                     com.mewe                            MeWe  4.320000   \n",
       "13               me.zepeto.main  ZEPETO: Avatar, Connect & Play  4.244828   \n",
       "14                 sg.bigo.live  Bigo Live–Live Stream, Go Live  4.619048   \n",
       "15                ru.ok.android              OK: Social Network  4.396601   \n",
       "16  com.truthsocial.android.app                    Truth Social  4.055555   \n",
       "17              com.ajdll5.talk   수다 - 채팅, 동네친구, 톡, 대화, 톡친구, 친구  0.000000   \n",
       "18       io.syncapps.lemmy_sync                  Sync for Lemmy  0.000000   \n",
       "19       com.sgiggle.production  Tango- Live Stream, Video Chat  4.342857   \n",
       "20              com.gettr.gettr                           GETTR  4.647619   \n",
       "21                    com.jaumo    JAUMO Friends, Chat & Dating  4.471445   \n",
       "22                  co.vero.app              VERO - True Social  3.772277   \n",
       "\n",
       "            genre                                               icon  \n",
       "0   Communication  https://play-lh.googleusercontent.com/KxeSAjPT...  \n",
       "1          Social  https://play-lh.googleusercontent.com/VRMWkE5p...  \n",
       "2          Social  https://play-lh.googleusercontent.com/EPRVXJ3k...  \n",
       "3          Social  https://play-lh.googleusercontent.com/LdBITldj...  \n",
       "4          Social  https://play-lh.googleusercontent.com/KCMTYuiT...  \n",
       "5          Social  https://play-lh.googleusercontent.com/A-Rnrh0J...  \n",
       "6          Social  https://play-lh.googleusercontent.com/8Lu1K0dD...  \n",
       "7       Lifestyle  https://play-lh.googleusercontent.com/dVsv8Hc4...  \n",
       "8          Social  https://play-lh.googleusercontent.com/Tll2LETW...  \n",
       "9          Social  https://play-lh.googleusercontent.com/GntsGclz...  \n",
       "10         Social  https://play-lh.googleusercontent.com/axTLH7P0...  \n",
       "11  Entertainment  https://play-lh.googleusercontent.com/QLQzL-MX...  \n",
       "12         Social  https://play-lh.googleusercontent.com/MXxTMo9f...  \n",
       "13  Entertainment  https://play-lh.googleusercontent.com/jMtHecKZ...  \n",
       "14         Social  https://play-lh.googleusercontent.com/CydApfJP...  \n",
       "15         Social  https://play-lh.googleusercontent.com/AmPk1bWS...  \n",
       "16         Social  https://play-lh.googleusercontent.com/viE7sFTi...  \n",
       "17         Social  https://play-lh.googleusercontent.com/IRslfhP_...  \n",
       "18         Social  https://play-lh.googleusercontent.com/QuYMD-a9...  \n",
       "19         Social  https://play-lh.googleusercontent.com/wIlpD6Qf...  \n",
       "20         Social  https://play-lh.googleusercontent.com/FlTED74W...  \n",
       "21         Social  https://play-lh.googleusercontent.com/guUU-jNH...  \n",
       "22         Social  https://play-lh.googleusercontent.com/bJFT5znR...  "
      ]
     },
     "execution_count": 4,
     "metadata": {},
     "output_type": "execute_result"
    }
   ],
   "source": [
    "# Create a list of dictionaries with the extracted data\n",
    "extracted_data = [{'appId': entry['appId'], 'title': entry['title'], 'score': entry['score'], 'genre': entry['genre'], 'icon': entry['icon']} for entry in result_search]\n",
    "\n",
    "# Create a DataFrame from the list of dictionaries\n",
    "df = pd.DataFrame(extracted_data)\n",
    "\n",
    "df"
   ]
  },
  {
   "cell_type": "markdown",
   "id": "6498f873-add2-4056-ade5-b76507744c65",
   "metadata": {},
   "source": [
    "### Just printing the logos of the scraped apps from the Google Play Store"
   ]
  },
  {
   "cell_type": "code",
   "execution_count": 5,
   "id": "a3fffe8d-b8a3-42f6-a868-660feff4c922",
   "metadata": {},
   "outputs": [
    {
     "data": {
      "text/html": [
       "<div style='display: flex; flex-wrap: wrap;'><div style='margin: 10px;'><img src='https://play-lh.googleusercontent.com/KxeSAjPTKliCErbivNiXrd6cTwfbqUJcbSRPe_IBVK_YmwckfMRS1VIHz-5cgT09yMo' style='width: 150px;'></div><div style='margin: 10px;'><img src='https://play-lh.googleusercontent.com/VRMWkE5p3CkWhJs6nv-9ZsLAs1QOg5ob1_3qg-rckwYW7yp1fMrYZqnEFpk0IoVP4LM' style='width: 150px;'></div><div style='margin: 10px;'><img src='https://play-lh.googleusercontent.com/EPRVXJ3kuRveNWrzd_50uLAwTifnSVt9XTb_wBAZT8R4yO-J9DSkmSUAxp2hza7-uYDb' style='width: 150px;'></div><div style='margin: 10px;'><img src='https://play-lh.googleusercontent.com/LdBITldj-tJxqLm-CsWSbnt4BMo2gk53cgM7mWIL-zn44m1ywLyQgxRsHKqp8r0qceXs' style='width: 150px;'></div><div style='margin: 10px;'><img src='https://play-lh.googleusercontent.com/KCMTYuiTrKom4Vyf0G4foetVOwhKWzNbHWumV73IXexAIy5TTgZipL52WTt8ICL-oIo' style='width: 150px;'></div><div style='margin: 10px;'><img src='https://play-lh.googleusercontent.com/A-Rnrh0J7iKmABskTonqFAANRLGTGUg_nuE4PEMYwJavL3nPt5uWsU2WO_DSgV_mOOM' style='width: 150px;'></div><div style='margin: 10px;'><img src='https://play-lh.googleusercontent.com/8Lu1K0dDM8hFB3wlkUgUvOOw9hc7NRwVijiEPqeXZhzz7t2Q3jktTZ_aqT3kofwurG4' style='width: 150px;'></div><div style='margin: 10px;'><img src='https://play-lh.googleusercontent.com/dVsv8Hc4TOUeLFAahxR8KANg22W9dj2jBsTW1VHv3CV-5NCZjP9D9i2j5IpfVx2NTB8' style='width: 150px;'></div><div style='margin: 10px;'><img src='https://play-lh.googleusercontent.com/Tll2LETWf7s67vK-OXqI3CbpwraoUK6tJH73z034zumyJa6CrWx1OTaYNQWj9jMKQUMU' style='width: 150px;'></div><div style='margin: 10px;'><img src='https://play-lh.googleusercontent.com/GntsGclzheXXASOhjSF1lCOPOznM_OARDObiTW_NQZtpYVwPQr_0ARyRyiXB0_OocmI' style='width: 150px;'></div><div style='margin: 10px;'><img src='https://play-lh.googleusercontent.com/axTLH7P0ddsTsM0Vaoxl0hkoJH8EWIxWEdCV7oN9nulmRUVEA_8oq16vmh8Ii2oIaw' style='width: 150px;'></div><div style='margin: 10px;'><img src='https://play-lh.googleusercontent.com/QLQzL-MXtxKEDlbhrQCDw-REiDsA9glUH4m16syfar_KVLRXlzOhN7tmAceiPerv4Jg' style='width: 150px;'></div><div style='margin: 10px;'><img src='https://play-lh.googleusercontent.com/MXxTMo9fY9vq7gpXCR6wNgl9wwthyVr0j3qxYAUFxODn54-T4LqN3c8r7cIqHwfvdS8' style='width: 150px;'></div><div style='margin: 10px;'><img src='https://play-lh.googleusercontent.com/jMtHecKZIxAomjynUXHjxj4QXrtRn7aoSLiFOzawZ8-UEZvOf-J77fulOohHMoZlDpTI' style='width: 150px;'></div><div style='margin: 10px;'><img src='https://play-lh.googleusercontent.com/CydApfJP6lqM_No4g7V8e59RscTGDMz0ADV3NGvrCZPxPtTixAuYi7iU8DeSGgQT2Oc' style='width: 150px;'></div><div style='margin: 10px;'><img src='https://play-lh.googleusercontent.com/AmPk1bWSXcrQw6IOvLyfNZFhB_f_TH-PEBQjW0H7eiF538X3LHO7HlpFWaDOP-p__Q' style='width: 150px;'></div><div style='margin: 10px;'><img src='https://play-lh.googleusercontent.com/viE7sFTiSuKKSnbzWHPcMpIKlKbZgWMw11bTeM2pUCV4o4lbFrzXJF8WHt88kni1q1YX' style='width: 150px;'></div><div style='margin: 10px;'><img src='https://play-lh.googleusercontent.com/IRslfhP_h3Sn7N7zG3kcFy93Ya0sBy9zBjatprZ3NPI2rGMpRneMAKPHRDiuTpBP0Uo' style='width: 150px;'></div><div style='margin: 10px;'><img src='https://play-lh.googleusercontent.com/QuYMD-a90KRkvmKoVnesDnYTOHVIptoUf7yyTEDwe-kvVK97mwkNUO3qTVTLWYSJeJc' style='width: 150px;'></div><div style='margin: 10px;'><img src='https://play-lh.googleusercontent.com/wIlpD6QfAaVB8b2n7MTbORu_XnuwJCiRKimSOA6FCgF4pK9VySLeMqMTZ4QTpmgzHA' style='width: 150px;'></div><div style='margin: 10px;'><img src='https://play-lh.googleusercontent.com/FlTED74WSsHGXz7dLz4gwkfUHjlY023TqQoA6nwATMwOOHEQLjio9PVfL896t7_G3MM' style='width: 150px;'></div><div style='margin: 10px;'><img src='https://play-lh.googleusercontent.com/guUU-jNHce6eUd7EYcmDd8ac8dTjCED64WZl3EPmqH_z_VdAOq5zLiaDdqSh6tMdxQ' style='width: 150px;'></div><div style='margin: 10px;'><img src='https://play-lh.googleusercontent.com/bJFT5znRAU_9wey8GniyLO0z7V5IEOixDnkjSJvCQEIhSumZrUMlpSgm3Irh8-R0sA' style='width: 150px;'></div></div>"
      ],
      "text/plain": [
       "<IPython.core.display.HTML object>"
      ]
     },
     "execution_count": 5,
     "metadata": {},
     "output_type": "execute_result"
    }
   ],
   "source": [
    "from IPython.display import HTML\n",
    "\n",
    "# Assuming you have a DataFrame named 'df' with a column 'icon' containing image URLs\n",
    "html = \"<div style='display: flex; flex-wrap: wrap;'>\"\n",
    "for index, row in df.iterrows():\n",
    "    img_url = row['icon']\n",
    "    html += f\"<div style='margin: 10px;'><img src='{img_url}' style='width: 150px;'></div>\"\n",
    "html += \"</div>\"\n",
    "\n",
    "HTML(html)"
   ]
  },
  {
   "cell_type": "markdown",
   "id": "2afc977d-37f2-4749-8c9d-6013d52b8ca7",
   "metadata": {},
   "source": [
    "## App Reviews"
   ]
  },
  {
   "cell_type": "markdown",
   "id": "79b8bb4b-9265-487c-99f7-7374b45ccbae",
   "metadata": {},
   "source": [
    "### Testing for one app only"
   ]
  },
  {
   "cell_type": "code",
   "execution_count": 6,
   "id": "e932efe2-2e1e-4896-8c48-fbecd00155d9",
   "metadata": {},
   "outputs": [
    {
     "data": {
      "text/plain": [
       "'com.instagram.android'"
      ]
     },
     "execution_count": 6,
     "metadata": {},
     "output_type": "execute_result"
    }
   ],
   "source": [
    "df['appId'][1]"
   ]
  },
  {
   "cell_type": "code",
   "execution_count": 7,
   "id": "9142e692-0b1b-40dd-9f66-01ee012b04d5",
   "metadata": {},
   "outputs": [],
   "source": [
    "# Sort.NEWEST (default): Sort reviews by the newest first.\n",
    "# Sort.RATING: Sort reviews by the highest rating first.\n",
    "# Sort.HELPFULNESS: Sort reviews by the most helpful first.\n",
    "\n",
    "\n",
    "result_reviews, continuation_token = reviews(\n",
    "    df['appId'][1],\n",
    "    lang='en', # defaults to 'en'\n",
    "    country='gr', # defaults to 'us'\n",
    "    sort=Sort.NEWEST, # defaults to Sort.NEWEST\n",
    "    count=200, # defaults to 100\n",
    "    filter_score_with=None # defaults to None(means all score)\n",
    ")\n",
    "\n",
    "# If you pass `continuation_token` as an argument to the reviews function at this point,\n",
    "# it will crawl the items after 3 review items.\n",
    "\n",
    "result_reviews, _ = reviews(\n",
    "    df['appId'][1],\n",
    "    continuation_token=continuation_token # defaults to None(load from the beginning)\n",
    ")"
   ]
  },
  {
   "cell_type": "code",
   "execution_count": 8,
   "id": "90fdc2c5-bbc0-4ee2-ab7a-c4955a25d56f",
   "metadata": {},
   "outputs": [],
   "source": [
    "#Uncomment to see the results of the search\n",
    "#result_reviews"
   ]
  },
  {
   "cell_type": "code",
   "execution_count": 9,
   "id": "abcfa4c4-c51a-49fc-bf23-e8818f7cf1e4",
   "metadata": {},
   "outputs": [
    {
     "data": {
      "text/plain": [
       "{'reviewId': '0f2e3d69-c293-4c63-80e3-1c64009d0ac4',\n",
       " 'userName': 'Linda Taylor',\n",
       " 'userImage': 'https://play-lh.googleusercontent.com/a-/ALV-UjUdP2qn0Cfmk_GDStIVfow_1IWNQIQZnL9yrcGVhIX1sNw',\n",
       " 'content': 'Great way to show people things you do',\n",
       " 'score': 5,\n",
       " 'thumbsUpCount': 3,\n",
       " 'reviewCreatedVersion': '304.0.0.35.106',\n",
       " 'at': datetime.datetime(2023, 10, 14, 1, 26, 29),\n",
       " 'replyContent': None,\n",
       " 'repliedAt': None,\n",
       " 'appVersion': '304.0.0.35.106'}"
      ]
     },
     "execution_count": 9,
     "metadata": {},
     "output_type": "execute_result"
    }
   ],
   "source": [
    "result_reviews[4]"
   ]
  },
  {
   "cell_type": "markdown",
   "id": "5b087591-3fa9-4f10-aa8f-aacac7ab7dea",
   "metadata": {},
   "source": [
    "### Going for all the apps in the aforementioned DataFrame"
   ]
  },
  {
   "cell_type": "code",
   "execution_count": 10,
   "id": "49dd0ec0-8bff-4780-9ac1-4d2300159fce",
   "metadata": {},
   "outputs": [
    {
     "name": "stderr",
     "output_type": "stream",
     "text": [
      "100%|███████████████████████████████████████████| 23/23 [02:19<00:00,  6.06s/it]\n"
     ]
    }
   ],
   "source": [
    "app_reviews = []\n",
    "\n",
    "for ap in tqdm(df['appId']):\n",
    "  for score in list(range(1, 6)):\n",
    "    for sort_order in [Sort.MOST_RELEVANT, Sort.NEWEST]:\n",
    "      rvs, _ = reviews(\n",
    "        ap,\n",
    "        lang='en',\n",
    "        country='gr',\n",
    "        sort=sort_order,\n",
    "        count= 200 if score == 3 else 100, #Going with that in order to create a balanced dataset, because most of the apps are towards 5 stars rating\n",
    "        filter_score_with=score\n",
    "      )\n",
    "      for r in rvs:\n",
    "        r['sortOrder'] = 'most_relevant' if sort_order == Sort.MOST_RELEVANT else 'newest'\n",
    "        r['appId'] = ap\n",
    "      app_reviews.extend(rvs)"
   ]
  },
  {
   "cell_type": "code",
   "execution_count": 11,
   "id": "7dca6923-1d2a-4d9f-9bcc-eaa7e1949468",
   "metadata": {},
   "outputs": [
    {
     "name": "stdout",
     "output_type": "stream",
     "text": [
      "{'reviewId': '83fa6326-f1e4-4d96-a04c-05a4146d7045', 'userName': 'Sarah', 'userImage': 'https://play-lh.googleusercontent.com/a-/ALV-UjUEaj4EaVvh04ag0IQ4UPSF54zVDpCVF5d5Recq1ZzWNg', 'content': \"Horeible. Why can't you fix your app so that when a person makes a continuous video. When you click on there page to get the second video you can't find it.!!! Can you please make it easier for user to find the continuous video. This really upsets me. I watch a video and they say they have to continue it in another video and we'll you can't find it. It makes me mad!!. Gosh make it easier for your users!! I will change ratings once it's done!!\", 'score': 1, 'thumbsUpCount': 20594, 'reviewCreatedVersion': '12.56.0.57', 'at': datetime.datetime(2023, 10, 18, 11, 31, 44), 'replyContent': None, 'repliedAt': None, 'appVersion': '12.56.0.57', 'sortOrder': 'most_relevant', 'appId': 'com.snapchat.android'}\n"
     ]
    }
   ],
   "source": [
    "#Printing one just to be sure\n",
    "print(app_reviews[0])"
   ]
  },
  {
   "cell_type": "code",
   "execution_count": 12,
   "id": "cfffcbda-ace7-4fac-b1cf-4b36fe9f5013",
   "metadata": {},
   "outputs": [
    {
     "data": {
      "text/plain": [
       "25630"
      ]
     },
     "execution_count": 12,
     "metadata": {},
     "output_type": "execute_result"
    }
   ],
   "source": [
    "#Total Rows of the dataset // Total Reviews for all the apps\n",
    "len(app_reviews)"
   ]
  },
  {
   "cell_type": "code",
   "execution_count": 13,
   "id": "df86b62d-f90f-403a-a007-704e1d4c967a",
   "metadata": {},
   "outputs": [],
   "source": [
    "#Saving all the ratings into one csv file with the name reviews.csv\n",
    "app_reviews_df = pd.DataFrame(app_reviews)\n",
    "app_reviews_df.to_csv('reviews.csv', index=None, header=True)"
   ]
  },
  {
   "cell_type": "markdown",
   "id": "15214f4d-b499-492d-a0c1-f30600efbc13",
   "metadata": {},
   "source": [
    "# Data Collection and Preprocessing"
   ]
  },
  {
   "cell_type": "markdown",
   "id": "a6203f1a-4c4e-48dd-ae8d-8ae94bc27ca6",
   "metadata": {},
   "source": [
    "## Load and inspect the dataset"
   ]
  },
  {
   "cell_type": "code",
   "execution_count": 19,
   "id": "88977d91-cb7e-4ead-a6e9-a4fc6e2e631c",
   "metadata": {},
   "outputs": [
    {
     "data": {
      "text/html": [
       "<div>\n",
       "<style scoped>\n",
       "    .dataframe tbody tr th:only-of-type {\n",
       "        vertical-align: middle;\n",
       "    }\n",
       "\n",
       "    .dataframe tbody tr th {\n",
       "        vertical-align: top;\n",
       "    }\n",
       "\n",
       "    .dataframe thead th {\n",
       "        text-align: right;\n",
       "    }\n",
       "</style>\n",
       "<table border=\"1\" class=\"dataframe\">\n",
       "  <thead>\n",
       "    <tr style=\"text-align: right;\">\n",
       "      <th></th>\n",
       "      <th>reviewId</th>\n",
       "      <th>userName</th>\n",
       "      <th>userImage</th>\n",
       "      <th>content</th>\n",
       "      <th>score</th>\n",
       "      <th>thumbsUpCount</th>\n",
       "      <th>reviewCreatedVersion</th>\n",
       "      <th>at</th>\n",
       "      <th>replyContent</th>\n",
       "      <th>repliedAt</th>\n",
       "      <th>appVersion</th>\n",
       "      <th>sortOrder</th>\n",
       "      <th>appId</th>\n",
       "    </tr>\n",
       "  </thead>\n",
       "  <tbody>\n",
       "    <tr>\n",
       "      <th>0</th>\n",
       "      <td>83fa6326-f1e4-4d96-a04c-05a4146d7045</td>\n",
       "      <td>Sarah</td>\n",
       "      <td>https://play-lh.googleusercontent.com/a-/ALV-U...</td>\n",
       "      <td>Horeible. Why can't you fix your app so that w...</td>\n",
       "      <td>1</td>\n",
       "      <td>20594</td>\n",
       "      <td>12.56.0.57</td>\n",
       "      <td>2023-10-18 11:31:44</td>\n",
       "      <td>NaN</td>\n",
       "      <td>NaN</td>\n",
       "      <td>12.56.0.57</td>\n",
       "      <td>most_relevant</td>\n",
       "      <td>com.snapchat.android</td>\n",
       "    </tr>\n",
       "    <tr>\n",
       "      <th>1</th>\n",
       "      <td>0a63adf4-88b9-467f-81b2-cc0bb3c488d1</td>\n",
       "      <td>Anjay Lindgren</td>\n",
       "      <td>https://play-lh.googleusercontent.com/a-/ALV-U...</td>\n",
       "      <td>Revising edit. This apps bugs just keep gettin...</td>\n",
       "      <td>1</td>\n",
       "      <td>7215</td>\n",
       "      <td>12.56.0.57</td>\n",
       "      <td>2023-10-17 19:39:00</td>\n",
       "      <td>NaN</td>\n",
       "      <td>NaN</td>\n",
       "      <td>12.56.0.57</td>\n",
       "      <td>most_relevant</td>\n",
       "      <td>com.snapchat.android</td>\n",
       "    </tr>\n",
       "    <tr>\n",
       "      <th>2</th>\n",
       "      <td>ba084ee6-b18c-4cab-9682-507b4bdffd87</td>\n",
       "      <td>Ryan Kargel</td>\n",
       "      <td>https://play-lh.googleusercontent.com/a-/ALV-U...</td>\n",
       "      <td>Absolutely terrible experience on Android. I h...</td>\n",
       "      <td>1</td>\n",
       "      <td>21425</td>\n",
       "      <td>12.48.1.0</td>\n",
       "      <td>2023-08-26 20:18:34</td>\n",
       "      <td>NaN</td>\n",
       "      <td>NaN</td>\n",
       "      <td>12.48.1.0</td>\n",
       "      <td>most_relevant</td>\n",
       "      <td>com.snapchat.android</td>\n",
       "    </tr>\n",
       "    <tr>\n",
       "      <th>3</th>\n",
       "      <td>20982232-e7b0-4e6b-a143-44692076ed78</td>\n",
       "      <td>casey goodwin</td>\n",
       "      <td>https://play-lh.googleusercontent.com/a-/ALV-U...</td>\n",
       "      <td>Snap on a tablet is completely useless. The ca...</td>\n",
       "      <td>1</td>\n",
       "      <td>58</td>\n",
       "      <td>12.57.0.55</td>\n",
       "      <td>2023-10-26 21:10:18</td>\n",
       "      <td>NaN</td>\n",
       "      <td>NaN</td>\n",
       "      <td>12.57.0.55</td>\n",
       "      <td>most_relevant</td>\n",
       "      <td>com.snapchat.android</td>\n",
       "    </tr>\n",
       "    <tr>\n",
       "      <th>4</th>\n",
       "      <td>548b65b8-d2d3-44f3-97fb-46b0a7af3a65</td>\n",
       "      <td>Brody Townsend</td>\n",
       "      <td>https://play-lh.googleusercontent.com/a-/ALV-U...</td>\n",
       "      <td>The discover is terrible, the spotlight is als...</td>\n",
       "      <td>1</td>\n",
       "      <td>2909</td>\n",
       "      <td>12.55.0.56</td>\n",
       "      <td>2023-10-19 05:09:23</td>\n",
       "      <td>NaN</td>\n",
       "      <td>NaN</td>\n",
       "      <td>12.55.0.56</td>\n",
       "      <td>most_relevant</td>\n",
       "      <td>com.snapchat.android</td>\n",
       "    </tr>\n",
       "  </tbody>\n",
       "</table>\n",
       "</div>"
      ],
      "text/plain": [
       "                               reviewId        userName  \\\n",
       "0  83fa6326-f1e4-4d96-a04c-05a4146d7045           Sarah   \n",
       "1  0a63adf4-88b9-467f-81b2-cc0bb3c488d1  Anjay Lindgren   \n",
       "2  ba084ee6-b18c-4cab-9682-507b4bdffd87     Ryan Kargel   \n",
       "3  20982232-e7b0-4e6b-a143-44692076ed78   casey goodwin   \n",
       "4  548b65b8-d2d3-44f3-97fb-46b0a7af3a65  Brody Townsend   \n",
       "\n",
       "                                           userImage  \\\n",
       "0  https://play-lh.googleusercontent.com/a-/ALV-U...   \n",
       "1  https://play-lh.googleusercontent.com/a-/ALV-U...   \n",
       "2  https://play-lh.googleusercontent.com/a-/ALV-U...   \n",
       "3  https://play-lh.googleusercontent.com/a-/ALV-U...   \n",
       "4  https://play-lh.googleusercontent.com/a-/ALV-U...   \n",
       "\n",
       "                                             content  score  thumbsUpCount  \\\n",
       "0  Horeible. Why can't you fix your app so that w...      1          20594   \n",
       "1  Revising edit. This apps bugs just keep gettin...      1           7215   \n",
       "2  Absolutely terrible experience on Android. I h...      1          21425   \n",
       "3  Snap on a tablet is completely useless. The ca...      1             58   \n",
       "4  The discover is terrible, the spotlight is als...      1           2909   \n",
       "\n",
       "  reviewCreatedVersion                   at replyContent repliedAt  \\\n",
       "0           12.56.0.57  2023-10-18 11:31:44          NaN       NaN   \n",
       "1           12.56.0.57  2023-10-17 19:39:00          NaN       NaN   \n",
       "2            12.48.1.0  2023-08-26 20:18:34          NaN       NaN   \n",
       "3           12.57.0.55  2023-10-26 21:10:18          NaN       NaN   \n",
       "4           12.55.0.56  2023-10-19 05:09:23          NaN       NaN   \n",
       "\n",
       "   appVersion      sortOrder                 appId  \n",
       "0  12.56.0.57  most_relevant  com.snapchat.android  \n",
       "1  12.56.0.57  most_relevant  com.snapchat.android  \n",
       "2   12.48.1.0  most_relevant  com.snapchat.android  \n",
       "3  12.57.0.55  most_relevant  com.snapchat.android  \n",
       "4  12.55.0.56  most_relevant  com.snapchat.android  "
      ]
     },
     "execution_count": 19,
     "metadata": {},
     "output_type": "execute_result"
    }
   ],
   "source": [
    "import pandas as pd\n",
    "\n",
    "# Load the dataset\n",
    "reviews_df = pd.read_csv('reviews.csv')\n",
    "\n",
    "# Display the first few rows\n",
    "reviews_df.head()"
   ]
  },
  {
   "cell_type": "markdown",
   "id": "9dd0460f-6f18-4661-ab49-d4af7f27af3e",
   "metadata": {},
   "source": [
    "## Drop duplicate reviews based on content"
   ]
  },
  {
   "cell_type": "code",
   "execution_count": 20,
   "id": "7d8c4336-8b08-40fe-97aa-bb84a24f4219",
   "metadata": {},
   "outputs": [],
   "source": [
    "reviews_df.drop_duplicates(subset='content', inplace=True)"
   ]
  },
  {
   "cell_type": "markdown",
   "id": "37540095-4a48-4ade-9ffc-34828e499d13",
   "metadata": {},
   "source": [
    "## Remove columns that might contain PII or are not relevant"
   ]
  },
  {
   "cell_type": "code",
   "execution_count": 21,
   "id": "cd021289-0aeb-44ed-8108-daf68ea0f67c",
   "metadata": {},
   "outputs": [],
   "source": [
    "columns_to_drop = ['reviewId', 'userName', 'userImage', 'replyContent', 'repliedAt']\n",
    "reviews_df.drop(columns=columns_to_drop, inplace=True)"
   ]
  },
  {
   "cell_type": "markdown",
   "id": "ae200ec8-1298-4a57-baa4-9227d954c548",
   "metadata": {},
   "source": [
    "## Clean, tokenize, stem, and remove stopwords from the review content"
   ]
  },
  {
   "cell_type": "code",
   "execution_count": 22,
   "id": "ac11989c-c160-4f64-9179-1677894287b5",
   "metadata": {},
   "outputs": [],
   "source": [
    "from sklearn.feature_extraction.text import ENGLISH_STOP_WORDS\n",
    "from nltk.stem import SnowballStemmer\n",
    "import re\n",
    "\n",
    "def clean_tokenize(text):\n",
    "    text = text.lower()\n",
    "    text = re.sub(r'[^a-z\\s]', '', text)\n",
    "    words = text.split()\n",
    "    words = [word for word in words if word not in ENGLISH_STOP_WORDS]\n",
    "    stemmer = SnowballStemmer(language='english')\n",
    "    words = [stemmer.stem(word) for word in words]\n",
    "    return ' '.join(words)\n",
    "\n",
    "reviews_df['content'].fillna(\"missing_content\", inplace=True)\n",
    "reviews_df['cleaned_content'] = reviews_df['content'].apply(clean_tokenize)"
   ]
  },
  {
   "cell_type": "markdown",
   "id": "ad3dfa25-fff0-417e-a262-810ef9d95c69",
   "metadata": {},
   "source": [
    "# Indexing and Retrieval"
   ]
  },
  {
   "cell_type": "markdown",
   "id": "d3afdb2c-50c5-4ee2-9fc3-87435ff404b6",
   "metadata": {},
   "source": [
    "## Build an inverted index"
   ]
  },
  {
   "cell_type": "code",
   "execution_count": 23,
   "id": "083f4e1b-d839-4274-83bf-b59e127a1730",
   "metadata": {},
   "outputs": [],
   "source": [
    "from collections import defaultdict\n",
    "\n",
    "def build_inverted_index(df):\n",
    "    inverted_index = defaultdict(set)\n",
    "    for idx, content in df['cleaned_content'].items():\n",
    "        for word in content.split():\n",
    "            inverted_index[word].add(idx)\n",
    "    return inverted_index\n",
    "\n",
    "inverted_index = build_inverted_index(reviews_df)"
   ]
  },
  {
   "cell_type": "markdown",
   "id": "f377dc1f-496f-475a-a26e-6bc89cc6b764",
   "metadata": {},
   "source": [
    "## Positional Index"
   ]
  },
  {
   "cell_type": "code",
   "execution_count": 24,
   "id": "986d8706-be27-4017-86d1-2df0bb3c14fa",
   "metadata": {},
   "outputs": [],
   "source": [
    "def build_positional_index(df):\n",
    "    positional_index = defaultdict(lambda: defaultdict(list))\n",
    "    for idx, content in df['cleaned_content'].items():\n",
    "        for position, word in enumerate(content.split()):\n",
    "            positional_index[word][idx].append(position)\n",
    "    return positional_index\n",
    "\n",
    "positional_index = build_positional_index(reviews_df)"
   ]
  },
  {
   "cell_type": "markdown",
   "id": "7c9e43e9-63ac-4bcf-bd85-57f67cff6502",
   "metadata": {},
   "source": [
    "## Use TF-IDF to rank reviews based on relevance"
   ]
  },
  {
   "cell_type": "code",
   "execution_count": 25,
   "id": "a40b7db2-8b8c-42f7-9596-dc3522910bb4",
   "metadata": {},
   "outputs": [],
   "source": [
    "from sklearn.feature_extraction.text import TfidfVectorizer\n",
    "\n",
    "vectorizer = TfidfVectorizer()\n",
    "tfidf_matrix = vectorizer.fit_transform(reviews_df['cleaned_content'])"
   ]
  },
  {
   "cell_type": "markdown",
   "id": "9f9987a6-673c-4502-95e0-2290f49d346d",
   "metadata": {},
   "source": [
    "# Query Processing"
   ]
  },
  {
   "cell_type": "markdown",
   "id": "78c91bfb-b862-40f5-86ff-f9efd5cf7b47",
   "metadata": {},
   "source": [
    "## Implement query expansion using synonyms (a simple example using NLTK's WordNet)"
   ]
  },
  {
   "cell_type": "code",
   "execution_count": 26,
   "id": "9c19dd72-6010-4c78-9372-af3cab6c901c",
   "metadata": {},
   "outputs": [
    {
     "name": "stderr",
     "output_type": "stream",
     "text": [
      "[nltk_data] Downloading package wordnet to /Users/alkis/nltk_data...\n",
      "[nltk_data]   Package wordnet is already up-to-date!\n"
     ]
    },
    {
     "data": {
      "text/plain": [
       "True"
      ]
     },
     "execution_count": 26,
     "metadata": {},
     "output_type": "execute_result"
    }
   ],
   "source": [
    "#Import and download the required library\n",
    "import nltk\n",
    "nltk.download('wordnet')"
   ]
  },
  {
   "cell_type": "code",
   "execution_count": 27,
   "id": "6d17201e-c012-4ff8-8d1e-9a008bdcb27e",
   "metadata": {},
   "outputs": [],
   "source": [
    "from nltk.corpus import wordnet\n",
    "\n",
    "def expand_query(query):\n",
    "    synonyms = set()\n",
    "    for word in query.split():\n",
    "        for syn in wordnet.synsets(word):\n",
    "            for lemma in syn.lemmas():\n",
    "                synonyms.add(lemma.name())\n",
    "    return \" \".join(synonyms)\n",
    "\n",
    "expanded_query = expand_query(\"example_query\")"
   ]
  },
  {
   "cell_type": "markdown",
   "id": "8cdb515c-6eb2-4f92-b850-2dce875c5c36",
   "metadata": {},
   "source": [
    "## Boolean Retrieval"
   ]
  },
  {
   "cell_type": "code",
   "execution_count": 28,
   "id": "c4b3ca31-0c14-4b08-be9d-50aeda6336fc",
   "metadata": {},
   "outputs": [],
   "source": [
    "def boolean_search(query, index):\n",
    "    terms = [term for term in query.split() if term not in ['AND', 'OR', 'NOT']]\n",
    "    sets = [set(index.get(term, {})) for term in terms]\n",
    "\n",
    "    if 'AND' in query:\n",
    "        result = set.intersection(*sets)\n",
    "    elif 'OR' in query:\n",
    "        result = set.union(*sets)\n",
    "    elif 'NOT' in query:\n",
    "        result = sets[0] - sets[1]\n",
    "    else:\n",
    "        result = sets[0]\n",
    "\n",
    "    return result\n",
    "\n",
    "# Example usage\n",
    "results = boolean_search('performance AND good', inverted_index)"
   ]
  },
  {
   "cell_type": "markdown",
   "id": "a6566b5f-2a1c-40f4-856a-04a0c9345103",
   "metadata": {},
   "source": [
    "# Sentiment Analysis"
   ]
  },
  {
   "cell_type": "markdown",
   "id": "4b4841d8-6822-4d8f-83b7-d914224f1600",
   "metadata": {},
   "source": [
    "## Perform sentiment analysis"
   ]
  },
  {
   "cell_type": "code",
   "execution_count": 29,
   "id": "92d901e2-af05-42d0-95e4-a6c38cb502e7",
   "metadata": {},
   "outputs": [],
   "source": [
    "from textblob import TextBlob\n",
    "\n",
    "def get_sentiment(text):\n",
    "    analysis = TextBlob(text)\n",
    "    if analysis.sentiment.polarity > 0:\n",
    "        return 'positive'\n",
    "    elif analysis.sentiment.polarity == 0:\n",
    "        return 'neutral'\n",
    "    else:\n",
    "        return 'negative'\n",
    "\n",
    "reviews_df['sentiment'] = reviews_df['content'].apply(get_sentiment)"
   ]
  },
  {
   "cell_type": "markdown",
   "id": "16fb0e77-23e6-4216-9f47-c280fb6bbacc",
   "metadata": {},
   "source": [
    "## Aspect-Based Sentiment Analysis"
   ]
  },
  {
   "cell_type": "code",
   "execution_count": 30,
   "id": "0abd4cc7-5259-4aa2-a1ad-c6a796015f20",
   "metadata": {},
   "outputs": [],
   "source": [
    "aspects = ['performance', 'user interface', 'customer support']\n",
    "\n",
    "def aspect_sentiment(text):\n",
    "    aspect_sentiments = {}\n",
    "    for aspect in aspects:\n",
    "        if aspect in text:\n",
    "            sentiment = get_sentiment(text)\n",
    "            aspect_sentiments[aspect] = sentiment\n",
    "    return aspect_sentiments\n",
    "\n",
    "reviews_df['aspect_sentiments'] = reviews_df['content'].apply(aspect_sentiment)"
   ]
  },
  {
   "cell_type": "markdown",
   "id": "d32e8161-158a-454b-966f-a90db449214f",
   "metadata": {},
   "source": [
    "## Identify frequent aspects and determine sentiment"
   ]
  },
  {
   "cell_type": "code",
   "execution_count": 31,
   "id": "e4eaed65-f05a-4687-8d9c-453c0aa60484",
   "metadata": {},
   "outputs": [
    {
     "name": "stderr",
     "output_type": "stream",
     "text": [
      "[nltk_data] Downloading package averaged_perceptron_tagger to\n",
      "[nltk_data]     /Users/alkis/nltk_data...\n",
      "[nltk_data]   Package averaged_perceptron_tagger is already up-to-\n",
      "[nltk_data]       date!\n"
     ]
    },
    {
     "data": {
      "text/plain": [
       "True"
      ]
     },
     "execution_count": 31,
     "metadata": {},
     "output_type": "execute_result"
    }
   ],
   "source": [
    "#Importing and downloading the required libraries\n",
    "import nltk\n",
    "nltk.download('averaged_perceptron_tagger')"
   ]
  },
  {
   "cell_type": "code",
   "execution_count": 33,
   "id": "ec04017e-a4b6-4f9a-b235-740d9373a9f5",
   "metadata": {},
   "outputs": [],
   "source": [
    "from collections import Counter\n",
    "import nltk\n",
    "\n",
    "def identify_common_nouns(texts, n=10):\n",
    "    all_words = nltk.word_tokenize(\" \".join(texts))\n",
    "    nouns = [word for word, pos in nltk.pos_tag(all_words) if pos in ['NN', 'NNS']]\n",
    "    common_nouns = Counter(nouns).most_common(n)\n",
    "    return [noun[0] for noun in common_nouns]\n",
    "\n",
    "aspects = identify_common_nouns(reviews_df['content'])"
   ]
  },
  {
   "cell_type": "code",
   "execution_count": 34,
   "id": "8b39d07d-4f16-49c9-9341-c7372a57b689",
   "metadata": {},
   "outputs": [
    {
     "data": {
      "text/plain": [
       "['app',\n",
       " 'time',\n",
       " 'people',\n",
       " 'video',\n",
       " 'i',\n",
       " 'account',\n",
       " 'phone',\n",
       " 'videos',\n",
       " 'problem',\n",
       " 'friends']"
      ]
     },
     "execution_count": 34,
     "metadata": {},
     "output_type": "execute_result"
    }
   ],
   "source": [
    "aspects"
   ]
  },
  {
   "cell_type": "markdown",
   "id": "a67d9b1a-416a-4021-8d9f-695aee66b016",
   "metadata": {},
   "source": [
    "# Recommendation System"
   ]
  },
  {
   "cell_type": "markdown",
   "id": "fd46ca4b-8d59-46a0-9b83-23e0f22569a2",
   "metadata": {},
   "source": [
    "## Recommend apps based on user queries and review sentiments"
   ]
  },
  {
   "cell_type": "code",
   "execution_count": 35,
   "id": "bc61fdb1-644a-4f2e-88bf-9537a4833e93",
   "metadata": {},
   "outputs": [],
   "source": [
    "from sklearn.metrics.pairwise import cosine_similarity\n",
    "\n",
    "def recommend_apps(query):\n",
    "    query_vector = vectorizer.transform([query])\n",
    "    cosine_sim = cosine_similarity(query_vector, tfidf_matrix)\n",
    "    recommended_apps = reviews_df.iloc[cosine_sim.argsort()[0, -5:]]\n",
    "    return recommended_apps['appId']\n",
    "\n",
    "recommended_apps_list = recommend_apps(\"camera quality\")"
   ]
  },
  {
   "cell_type": "code",
   "execution_count": 36,
   "id": "c924b260-10d4-4a9b-b595-a10f4d77d0e1",
   "metadata": {},
   "outputs": [
    {
     "data": {
      "text/plain": [
       "14127    tv.twitch.android.app\n",
       "714       com.snapchat.android\n",
       "979       com.snapchat.android\n",
       "647       com.snapchat.android\n",
       "672       com.snapchat.android\n",
       "Name: appId, dtype: object"
      ]
     },
     "execution_count": 36,
     "metadata": {},
     "output_type": "execute_result"
    }
   ],
   "source": [
    "recommended_apps_list"
   ]
  },
  {
   "cell_type": "code",
   "execution_count": 37,
   "id": "3d7029f9-6dee-4291-b4cb-80fa73cf7f36",
   "metadata": {},
   "outputs": [],
   "source": [
    "def recommend_apps_analytical(query):\n",
    "    query_vector = vectorizer.transform([query])\n",
    "    cosine_sim = cosine_similarity(query_vector, tfidf_matrix)\n",
    "    reviews_df['relevance'] = cosine_sim[0]\n",
    "    relevant_reviews = reviews_df.sort_values(by='relevance', ascending=False).head(10)\n",
    "    positive_reviews = relevant_reviews[relevant_reviews['sentiment'] == 'positive']\n",
    "    return positive_reviews['appId']\n",
    "\n",
    "recommended_apps_list_analytical = recommend_apps_analytical(\"camera quality\")"
   ]
  },
  {
   "cell_type": "code",
   "execution_count": 38,
   "id": "5703a4ef-5add-4ecf-af06-aef2f6af2b9a",
   "metadata": {},
   "outputs": [
    {
     "data": {
      "text/plain": [
       "647       com.snapchat.android\n",
       "979       com.snapchat.android\n",
       "14127    tv.twitch.android.app\n",
       "7762             com.bereal.ft\n",
       "7780             com.bereal.ft\n",
       "15956           me.zepeto.main\n",
       "Name: appId, dtype: object"
      ]
     },
     "execution_count": 38,
     "metadata": {},
     "output_type": "execute_result"
    }
   ],
   "source": [
    "recommended_apps_list_analytical"
   ]
  },
  {
   "cell_type": "markdown",
   "id": "57889477-07d5-48d9-805c-9a55fe1bd5c1",
   "metadata": {},
   "source": [
    "# User Feedback Analysis"
   ]
  },
  {
   "cell_type": "markdown",
   "id": "95a550be-51f1-475d-ba2b-ed9b48cb2b49",
   "metadata": {},
   "source": [
    "## Identify common issues or concerns"
   ]
  },
  {
   "cell_type": "code",
   "execution_count": 39,
   "id": "9bf1d717-10de-4015-92b0-0df4ba5b54de",
   "metadata": {},
   "outputs": [],
   "source": [
    "from collections import Counter\n",
    "\n",
    "def common_issues(df, n=5):\n",
    "    all_words = \" \".join(df['cleaned_content']).split()\n",
    "    word_counts = Counter(all_words)\n",
    "    return word_counts.most_common(n)\n",
    "\n",
    "top_issues = common_issues(reviews_df)"
   ]
  },
  {
   "cell_type": "markdown",
   "id": "54dd695a-fe5b-4dc1-ac2e-56a785778d20",
   "metadata": {},
   "source": [
    "## Deep Dive into Common Issues"
   ]
  },
  {
   "cell_type": "code",
   "execution_count": 40,
   "id": "e79cdfa0-03da-4ec6-9d6a-65465942d811",
   "metadata": {},
   "outputs": [],
   "source": [
    "def deep_dive_into_issues(df, n=5):\n",
    "    issues = common_issues(df, n)\n",
    "    issue_sentiments = {}\n",
    "    for issue, _ in issues:\n",
    "        sentiments = df[df['cleaned_content'].str.contains(issue)]['sentiment'].value_counts()\n",
    "        issue_sentiments[issue] = sentiments.to_dict()\n",
    "    return issue_sentiments\n",
    "\n",
    "deep_dive_results = deep_dive_into_issues(reviews_df)"
   ]
  },
  {
   "cell_type": "code",
   "execution_count": 41,
   "id": "1d846cf6-1b9a-4673-89a7-bd6b7ca3c580",
   "metadata": {},
   "outputs": [
    {
     "data": {
      "text/plain": [
       "{'app': {'positive': 7093, 'negative': 2605, 'neutral': 712},\n",
       " 'like': {'positive': 2711, 'negative': 862, 'neutral': 218},\n",
       " 'use': {'positive': 3006, 'negative': 1165, 'neutral': 168},\n",
       " 'just': {'positive': 2003, 'negative': 882, 'neutral': 159},\n",
       " 'video': {'positive': 1481, 'negative': 610, 'neutral': 178}}"
      ]
     },
     "execution_count": 41,
     "metadata": {},
     "output_type": "execute_result"
    }
   ],
   "source": [
    "deep_dive_results"
   ]
  },
  {
   "cell_type": "markdown",
   "id": "cb386bc8-5b83-4594-8b1d-2e379c06337f",
   "metadata": {},
   "source": [
    "# Topic Modeling"
   ]
  },
  {
   "cell_type": "markdown",
   "id": "5a1b3584-5de2-42bc-89fa-2d6909dac91c",
   "metadata": {},
   "source": [
    "## Apply LDA to extract topics"
   ]
  },
  {
   "cell_type": "code",
   "execution_count": 42,
   "id": "7024ea8f-6a25-44fd-92fd-23f0d896a7a2",
   "metadata": {},
   "outputs": [],
   "source": [
    "from sklearn.decomposition import LatentDirichletAllocation\n",
    "\n",
    "n_topics = 5\n",
    "lda = LatentDirichletAllocation(n_components=n_topics)\n",
    "topic_matrix = lda.fit_transform(tfidf_matrix)\n",
    "\n",
    "def get_top_words(lda_model, feature_names, n_words=5):\n",
    "    topics = {}\n",
    "    for topic_idx, topic in enumerate(lda_model.components_):\n",
    "        top_words = [feature_names[i] for i in topic.argsort()[:-n_words - 1:-1]]\n",
    "        topics[f\"Topic {topic_idx}\"] = top_words\n",
    "    return topics\n",
    "\n",
    "feature_names = vectorizer.get_feature_names_out()\n",
    "topics = get_top_words(lda, feature_names)"
   ]
  },
  {
   "cell_type": "markdown",
   "id": "0afc9b9a-b4a8-4ab9-9bfc-1ca3ccf17366",
   "metadata": {},
   "source": [
    "## Extract meaningful topics and understand their sentiment"
   ]
  },
  {
   "cell_type": "code",
   "execution_count": 43,
   "id": "d896c40d-39cf-4147-88cd-418809fbbf1e",
   "metadata": {},
   "outputs": [],
   "source": [
    "def topic_sentiment(lda_model, tfidf_matrix, df):\n",
    "    topic_matrix = lda_model.transform(tfidf_matrix)\n",
    "    df['topic'] = topic_matrix.argmax(axis=1)\n",
    "    topic_sentiments = df.groupby('topic')['sentiment'].value_counts().unstack().fillna(0)\n",
    "    return topic_sentiments\n",
    "\n",
    "topic_sentiments_df = topic_sentiment(lda, tfidf_matrix, reviews_df)"
   ]
  },
  {
   "cell_type": "code",
   "execution_count": 44,
   "id": "049f359e-20a5-4254-8f38-8f838b58282e",
   "metadata": {},
   "outputs": [
    {
     "data": {
      "text/html": [
       "<div>\n",
       "<style scoped>\n",
       "    .dataframe tbody tr th:only-of-type {\n",
       "        vertical-align: middle;\n",
       "    }\n",
       "\n",
       "    .dataframe tbody tr th {\n",
       "        vertical-align: top;\n",
       "    }\n",
       "\n",
       "    .dataframe thead th {\n",
       "        text-align: right;\n",
       "    }\n",
       "</style>\n",
       "<table border=\"1\" class=\"dataframe\">\n",
       "  <thead>\n",
       "    <tr style=\"text-align: right;\">\n",
       "      <th>sentiment</th>\n",
       "      <th>negative</th>\n",
       "      <th>neutral</th>\n",
       "      <th>positive</th>\n",
       "    </tr>\n",
       "    <tr>\n",
       "      <th>topic</th>\n",
       "      <th></th>\n",
       "      <th></th>\n",
       "      <th></th>\n",
       "    </tr>\n",
       "  </thead>\n",
       "  <tbody>\n",
       "    <tr>\n",
       "      <th>0</th>\n",
       "      <td>141</td>\n",
       "      <td>1143</td>\n",
       "      <td>996</td>\n",
       "    </tr>\n",
       "    <tr>\n",
       "      <th>1</th>\n",
       "      <td>90</td>\n",
       "      <td>364</td>\n",
       "      <td>751</td>\n",
       "    </tr>\n",
       "    <tr>\n",
       "      <th>2</th>\n",
       "      <td>67</td>\n",
       "      <td>379</td>\n",
       "      <td>321</td>\n",
       "    </tr>\n",
       "    <tr>\n",
       "      <th>3</th>\n",
       "      <td>94</td>\n",
       "      <td>302</td>\n",
       "      <td>436</td>\n",
       "    </tr>\n",
       "    <tr>\n",
       "      <th>4</th>\n",
       "      <td>4298</td>\n",
       "      <td>2091</td>\n",
       "      <td>9769</td>\n",
       "    </tr>\n",
       "  </tbody>\n",
       "</table>\n",
       "</div>"
      ],
      "text/plain": [
       "sentiment  negative  neutral  positive\n",
       "topic                                 \n",
       "0               141     1143       996\n",
       "1                90      364       751\n",
       "2                67      379       321\n",
       "3                94      302       436\n",
       "4              4298     2091      9769"
      ]
     },
     "execution_count": 44,
     "metadata": {},
     "output_type": "execute_result"
    }
   ],
   "source": [
    "topic_sentiments_df"
   ]
  },
  {
   "cell_type": "markdown",
   "id": "dd75b136-b54a-4916-b161-7ada4b6ff68f",
   "metadata": {},
   "source": [
    "# Evaluation"
   ]
  },
  {
   "cell_type": "code",
   "execution_count": 45,
   "id": "4458b70f-3398-44c2-b893-225b4117e72d",
   "metadata": {},
   "outputs": [],
   "source": [
    "def evaluate_recommendation(query):\n",
    "    recommended_apps = recommend_apps_analytical(query)\n",
    "    avg_sentiment = reviews_df[reviews_df['appId'].isin(recommended_apps)]['sentiment'].value_counts(normalize=True)\n",
    "    return avg_sentiment\n",
    "\n",
    "recommendation_evaluation = evaluate_recommendation(\"camera quality\")"
   ]
  },
  {
   "cell_type": "code",
   "execution_count": 46,
   "id": "dd5fbe57-9282-4ba7-b8df-0bc977e32991",
   "metadata": {},
   "outputs": [
    {
     "data": {
      "text/plain": [
       "positive    0.596558\n",
       "negative    0.240679\n",
       "neutral     0.162763\n",
       "Name: sentiment, dtype: float64"
      ]
     },
     "execution_count": 46,
     "metadata": {},
     "output_type": "execute_result"
    }
   ],
   "source": [
    "recommendation_evaluation"
   ]
  },
  {
   "cell_type": "code",
   "execution_count": null,
   "id": "ab49a831-9d81-42bc-bc07-2bd273831791",
   "metadata": {},
   "outputs": [],
   "source": []
  },
  {
   "cell_type": "markdown",
   "id": "a8219fb6-ff48-4654-8301-f6895a8b7558",
   "metadata": {},
   "source": [
    "# Visualization"
   ]
  },
  {
   "cell_type": "markdown",
   "id": "6a85517a-e219-4148-bedf-3e770d44d9ab",
   "metadata": {},
   "source": [
    "## Visualize sentiment distributions"
   ]
  },
  {
   "cell_type": "code",
   "execution_count": 47,
   "id": "5c0f230c-19ed-4e9c-b4c6-bdbe80f97af2",
   "metadata": {},
   "outputs": [
    {
     "data": {
      "image/png": "[encoded data removed]",
      "text/plain": [
       "<Figure size 640x480 with 1 Axes>"
      ]
     },
     "metadata": {
      "image/png": {
       "height": 494,
       "width": 580
      }
     },
     "output_type": "display_data"
    }
   ],
   "source": [
    "import matplotlib.pyplot as plt\n",
    "\n",
    "sentiment_counts = reviews_df['sentiment'].value_counts()\n",
    "sentiment_counts.plot(kind='bar', title='Sentiment Distribution')\n",
    "plt.show()"
   ]
  },
  {
   "cell_type": "markdown",
   "id": "ad921116-89c6-4213-b161-a324301cd5ff",
   "metadata": {},
   "source": [
    "## Visualize Aspect Sentiments"
   ]
  },
  {
   "cell_type": "code",
   "execution_count": 48,
   "id": "5882f7af-0492-4ce5-ac16-067a3d1b54c8",
   "metadata": {},
   "outputs": [
    {
     "data": {
      "image/png": "[encoded data removed]",
      "text/plain": [
       "<Figure size 640x480 with 1 Axes>"
      ]
     },
     "metadata": {
      "image/png": {
       "height": 491,
       "width": 603
      }
     },
     "output_type": "display_data"
    }
   ],
   "source": [
    "def plot_aspect_sentiments(df, aspects):\n",
    "    aspect_counts = {aspect: df[df['cleaned_content'].str.contains(aspect)]['sentiment'].value_counts() for aspect in aspects}\n",
    "    df_aspect = pd.DataFrame(aspect_counts).T.fillna(0)\n",
    "    df_aspect.plot(kind='bar', stacked=True, title=\"Sentiments for Different Aspects\")\n",
    "    plt.ylabel('Number of Reviews')\n",
    "    plt.show()\n",
    "\n",
    "plot_aspect_sentiments(reviews_df, aspects)"
   ]
  },
  {
   "cell_type": "markdown",
   "id": "d3bc311c-d7e2-4c16-b43f-caf6563eac40",
   "metadata": {},
   "source": [
    "# Machine Learning"
   ]
  },
  {
   "cell_type": "markdown",
   "id": "fb341e5c-e3ab-407b-ae14-c7a17adab2a7",
   "metadata": {},
   "source": [
    "## Clustering"
   ]
  },
  {
   "cell_type": "code",
   "execution_count": 51,
   "id": "3f171701-a08d-4fc7-8ebb-82925f6d6672",
   "metadata": {},
   "outputs": [],
   "source": [
    "from sklearn.cluster import KMeans\n",
    "\n",
    "num_clusters = 5\n",
    "kmeans = KMeans(n_clusters=num_clusters)\n",
    "reviews_df['cluster'] = kmeans.fit_predict(tfidf_matrix)"
   ]
  },
  {
   "cell_type": "code",
   "execution_count": 52,
   "id": "7bf92423-7a9c-4c24-ae21-57333be9305e",
   "metadata": {},
   "outputs": [
    {
     "data": {
      "image/png": "[encoded data removed]",
      "text/plain": [
       "<Figure size 640x480 with 1 Axes>"
      ]
     },
     "metadata": {
      "image/png": {
       "height": 458,
       "width": 603
      }
     },
     "output_type": "display_data"
    }
   ],
   "source": [
    "import matplotlib.pyplot as plt\n",
    "\n",
    "def plot_clusters(df):\n",
    "    cluster_counts = df['cluster'].value_counts()\n",
    "    cluster_counts.plot(kind='bar', title='Review Distribution Across Clusters')\n",
    "    plt.xlabel('Cluster')\n",
    "    plt.ylabel('Number of Reviews')\n",
    "    plt.show()\n",
    "\n",
    "plot_clusters(reviews_df)"
   ]
  },
  {
   "cell_type": "markdown",
   "id": "d3d0622c-fcb8-470a-bbb3-609972310aa2",
   "metadata": {},
   "source": [
    "## Classification"
   ]
  },
  {
   "cell_type": "code",
   "execution_count": 53,
   "id": "fae0d4b7-20b2-4185-9119-1eb20e2844b8",
   "metadata": {},
   "outputs": [],
   "source": [
    "from sklearn.model_selection import train_test_split\n",
    "from sklearn.naive_bayes import MultinomialNB\n",
    "from sklearn.preprocessing import LabelEncoder\n",
    "\n",
    "X = tfidf_matrix\n",
    "le = LabelEncoder()\n",
    "y = le.fit_transform(reviews_df['sentiment'])\n",
    "\n",
    "X_train, X_test, y_train, y_test = train_test_split(X, y, test_size=0.2, random_state=42)\n",
    "\n",
    "clf = MultinomialNB()\n",
    "clf.fit(X_train, y_train)\n",
    "accuracy = clf.score(X_test, y_test)"
   ]
  },
  {
   "cell_type": "code",
   "execution_count": 54,
   "id": "23e7a607-c675-4ad8-bf31-a48e19929d17",
   "metadata": {},
   "outputs": [
    {
     "name": "stdout",
     "output_type": "stream",
     "text": [
      "Classification Accuracy: 0.6062602965403624\n",
      "\n",
      "Classification Report:\n",
      "\n",
      "              precision    recall  f1-score   support\n",
      "\n",
      "    negative       0.75      0.04      0.07       915\n",
      "     neutral       0.90      0.11      0.19       871\n",
      "    positive       0.60      0.99      0.75      2463\n",
      "\n",
      "    accuracy                           0.61      4249\n",
      "   macro avg       0.75      0.38      0.34      4249\n",
      "weighted avg       0.69      0.61      0.49      4249\n",
      "\n"
     ]
    }
   ],
   "source": [
    "from sklearn.metrics import classification_report\n",
    "\n",
    "y_pred = clf.predict(X_test)\n",
    "print(f\"Classification Accuracy: {accuracy}\")\n",
    "print(\"\\nClassification Report:\\n\")\n",
    "print(classification_report(y_test, y_pred, target_names=le.classes_))"
   ]
  },
  {
   "cell_type": "markdown",
   "id": "b4c0bf30-9052-47ef-8fe1-d3adf77e96af",
   "metadata": {},
   "source": [
    "# Deep Learning"
   ]
  },
  {
   "cell_type": "markdown",
   "id": "c13d8d03-28cb-485b-bbf5-2d5c76fb5f57",
   "metadata": {},
   "source": [
    "## Word Embeddings"
   ]
  },
  {
   "cell_type": "code",
   "execution_count": 55,
   "id": "8ba0efd1-fc00-4066-9642-bb232c2c06e9",
   "metadata": {},
   "outputs": [],
   "source": [
    "from gensim.models import Word2Vec\n",
    "\n",
    "sentences = reviews_df['cleaned_content'].str.split().tolist()\n",
    "model = Word2Vec(sentences=sentences, vector_size=100, window=5, min_count=1, workers=4)\n",
    "model.save(\"word2vec.model\")"
   ]
  },
  {
   "cell_type": "code",
   "execution_count": 56,
   "id": "ca248879-17bc-430b-adc0-e4026ab62f64",
   "metadata": {},
   "outputs": [
    {
     "name": "stdout",
     "output_type": "stream",
     "text": [
      "Words similar to 'performance':\n",
      "\n",
      "The word 'performance' is not in the model's vocabulary.\n"
     ]
    }
   ],
   "source": [
    "def similar_words(word, model):\n",
    "    if word in model.wv:\n",
    "        return model.wv.most_similar(word)\n",
    "    else:\n",
    "        return f\"The word '{word}' is not in the model's vocabulary.\"\n",
    "\n",
    "word = \"performance\"\n",
    "print(f\"Words similar to '{word}':\\n\")\n",
    "print(similar_words(word, model))"
   ]
  },
  {
   "cell_type": "code",
   "execution_count": 57,
   "id": "55359800-0330-4942-b6b3-5766f1989762",
   "metadata": {},
   "outputs": [
    {
     "name": "stdout",
     "output_type": "stream",
     "text": [
      "Words similar to 'camera':\n",
      "\n",
      "[('rear', 0.9819891452789307), ('gif', 0.9812352657318115), ('thumbnail', 0.9779322147369385), ('crop', 0.9703361392021179), ('background', 0.9659807682037354), ('fullscreen', 0.9652870297431946), ('auto', 0.9649605751037598), ('length', 0.9624488353729248), ('blurri', 0.9609609842300415), ('resolut', 0.9608592987060547)]\n"
     ]
    }
   ],
   "source": [
    "def similar_words(word, model):\n",
    "    if word in model.wv:\n",
    "        return model.wv.most_similar(word)\n",
    "    else:\n",
    "        return f\"The word '{word}' is not in the model's vocabulary.\"\n",
    "\n",
    "word = \"camera\"\n",
    "print(f\"Words similar to '{word}':\\n\")\n",
    "print(similar_words(word, model))"
   ]
  },
  {
   "cell_type": "markdown",
   "id": "d16ab42b-440c-4461-b75f-61adb1029004",
   "metadata": {},
   "source": [
    "# Similarity Measures | Jaccard Index"
   ]
  },
  {
   "cell_type": "code",
   "execution_count": 58,
   "id": "eb92bc2b-6d35-4970-9e39-225bdebc9610",
   "metadata": {},
   "outputs": [],
   "source": [
    "def jaccard_similarity(set1, set2):\n",
    "    intersection_len = len(set1.intersection(set2))\n",
    "    union_len = len(set1.union(set2))\n",
    "    return intersection_len / union_len"
   ]
  },
  {
   "cell_type": "code",
   "execution_count": 59,
   "id": "3e5dfcc9-bd1d-4d8b-8d4d-056da7fb9878",
   "metadata": {},
   "outputs": [
    {
     "name": "stdout",
     "output_type": "stream",
     "text": [
      "Jaccard similarity between 'excellent The quality camera is' and 'good is The camera' is: 0.5\n"
     ]
    }
   ],
   "source": [
    "set1 = set(\"The camera quality is excellent\".split())\n",
    "set2 = set(\"The camera is good\".split())\n",
    "similarity = jaccard_similarity(set1, set2)\n",
    "print(f\"Jaccard similarity between '{' '.join(set1)}' and '{' '.join(set2)}' is: {similarity}\")"
   ]
  },
  {
   "cell_type": "markdown",
   "id": "923b8c1b-f730-4d13-93b6-3958875af3fa",
   "metadata": {},
   "source": [
    "-----------------"
   ]
  },
  {
   "cell_type": "markdown",
   "id": "708ae433-be6f-4146-a214-ea6b03107105",
   "metadata": {},
   "source": [
    "# Testing"
   ]
  },
  {
   "cell_type": "markdown",
   "id": "cc53b06c-5cb4-43b3-8072-467caaabee88",
   "metadata": {},
   "source": [
    "## AI Methodologies for Content Matching | Named Entity Recognition (NER)"
   ]
  },
  {
   "cell_type": "code",
   "execution_count": null,
   "id": "6ca346ce-e398-445e-87c7-d243fad2353f",
   "metadata": {},
   "outputs": [],
   "source": [
    "import spacy\n",
    "\n",
    "nlp = spacy.load('en_core_web_sm')\n",
    "\n",
    "def extract_entities(text):\n",
    "    doc = nlp(text)\n",
    "    return [(ent.text, ent.label_) for ent in doc.ents]\n",
    "\n",
    "reviews_df['entities'] = reviews_df['content'].apply(extract_entities)"
   ]
  }
 ],
 "metadata": {
  "kernelspec": {
   "display_name": "Python 3 (ipykernel)",
   "language": "python",
   "name": "python3"
  },
  "language_info": {
   "codemirror_mode": {
    "name": "ipython",
    "version": 3
   },
   "file_extension": ".py",
   "mimetype": "text/x-python",
   "name": "python",
   "nbconvert_exporter": "python",
   "pygments_lexer": "ipython3",
   "version": "3.8.18"
  }
 },
 "nbformat": 4,
 "nbformat_minor": 5
}
