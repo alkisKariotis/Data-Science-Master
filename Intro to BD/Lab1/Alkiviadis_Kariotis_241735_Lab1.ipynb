{
 "cells": [
  {
   "cell_type": "markdown",
   "id": "68b579eb-3740-4644-bf65-f669985c6f07",
   "metadata": {},
   "source": [
    "# Lab 1 Exercises"
   ]
  },
  {
   "cell_type": "markdown",
   "id": "4ce0f0b8-58c5-4bfa-a139-e7548877fea3",
   "metadata": {},
   "source": [
    "## 1. DNA exercise\n",
    "a. Read and then run the python program “dna.py”, what does it do? Try to understand it\n",
    "first. Then run it."
   ]
  },
  {
   "cell_type": "markdown",
   "id": "439f0794-942b-470d-9c1a-bcbb01c0f2cd",
   "metadata": {},
   "source": [
    "This code snippet takes a DNA sequence as input, counts the occurrences of \"c\" and \"g\" characters in the sequence, and calculates and displays the percentage of C and G in the DNA sequence."
   ]
  },
  {
   "cell_type": "code",
   "execution_count": 1,
   "id": "1ec7759f-f33b-4cd9-81cd-6aeed2e7132b",
   "metadata": {},
   "outputs": [
    {
     "name": "stdin",
     "output_type": "stream",
     "text": [
      "What is your DNA? (enter a sequence of a t c g)  abcg\n"
     ]
    },
    {
     "name": "stdout",
     "output_type": "stream",
     "text": [
      "Your DNA consists of 50.0 % C and G.\n"
     ]
    }
   ],
   "source": [
    "dna = str.lower(input(\"What is your DNA? (enter a sequence of a t c g) \"))\n",
    "countCG = 0\n",
    "for x in dna:\n",
    "\tif x == \"c\" or x == \"g\":\n",
    "\t\tcountCG = countCG + 1\n",
    "\n",
    "percent = 100 * countCG / len(dna)\n",
    "print (\"Your DNA consists of\", percent, \"% C and G.\")"
   ]
  },
  {
   "cell_type": "markdown",
   "id": "c1ca3946-c9eb-4e6e-92fe-fc19c67b1b67",
   "metadata": {},
   "source": [
    "## b. Extend the program by printing statistics for the ‘t’ and ‘a’ bases.\n",
    "If the input to the program is a sequence like: ‘aatcgac’, it should print in its output the following: aat, atc, tcg, cga. That is all triplets that are produced by a sliding window of length 3 (it should work for sliding windows of different length also). E.g.: [aat]cgac a[atc]gac aa[tcg]ac aat[cga]c. Hint: you will need to know how to access individual elements of a string."
   ]
  },
  {
   "cell_type": "code",
   "execution_count": 66,
   "id": "4bdaf96b-eb09-49ef-8f75-9cbed456359e",
   "metadata": {},
   "outputs": [
    {
     "name": "stdin",
     "output_type": "stream",
     "text": [
      "What is your DNA? (enter a sequence of a t c g)  aatcgac\n"
     ]
    },
    {
     "name": "stdout",
     "output_type": "stream",
     "text": [
      "Your DNA consists of 42.86% C and G.\n",
      "Your DNA consists of 57.14% T and A.\n",
      "aat [aat]cgac\n",
      "atc [atc]gac\n",
      "tcg [tcg]ac\n",
      "cga [cga]c\n",
      "gac [gac]\n"
     ]
    }
   ],
   "source": [
    "# Input DNA sequence\n",
    "dna = input(\"What is your DNA? (enter a sequence of a t c g) \").lower()\n",
    "\n",
    "# Initialize counters for C+G and T+A\n",
    "countCG = 0\n",
    "countTA = 0\n",
    "\n",
    "# Count the occurrences of C+G and T+A in the DNA sequence\n",
    "for x in dna:\n",
    "    if x == \"c\" or x == \"g\":\n",
    "        countCG += 1\n",
    "    elif x == \"t\" or x == \"a\":\n",
    "        countTA += 1\n",
    "\n",
    "# Calculate the total number of bases in the DNA sequence\n",
    "total_bases = len(dna)\n",
    "\n",
    "# Calculate the percentages of C+G and T+A\n",
    "percentCG = 100 * countCG / total_bases\n",
    "percentTA = 100 * countTA / total_bases\n",
    "\n",
    "# Print the percentages\n",
    "print(\"Your DNA consists of {:.2f}% C and G.\".format(percentCG))\n",
    "print(\"Your DNA consists of {:.2f}% T and A.\".format(percentTA))\n",
    "\n",
    "# Generate and print all triplets produced by a sliding window of length 3\n",
    "triplets = [dna[i:i+3] for i in range(len(dna)-2)]\n",
    "\n",
    "for i, triplet in enumerate(triplets):\n",
    "    print(f\"{triplet} [{dna[i:i+3]}]{dna[i+3:]}\")"
   ]
  },
  {
   "cell_type": "markdown",
   "id": "8df83e22-87ba-4ad2-bb55-69bd39c90042",
   "metadata": {},
   "source": [
    "## c. Try sampling the input: i.e. the input is a sequence: ‘aatcgac...’ the output should be a shorter sequence, which is produced by sampling each input element with probability ‘p’. (Hint: Try: random.rand())"
   ]
  },
  {
   "cell_type": "code",
   "execution_count": 77,
   "id": "dee5c81e-6467-4cd2-aa7c-e949939a6907",
   "metadata": {},
   "outputs": [
    {
     "name": "stdout",
     "output_type": "stream",
     "text": [
      "['a', 'a', 'c', 'g', 'g', 'a', 'g', 'a']\n"
     ]
    }
   ],
   "source": [
    "import random\n",
    "\n",
    "def sample_sequence(sequence, p):\n",
    "  # Create an empty list to store the sampled sequence.\n",
    "  sampled_sequence = []\n",
    "\n",
    "  # Iterate over the input sequence.\n",
    "  for element in sequence:\n",
    "\n",
    "    # Generate a random number between 0 and 1.\n",
    "    random_number = random.random()\n",
    "\n",
    "    # If the random number is less than the probability `p`, add the element to\n",
    "    # the sampled sequence.\n",
    "    if random_number < p:\n",
    "      sampled_sequence.append(element)\n",
    "\n",
    "  # Return the sampled sequence.\n",
    "  return sampled_sequence\n",
    "\n",
    "\n",
    "# Example usage:\n",
    "\n",
    "sequence = \"aatcgacatcgattcggaatgac\"\n",
    "p = 0.5\n",
    "\n",
    "sampled_sequence = sample_sequence(sequence, p)\n",
    "\n",
    "print(sampled_sequence)"
   ]
  },
  {
   "cell_type": "markdown",
   "id": "3b4ba457-79d1-4ac1-bd7f-fd0bacbe1b51",
   "metadata": {},
   "source": [
    "## 2. squares.py\n",
    "a. Figure out what it does"
   ]
  },
  {
   "cell_type": "code",
   "execution_count": 44,
   "id": "98ade425-5877-4951-be4c-5828e5037fe0",
   "metadata": {},
   "outputs": [
    {
     "name": "stdout",
     "output_type": "stream",
     "text": [
      "sum of first 10 squares is 385\n"
     ]
    }
   ],
   "source": [
    "# Initialize a variable 'sum' to store the sum of squares.\n",
    "sum = 0\n",
    "\n",
    "# Iterate through numbers from 1 to 10 (inclusive).\n",
    "for i in range(1, 11):\n",
    "    # Calculate the square of the current number 'i' and add it to the 'sum'.\n",
    "    sum = sum + (i * i)\n",
    "\n",
    "# Print the sum of the first 10 squares.\n",
    "print(\"sum of first 10 squares is\", sum)"
   ]
  },
  {
   "cell_type": "markdown",
   "id": "b9de0aef-d568-41c9-98d4-0729e4f23761",
   "metadata": {},
   "source": [
    "This code snippet calculates the sum of the squares of the first 10 positive integers (from 1 to 10) and then prints the result. In this case, the sum of the squares from 1^2 to 10^2, which is 385."
   ]
  },
  {
   "cell_type": "markdown",
   "id": "7b1d62a5-171c-4ada-8482-811fadf70433",
   "metadata": {},
   "source": [
    "## b. Then write a function called ‘prod’ in a new programme called ‘product2.py’. This will find the products of numbers i.e. 1*2*3* ...* n. User will enter the value of ‘n’"
   ]
  },
  {
   "cell_type": "code",
   "execution_count": 45,
   "id": "277c719b-82df-41b1-b719-3899ec11928d",
   "metadata": {},
   "outputs": [
    {
     "name": "stdin",
     "output_type": "stream",
     "text": [
      "Enter the value of 'n':  5\n"
     ]
    },
    {
     "name": "stdout",
     "output_type": "stream",
     "text": [
      "The product of numbers from 1 to 5 is: 120\n"
     ]
    }
   ],
   "source": [
    "# Define a function 'prod' to calculate the product of numbers from 1 to 'n'.\n",
    "def prod(n):\n",
    "    # Initialize a variable 'result' to store the product, starting with 1.\n",
    "    result = 1\n",
    "    \n",
    "    # Iterate through numbers from 1 to 'n' (inclusive).\n",
    "    for i in range(1, n + 1):\n",
    "        # Multiply 'result' by the current number 'i'.\n",
    "        result *= i\n",
    "    \n",
    "    # Return the calculated product.\n",
    "    return result\n",
    "\n",
    "# Check if this script is the main module being run.\n",
    "if __name__ == \"__main__\":\n",
    "    # Read an integer 'n' from the user.\n",
    "    n = int(input(\"Enter the value of 'n': \"))\n",
    "    \n",
    "    # Call the 'prod' function to calculate the product.\n",
    "    product = prod(n)\n",
    "    \n",
    "    # Print the calculated product with a formatted message.\n",
    "    print(f\"The product of numbers from 1 to {n} is: {product}\")"
   ]
  },
  {
   "cell_type": "markdown",
   "id": "f054a4f1-fe6a-4c8b-bb85-7be7511fafba",
   "metadata": {},
   "source": [
    "## 3. Functions\n",
    "a. Read ‘gpa.py’ and then ‘gpa2.py’. What does ‘gpa2.py’ do?"
   ]
  },
  {
   "cell_type": "code",
   "execution_count": 7,
   "id": "fc0444e6-af9f-4169-bdb3-310154911a48",
   "metadata": {},
   "outputs": [
    {
     "name": "stdin",
     "output_type": "stream",
     "text": [
      "What is your GPA?  4\n"
     ]
    },
    {
     "name": "stdout",
     "output_type": "stream",
     "text": [
      "Your application was accepted.\n"
     ]
    }
   ],
   "source": [
    "#gpa.py\n",
    "\n",
    "gpa = int(input(\"What is your GPA? \"))\n",
    "if gpa > 2.0:\n",
    "    print (\"Your application was accepted.\")\n",
    "else:\n",
    "    print (\"You loser, get out of here.\")"
   ]
  },
  {
   "cell_type": "code",
   "execution_count": 46,
   "id": "5d661a8e-64e0-46e9-9b17-731ff2ad26c8",
   "metadata": {},
   "outputs": [
    {
     "name": "stdin",
     "output_type": "stream",
     "text": [
      "What is your GPA?  4\n"
     ]
    },
    {
     "name": "stdout",
     "output_type": "stream",
     "text": [
      "Your application was accepted.\n",
      "10\n"
     ]
    }
   ],
   "source": [
    "def gpaResults(grade):\n",
    "    if grade > 2.0:\n",
    "        passDegree = True\n",
    "    else:\n",
    "        passDegree = False\n",
    "    return passDegree\n",
    "\n",
    "gpa = float(input(\"What is your GPA? \"))\n",
    "i = 10\n",
    "\n",
    "if gpaResults(gpa):\n",
    "    print(\"Your application was accepted.\")\n",
    "else:\n",
    "    print(\"You loser, get out of here.\")\n",
    "\n",
    "print(i)"
   ]
  },
  {
   "cell_type": "markdown",
   "id": "0e03d8e1-9b0b-4a25-9fd4-c6e425f3c1ed",
   "metadata": {},
   "source": [
    "The code prompts the user for their GPA, converts it to a floating-point number, and then determines whether their application was accepted based on whether the GPA is greater than 2.0, finally printing a corresponding message. "
   ]
  },
  {
   "cell_type": "markdown",
   "id": "7a1148b9-fd82-4ed4-b370-563ad2a08c7a",
   "metadata": {},
   "source": [
    "## b. Write a function inside ‘gpa2.py’ that prints the letter grade given a number grade, thus a grade >=70 corresponds to ‘A’, a grade between 65 and 69 corresponds to ‘A-‘, 60-64 corresponds to B+, a grade 50-59 corresponds to B, a grade 40-49 is a C, and anything below 40 is an F."
   ]
  },
  {
   "cell_type": "code",
   "execution_count": 54,
   "id": "c2421fb7-bed9-403d-b143-03f3b7b41701",
   "metadata": {},
   "outputs": [
    {
     "name": "stdin",
     "output_type": "stream",
     "text": [
      "Enter your grade (1-4):  2.3\n"
     ]
    },
    {
     "name": "stdout",
     "output_type": "stream",
     "text": [
      "Original grade: 2.3\n",
      "Grade in 100-point scale: 57.49999999999999\n",
      "Your application was accepted.\n",
      "Your letter grade is: B\n"
     ]
    }
   ],
   "source": [
    "# Function to determine if a student passes the degree based on GPA.\n",
    "def gpaResults(grade):\n",
    "    if grade >= 2.0:\n",
    "        passDegree = True\n",
    "    else:\n",
    "        passDegree = False\n",
    "    return passDegree\n",
    "\n",
    "# Function to convert the input grade to a 100-point scale.\n",
    "def convertTo100Scale(grade):\n",
    "    # Assuming the input grade is in the range 1-4, you can convert it to a 100-point scale by multiplying by 25.\n",
    "    converted_grade = grade * 25\n",
    "    return converted_grade\n",
    "\n",
    "# Function to print the letter grade based on the converted grade.\n",
    "def printLetterGrade(grade):\n",
    "    if grade >= 70:\n",
    "        letter_grade = 'A'\n",
    "    elif grade >= 65:\n",
    "        letter_grade = 'A-'\n",
    "    elif grade >= 60:\n",
    "        letter_grade = 'B+'\n",
    "    elif grade >= 50:\n",
    "        letter_grade = 'B'\n",
    "    elif grade >= 40:\n",
    "        letter_grade = 'C'\n",
    "    else:\n",
    "        letter_grade = 'F'\n",
    "    print(f\"Your letter grade is: {letter_grade}\")\n",
    "\n",
    "# Get the input grade from the user (assumed to be in the range 1-4).\n",
    "grade = float(input(\"Enter your grade (1-4): \"))\n",
    "\n",
    "# Convert the input grade to a 100-point scale.\n",
    "converted_grade = convertTo100Scale(grade)\n",
    "\n",
    "# Print the original grade and the converted grade.\n",
    "print(f\"Original grade: {grade}\")\n",
    "print(f\"Grade in 100-point scale: {converted_grade}\")\n",
    "\n",
    "# Check if the student passes the degree based on the converted grade and print the letter grade.\n",
    "if gpaResults(converted_grade):\n",
    "    print(\"Your application was accepted.\")\n",
    "    printLetterGrade(converted_grade)\n",
    "else:\n",
    "    print(\"You loser, get out of here.\")\n",
    "    printLetterGrade(converted_grade)"
   ]
  },
  {
   "cell_type": "markdown",
   "id": "8efa977a-82f5-4d65-8b90-1beab189fc96",
   "metadata": {},
   "source": [
    "## c. Write a function to reverse a list. The function will be called ‘reverseList’. It will take as input a list, and returns the reversed list. Hint: use ‘len(list)’, and a while loop."
   ]
  },
  {
   "cell_type": "code",
   "execution_count": 49,
   "id": "a4f80094-1456-4668-9a2c-c8ff3e7271f6",
   "metadata": {},
   "outputs": [
    {
     "name": "stdout",
     "output_type": "stream",
     "text": [
      "[5, 4, 3, 2, 1]\n"
     ]
    }
   ],
   "source": [
    "def reverseList(input_list):\n",
    "    # Create an empty list to store the reversed elements\n",
    "    reversed_list = []\n",
    "\n",
    "    # Get the index of the last element in the input list\n",
    "    index = len(input_list) - 1\n",
    "\n",
    "    # Iterate through the input list in reverse order using a while loop\n",
    "    while index >= 0:\n",
    "        # Append the current element to the reversed_list\n",
    "        reversed_list.append(input_list[index])\n",
    "        \n",
    "        # Move to the previous element (decrement the index)\n",
    "        index -= 1\n",
    "\n",
    "    # Return the reversed list\n",
    "    return reversed_list\n",
    "\n",
    "# Example usage:\n",
    "original_list = [1, 2, 3, 4, 5]\n",
    "reversed_result = reverseList(original_list)\n",
    "print(reversed_result)"
   ]
  },
  {
   "cell_type": "markdown",
   "id": "eed06ddb-7f06-4745-86f1-ec3831b88638",
   "metadata": {},
   "source": [
    "## d. Write a function to discover whether a string is a palindrome. It will return True or False. The function will be called ‘palindromeString (list)’. For example, ‘Anna’ is a palindrome."
   ]
  },
  {
   "cell_type": "code",
   "execution_count": 50,
   "id": "725d1e9a-50ce-456c-95a5-2860e31d784c",
   "metadata": {},
   "outputs": [
    {
     "name": "stdout",
     "output_type": "stream",
     "text": [
      "True\n"
     ]
    }
   ],
   "source": [
    "def palindromeString(input_string):\n",
    "    # Remove spaces and convert the string to lowercase for a case-insensitive check\n",
    "    cleaned_string = input_string.replace(\" \", \"\").lower()\n",
    "\n",
    "    # Check if the cleaned string is equal to its reverse\n",
    "    return cleaned_string == cleaned_string[::-1]\n",
    "\n",
    "# Example usage:\n",
    "input_str = \"Anna\"\n",
    "result = palindromeString(input_str)\n",
    "print(result)  # This will print True for \"Anna\""
   ]
  },
  {
   "cell_type": "markdown",
   "id": "6d3fdb04-1205-4238-a577-9582d4ae2ec5",
   "metadata": {},
   "source": [
    "## 4. Dictionaries\n",
    "\n",
    "a. Can you use a dictionary to convert triplets of amino-acids to proteins? (see previous exercise), and see also: https://www.britannica.com/science/genetic-code that explains the conversion). The key should be a triplet and the value the amino-acid. e.g. the dictionary could be named: ‘dna2aa’. And dna2aa[‘aaa’] should be phenylamine"
   ]
  },
  {
   "cell_type": "code",
   "execution_count": 43,
   "id": "5531e1a7-c96b-40b9-beaf-2d33eacae9fc",
   "metadata": {},
   "outputs": [
    {
     "name": "stdout",
     "output_type": "stream",
     "text": [
      "Phenylalanine\n"
     ]
    }
   ],
   "source": [
    "# Create a dictionary 'dna2aa' that maps DNA triplets to amino acids.\n",
    "dna2aa = {\n",
    "    'TTT': 'Phenylalanine',\n",
    "    'TTC': 'Phenylalanine',\n",
    "    'TTA': 'Leucine',\n",
    "    'TTG': 'Leucine',\n",
    "    'CTT': 'Leucine',\n",
    "    'CTC': 'Leucine',\n",
    "    'CTA': 'Leucine',\n",
    "    'CTG': 'Leucine',\n",
    "    'ATT': 'Isoleucine',\n",
    "    'ATC': 'Isoleucine',\n",
    "    'ATA': 'Isoleucine',\n",
    "    'ATG': 'Methionine (Start)'\n",
    "}\n",
    "\n",
    "# Accessing a value in the dictionary using a DNA triplet as a key.\n",
    "print(dna2aa['TTT'])  # This will print 'Phenylalanine'"
   ]
  },
  {
   "cell_type": "markdown",
   "id": "d8fa7961-253a-465c-ab81-2dfde6dbcc27",
   "metadata": {},
   "source": [
    "b. Convert the two lists into a dictionary:\n",
    "e.g. given: keys = ['Ten', 'Twenty', 'Thirty'], values = [10, 20, 30]\n",
    "\n",
    "Expected output:\n",
    "     {'Ten': 10, 'Twenty': 20, 'Thirty': 30}"
   ]
  },
  {
   "cell_type": "code",
   "execution_count": 42,
   "id": "61d4f544-ca69-444b-bf03-f277d34fae2a",
   "metadata": {},
   "outputs": [
    {
     "name": "stdout",
     "output_type": "stream",
     "text": [
      "{'Ten': 10, 'Twenty': 20, 'Thirty': 30}\n"
     ]
    }
   ],
   "source": [
    "# Define two lists, 'keys' and 'values'.\n",
    "keys = ['Ten', 'Twenty', 'Thirty']\n",
    "values = [10, 20, 30]\n",
    "\n",
    "# Use the zip function to combine 'keys' and 'values' into a dictionary.\n",
    "result_dict = dict(zip(keys, values))\n",
    "\n",
    "# Print the resulting dictionary.\n",
    "print(result_dict)"
   ]
  },
  {
   "cell_type": "markdown",
   "id": "5a538902-7495-4964-9018-ce8060432afd",
   "metadata": {},
   "source": [
    "## 5. Numbers\n",
    "a. Print the first 100 integers, starting from 0"
   ]
  },
  {
   "cell_type": "code",
   "execution_count": 41,
   "id": "11297e65-d952-4007-8ca9-f67e28eb8bef",
   "metadata": {},
   "outputs": [
    {
     "name": "stdout",
     "output_type": "stream",
     "text": [
      "0\n",
      "1\n",
      "2\n",
      "3\n",
      "4\n",
      "5\n",
      "6\n",
      "7\n",
      "8\n",
      "9\n",
      "10\n",
      "11\n",
      "12\n",
      "13\n",
      "14\n",
      "15\n",
      "16\n",
      "17\n",
      "18\n",
      "19\n",
      "20\n",
      "21\n",
      "22\n",
      "23\n",
      "24\n",
      "25\n",
      "26\n",
      "27\n",
      "28\n",
      "29\n",
      "30\n",
      "31\n",
      "32\n",
      "33\n",
      "34\n",
      "35\n",
      "36\n",
      "37\n",
      "38\n",
      "39\n",
      "40\n",
      "41\n",
      "42\n",
      "43\n",
      "44\n",
      "45\n",
      "46\n",
      "47\n",
      "48\n",
      "49\n",
      "50\n",
      "51\n",
      "52\n",
      "53\n",
      "54\n",
      "55\n",
      "56\n",
      "57\n",
      "58\n",
      "59\n",
      "60\n",
      "61\n",
      "62\n",
      "63\n",
      "64\n",
      "65\n",
      "66\n",
      "67\n",
      "68\n",
      "69\n",
      "70\n",
      "71\n",
      "72\n",
      "73\n",
      "74\n",
      "75\n",
      "76\n",
      "77\n",
      "78\n",
      "79\n",
      "80\n",
      "81\n",
      "82\n",
      "83\n",
      "84\n",
      "85\n",
      "86\n",
      "87\n",
      "88\n",
      "89\n",
      "90\n",
      "91\n",
      "92\n",
      "93\n",
      "94\n",
      "95\n",
      "96\n",
      "97\n",
      "98\n",
      "99\n"
     ]
    }
   ],
   "source": [
    "# Loop through numbers from 0 to 99 (100 numbers in total).\n",
    "for i in range(100):\n",
    "    # Print the current value of 'i'.\n",
    "    print(i)"
   ]
  },
  {
   "cell_type": "markdown",
   "id": "c377c19e-145d-4af4-b887-cb7b494af4a7",
   "metadata": {},
   "source": [
    "## b. Print the following numbers\n",
    "\r",
    "1 \n",
    "\n",
    "1 2\n",
    "\n",
    "1 2 3\n",
    "\n",
    "1 2 3 4\n",
    "\r",
    "1 2 3 4 5"
   ]
  },
  {
   "cell_type": "code",
   "execution_count": 40,
   "id": "0c80c591-2a5a-4b1a-bf6e-1f19d855927e",
   "metadata": {},
   "outputs": [
    {
     "name": "stdout",
     "output_type": "stream",
     "text": [
      "1 \n",
      "1 2 \n",
      "1 2 3 \n",
      "1 2 3 4 \n",
      "1 2 3 4 5 \n"
     ]
    }
   ],
   "source": [
    "# Outer loop for rows, ranging from 1 to 5.\n",
    "for i in range(1, 6):\n",
    "    # Inner loop for numbers in each row, ranging from 1 to the current row number.\n",
    "    for j in range(1, i + 1):\n",
    "        # Print the value of 'j' followed by a space, without moving to a new line.\n",
    "        print(j, end=' ')\n",
    "    \n",
    "    # Print a new line to move to the next row.\n",
    "    print()"
   ]
  },
  {
   "cell_type": "markdown",
   "id": "659a8ec0-68d0-4bfb-8d5e-b0abba85ee88",
   "metadata": {},
   "source": [
    "## c. Write a function addSub() such that it can accept two numbers and calculate their sum and difference. It must also return them, e.g.\n",
    "def addSub(a, b):\n",
    "\r",
    "    #Your Code\n",
    "res = addSub(5, 2)\n",
    "\n",
    "print(res)\n"
   ]
  },
  {
   "cell_type": "code",
   "execution_count": 39,
   "id": "47d00191-5eb2-444b-bf3d-fb4118119670",
   "metadata": {},
   "outputs": [
    {
     "name": "stdout",
     "output_type": "stream",
     "text": [
      "(7, 3)\n"
     ]
    }
   ],
   "source": [
    "# Define a function named addSub that calculates the sum and difference of two numbers.\n",
    "def addSub(a, b):\n",
    "    # Calculate the sum of 'a' and 'b'.\n",
    "    sum_result = a + b\n",
    "    # Calculate the difference of 'a' and 'b'.\n",
    "    diff_result = a - b\n",
    "    # Return both the sum and difference as a tuple.\n",
    "    return sum_result, diff_result\n",
    "\n",
    "# Call the addSub function with arguments 5 and 2.\n",
    "res = addSub(5, 2)\n",
    "# The function returns a tuple with two values, so 'res' will contain (7, 3).\n",
    "print(res)"
   ]
  },
  {
   "cell_type": "markdown",
   "id": "c737f90b-50ab-4e03-9b51-8c6847645844",
   "metadata": {},
   "source": [
    "## 6. Lists\n",
    "\n",
    "a. Given a list of numbers, print only those numbers which are divisible of 5 (write a function name ‘divByNum’. e.g., divByNum([10, 20, 33, 46, 55], 5), you should produce as output:\n",
    "\n",
    "10\n",
    "\n",
    "20\n",
    "\n",
    "55"
   ]
  },
  {
   "cell_type": "code",
   "execution_count": 38,
   "id": "a093b514-d245-4c79-b79f-e1d9d74c2af7",
   "metadata": {},
   "outputs": [
    {
     "name": "stdout",
     "output_type": "stream",
     "text": [
      "10\n",
      "20\n",
      "55\n"
     ]
    }
   ],
   "source": [
    "# Define a function named divByNum that prints numbers in a list that are divisible by a given divisor.\n",
    "def divByNum(numbers, divisor):\n",
    "    # Iterate through the numbers in the input list.\n",
    "    for num in numbers:\n",
    "        # Check if the current number is divisible by the specified divisor.\n",
    "        if num % divisor == 0:\n",
    "            # If it is divisible, print the number.\n",
    "            print(num)\n",
    "\n",
    "# Example usage:\n",
    "numbers = [10, 20, 33, 46, 55]\n",
    "divisor = 5\n",
    "# Call the divByNum function with the list of numbers and the divisor as arguments.\n",
    "divByNum(numbers, divisor)\n",
    "# This will print the numbers in the list [10, 20, 55] since they are divisible by 5."
   ]
  },
  {
   "cell_type": "markdown",
   "id": "1ef7a1f3-cb72-40b7-aa46-46d944f78e81",
   "metadata": {},
   "source": [
    "## 7. Strings\n",
    "a. Given a string, display only those characters which are present at an even index number.\n",
    "For example given str = \"Alice\" a function named ‘evenStr’ should output\n",
    "           ‘A’, ‘i’, ‘e’."
   ]
  },
  {
   "cell_type": "code",
   "execution_count": 37,
   "id": "3dd75a24-47d6-4957-adc1-8939e6cbb4b4",
   "metadata": {},
   "outputs": [
    {
     "name": "stdout",
     "output_type": "stream",
     "text": [
      "Aie\n"
     ]
    }
   ],
   "source": [
    "# Define a function named evenStr that extracts characters at even indices from a given input string.\n",
    "def evenStr(input_str):\n",
    "    # Initialize an empty string to store the even-indexed characters.\n",
    "    even_chars = \"\"\n",
    "    \n",
    "    # Iterate through the characters in the input string along with their indices.\n",
    "    for index, char in enumerate(input_str):\n",
    "        # Check if the index is even (0, 2, 4, etc.).\n",
    "        if index % 2 == 0:\n",
    "            # If the index is even, add the character to the even_chars string.\n",
    "            even_chars += char\n",
    "    \n",
    "    # Return the string containing even-indexed characters.\n",
    "    return even_chars\n",
    "\n",
    "# Example usage:\n",
    "input_str = \"Alice\"\n",
    "# Call the evenStr function with the input string \"Alice.\"\n",
    "result = evenStr(input_str)\n",
    "# Print the result, which will be \"Aie\" in this case.\n",
    "print(result)"
   ]
  },
  {
   "cell_type": "markdown",
   "id": "2a0ea4c5-510d-4808-8bb5-7f0a365ee803",
   "metadata": {},
   "source": [
    "## b. Given an input string, write a function (freqCounter) to count occurrences of all characters within a string, e.g. str1 = \"Apple\" Expected Outcome:\n",
    "\n",
    "{'A': 1, 'p': 2, 'l': 1, 'e': 1}"
   ]
  },
  {
   "cell_type": "code",
   "execution_count": 29,
   "id": "2778a011-e96e-42a8-9952-5cccc562e182",
   "metadata": {},
   "outputs": [
    {
     "name": "stdout",
     "output_type": "stream",
     "text": [
      "{'A': 1, 'p': 2, 'l': 1, 'e': 1}\n"
     ]
    }
   ],
   "source": [
    "def freqCounter(input_str):\n",
    "    # Initialize an empty dictionary to store character frequencies.\n",
    "    char_count = {}\n",
    "    \n",
    "    # Iterate through the characters in the input string.\n",
    "    for char in input_str:\n",
    "        # Check if the character is already in the dictionary.\n",
    "        if char in char_count:\n",
    "            # If it is, increment the count for that character.\n",
    "            char_count[char] += 1\n",
    "        else:\n",
    "            # If it's not, add it to the dictionary with a count of 1.\n",
    "            char_count[char] = 1\n",
    "    \n",
    "    return char_count\n",
    "\n",
    "# Example usage:\n",
    "input_str = \"Apple\"\n",
    "result = freqCounter(input_str)\n",
    "print(result)"
   ]
  },
  {
   "cell_type": "markdown",
   "id": "3dcdd690-6273-447b-ad54-4030aab9b92a",
   "metadata": {},
   "source": [
    "## c. Reverse a string with a function that you should write a function named: revStr\n",
    "\n",
    "e.g.: str1 = \"Aloha\" → aholA"
   ]
  },
  {
   "cell_type": "code",
   "execution_count": 32,
   "id": "9ed5a470-3597-44cd-a809-c958ac3b97b8",
   "metadata": {},
   "outputs": [
    {
     "name": "stdout",
     "output_type": "stream",
     "text": [
      "aholA\n"
     ]
    }
   ],
   "source": [
    "def revStr(input_str):\n",
    "    # Use string slicing to reverse the input string.\n",
    "    reversed_str = input_str[::-1]\n",
    "    return reversed_str\n",
    "\n",
    "input_str = \"Aloha\"\n",
    "result = revStr(input_str)\n",
    "print(result)"
   ]
  },
  {
   "cell_type": "markdown",
   "id": "a8418ccd-3452-4dff-83be-20caf515a523",
   "metadata": {},
   "source": [
    "## d. In a given string replace each punctuation symbol with #\n",
    "\n",
    "e.g. given\n",
    "\n",
    "str1 = '/*Jon is @developer & musician!!'\n",
    "\n",
    "produce as output\n",
    "\n",
    "##Jon is #developer # musician##"
   ]
  },
  {
   "cell_type": "code",
   "execution_count": 34,
   "id": "5f615a57-5625-48b9-ab00-87ef9bfb4915",
   "metadata": {},
   "outputs": [
    {
     "name": "stdout",
     "output_type": "stream",
     "text": [
      "##Jon is #developer # musician##\n"
     ]
    }
   ],
   "source": [
    "import string\n",
    "\n",
    "def replacePunctuation(input_str, replacement_char='#'):\n",
    "    # Create a translation table to map punctuation symbols to the replacement character.\n",
    "    translation_table = str.maketrans(string.punctuation, replacement_char * len(string.punctuation))\n",
    "    \n",
    "    # Use the translate method to replace punctuation symbols in the input string.\n",
    "    modified_str = input_str.translate(translation_table)\n",
    "    \n",
    "    return modified_str\n",
    "\n",
    "# Example usage:\n",
    "input_str = '/*Jon is @developer & musician!!'\n",
    "result = replacePunctuation(input_str)\n",
    "print(result)"
   ]
  }
 ],
 "metadata": {
  "kernelspec": {
   "display_name": "Python 3 (ipykernel)",
   "language": "python",
   "name": "python3"
  },
  "language_info": {
   "codemirror_mode": {
    "name": "ipython",
    "version": 3
   },
   "file_extension": ".py",
   "mimetype": "text/x-python",
   "name": "python",
   "nbconvert_exporter": "python",
   "pygments_lexer": "ipython3",
   "version": "3.8.18"
  }
 },
 "nbformat": 4,
 "nbformat_minor": 5
}
