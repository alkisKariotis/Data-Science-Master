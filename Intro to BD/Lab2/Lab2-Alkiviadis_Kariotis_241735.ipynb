{
 "cells": [
  {
   "cell_type": "markdown",
   "id": "e559ab5b-ec3e-4c78-bc52-be722e250922",
   "metadata": {},
   "source": [
    "## Alkiviadis Kariotis 241735 | Json Tweets"
   ]
  },
  {
   "cell_type": "markdown",
   "id": "52cefa63-8b19-41b5-85dc-467d32c7241e",
   "metadata": {},
   "source": [
    "## Final Question\n",
    "\n",
    "JSON Files\n",
    "\n",
    "A json viewer is useful when trying to inspect a json file, for example:\n",
    "https://jsonformatter.curiousconcept.com/#\n",
    "\n",
    "1. You will need the python scripts that read json files. This will allow you to gain some experience.\n",
    "\n",
    "Download and run them.\n",
    "\n",
    "2. You will need a Tweeter file. It’s in Json format. Create a dictionary that contains as key the user\n",
    "name, and as value the text that was produced by the user."
   ]
  },
  {
   "cell_type": "code",
   "execution_count": 7,
   "id": "c609292f-0322-4936-a002-b9edeeab345a",
   "metadata": {},
   "outputs": [
    {
     "name": "stdout",
     "output_type": "stream",
     "text": [
      "Gary Skinner: Japan imposes sanctions on Russia over Crimea | Asian Correspondent http://t.co/wQT62ofYV6 \n",
      "\n",
      "Baarah Kuriyah: RT @NatVasilyevaAP: Second item on the 11 a.m. news on Vesti (after Crimea) is a pro-Russia rally in Donetsk, protesters say they want to j… \n",
      "\n",
      "TechIQ IS Russia: Leta Group will showcase the latest IS outsourcing solutions at the Information Security Forum Russia 2014 http://t.co/kqAtAazn3Q \n",
      "\n"
     ]
    }
   ],
   "source": [
    "# json module to work with JSON data.\n",
    "import json\n",
    "\n",
    "# This function opens and reads a JSON file.\n",
    "def read_json_file(filename):\n",
    "    # Open the file with read ('r') mode.\n",
    "    with open(filename, 'r') as file:\n",
    "        # Load the JSON data from the file.\n",
    "        data = json.load(file)\n",
    "    # Return the loaded data.\n",
    "    return data\n",
    "\n",
    "# This function extracts tweets from each user.\n",
    "def extract_user_tweets(data):\n",
    "    # Create an empty dictionary to store tweets for each user.\n",
    "    user_tweets = {}\n",
    "    \n",
    "    # Go through each tweet in the provided data.\n",
    "    for tweet in data:\n",
    "        # Extract the username from the tweet.\n",
    "        username = tweet['user']['name']\n",
    "        # Extract the text/content of the tweet.\n",
    "        text = tweet['text']\n",
    "        \n",
    "        # If this username is not already in our dictionary, add it.\n",
    "        if username not in user_tweets:\n",
    "            user_tweets[username] = ''\n",
    "        \n",
    "        # Add/concatenate the tweet text to the existing string of tweets for this user.\n",
    "        user_tweets[username] += text + ' '\n",
    "\n",
    "    # Return the dictionary containing all tweets for each user.\n",
    "    return user_tweets\n",
    "\n",
    "# Read the JSON data from the specified file, Twitter2 in my case, which I found on BB.\n",
    "tweets_data = read_json_file('Twitter2.json')\n",
    "# Get a dictionary of users and their respective tweets.\n",
    "user_tweets_dict = extract_user_tweets(tweets_data)\n",
    "\n",
    "# Print out the dictionary, showing each user together with their tweets.\n",
    "for user, tweets_text in user_tweets_dict.items():\n",
    "    print(f\"{user}: {tweets_text}\\n\")"
   ]
  },
  {
   "cell_type": "code",
   "execution_count": 8,
   "id": "0800c2e7-36ac-4ef3-baf8-05206f36a1f8",
   "metadata": {},
   "outputs": [
    {
     "data": {
      "text/plain": [
       "{'Gary Skinner': 'Japan imposes sanctions on Russia over Crimea | Asian Correspondent http://t.co/wQT62ofYV6 ',\n",
       " 'Baarah Kuriyah': 'RT @NatVasilyevaAP: Second item on the 11 a.m. news on Vesti (after Crimea) is a pro-Russia rally in Donetsk, protesters say they want to j… ',\n",
       " 'TechIQ IS Russia': 'Leta Group will showcase the latest IS outsourcing solutions at the Information Security Forum Russia 2014 http://t.co/kqAtAazn3Q '}"
      ]
     },
     "execution_count": 8,
     "metadata": {},
     "output_type": "execute_result"
    }
   ],
   "source": [
    "user_tweets_dict"
   ]
  },
  {
   "cell_type": "code",
   "execution_count": 9,
   "id": "38abfe7b-54c3-4e2b-aa88-618dd293f8e6",
   "metadata": {},
   "outputs": [],
   "source": [
    "import pyjsonviewer\n",
    "\n",
    "#pyjsonviewer.view_data(json_file=\"Twitter2.json\")"
   ]
  }
 ],
 "metadata": {
  "kernelspec": {
   "display_name": "Python 3 (ipykernel)",
   "language": "python",
   "name": "python3"
  },
  "language_info": {
   "codemirror_mode": {
    "name": "ipython",
    "version": 3
   },
   "file_extension": ".py",
   "mimetype": "text/x-python",
   "name": "python",
   "nbconvert_exporter": "python",
   "pygments_lexer": "ipython3",
   "version": "3.8.18"
  }
 },
 "nbformat": 4,
 "nbformat_minor": 5
}
