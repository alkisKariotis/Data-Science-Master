{
 "cells": [
  {
   "cell_type": "markdown",
   "id": "f62841b2-81c4-4f02-aaf8-ff6c1c821f43",
   "metadata": {},
   "source": [
    "## Diamonds csv"
   ]
  },
  {
   "cell_type": "code",
   "execution_count": 15,
   "id": "6d932c84-b355-4f5e-b61c-bdbc24555ad5",
   "metadata": {},
   "outputs": [],
   "source": [
    "import pandas as pd\n",
    "\n",
    "# Load the CSV file\n",
    "diamonds_df = pd.read_csv('diamonds.csv')"
   ]
  },
  {
   "cell_type": "code",
   "execution_count": 16,
   "id": "7581a13b-3b2f-463b-863d-ccb50a3a477a",
   "metadata": {},
   "outputs": [
    {
     "name": "stdout",
     "output_type": "stream",
     "text": [
      "(43.0, 79.0, 61.749404894327036)\n"
     ]
    }
   ],
   "source": [
    "#1. Calculate the min, max and average value for the ‘depth’ column\n",
    "min_depth = diamonds_df['depth'].min()\n",
    "max_depth = diamonds_df['depth'].max()\n",
    "avg_depth = diamonds_df['depth'].mean()\n",
    "result1 = (min_depth, max_depth, avg_depth)\n",
    "print(result1)"
   ]
  },
  {
   "cell_type": "code",
   "execution_count": 17,
   "id": "e9057767-2791-4bf7-9c2b-ec67d2aa68eb",
   "metadata": {},
   "outputs": [
    {
     "name": "stdout",
     "output_type": "stream",
     "text": [
      "['Ideal' 'Premium' 'Good' 'Very Good' 'Fair']\n"
     ]
    }
   ],
   "source": [
    "#2. List all the ‘cut’ values, each ‘cut’ value should appear once only\n",
    "unique_cuts = diamonds_df['cut'].unique()\n",
    "result2 = unique_cuts\n",
    "print(result2)"
   ]
  },
  {
   "cell_type": "code",
   "execution_count": 18,
   "id": "5e2c744d-7e92-4a87-992b-aa9cfc522dae",
   "metadata": {},
   "outputs": [
    {
     "name": "stdout",
     "output_type": "stream",
     "text": [
      "Ideal        21551\n",
      "Premium      13791\n",
      "Very Good    12082\n",
      "Good          4906\n",
      "Fair          1610\n",
      "Name: cut, dtype: int64\n"
     ]
    }
   ],
   "source": [
    "#3. Count and print the number of ‘diamonds’ for each cut\n",
    "cut_counts = diamonds_df['cut'].value_counts()\n",
    "result3 = cut_counts\n",
    "print(result3)"
   ]
  },
  {
   "cell_type": "code",
   "execution_count": 19,
   "id": "1e89105f-47c0-42fd-a631-4322b3dcaf24",
   "metadata": {},
   "outputs": [
    {
     "name": "stdout",
     "output_type": "stream",
     "text": [
      "146\n"
     ]
    }
   ],
   "source": [
    "#4. Print the number of duplicated rows in the data frame\n",
    "duplicated_rows = diamonds_df.duplicated().sum()\n",
    "result4 = duplicated_rows\n",
    "print(result4)"
   ]
  },
  {
   "cell_type": "code",
   "execution_count": 20,
   "id": "2f74ab50-c80e-45c4-ae9e-29fe39f89488",
   "metadata": {},
   "outputs": [
    {
     "name": "stdout",
     "output_type": "stream",
     "text": [
      "   carat      cut color clarity  depth  table  price\n",
      "0   0.23    Ideal     E     SI2   61.5   55.0    326\n",
      "1   0.21  Premium     E     SI1   59.8   61.0    326\n",
      "2   0.23     Good     E     VS1   56.9   65.0    327\n",
      "3   0.29  Premium     I     VS2   62.4   58.0    334\n",
      "4   0.31     Good     J     SI2   63.3   58.0    335\n"
     ]
    }
   ],
   "source": [
    "#5. Remove the columns that are marked with x,y,z from the data frame\n",
    "diamonds_df.drop(columns=['x', 'y', 'z'], inplace=True)\n",
    "result5 = diamonds_df.head()  # Displaying the first few rows after dropping the columns for verification\n",
    "print(result5)"
   ]
  },
  {
   "cell_type": "code",
   "execution_count": 21,
   "id": "4e23fe50-6a84-4ece-a47d-98f13f72c6cd",
   "metadata": {},
   "outputs": [
    {
     "name": "stdout",
     "output_type": "stream",
     "text": [
      "   carat        cut color clarity  depth  table  price\n",
      "5   0.24  Very Good     J    VVS2   62.8   57.0    336\n",
      "6   0.24  Very Good     I    VVS1   62.3   57.0    336\n",
      "7   0.26  Very Good     H     SI1   61.9   55.0    337\n",
      "8   0.22       Fair     E     VS2   65.1   61.0    337\n",
      "9   0.23  Very Good     H     VS1   59.4   61.0    338\n"
     ]
    }
   ],
   "source": [
    "#6. Print the rows for the diamonds where the cut is fair or very good\n",
    "fair_or_verygood = diamonds_df[(diamonds_df['cut'] == 'Fair') | (diamonds_df['cut'] == 'Very Good')]\n",
    "result6 = fair_or_verygood.head()  # Displaying the first few rows for verification\n",
    "print(result6)"
   ]
  }
 ],
 "metadata": {
  "kernelspec": {
   "display_name": "Python 3 (ipykernel)",
   "language": "python",
   "name": "python3"
  },
  "language_info": {
   "codemirror_mode": {
    "name": "ipython",
    "version": 3
   },
   "file_extension": ".py",
   "mimetype": "text/x-python",
   "name": "python",
   "nbconvert_exporter": "python",
   "pygments_lexer": "ipython3",
   "version": "3.8.18"
  }
 },
 "nbformat": 4,
 "nbformat_minor": 5
}
